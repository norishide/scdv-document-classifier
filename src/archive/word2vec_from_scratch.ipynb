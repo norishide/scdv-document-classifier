{
 "cells": [
  {
   "cell_type": "code",
   "execution_count": 1,
   "metadata": {},
   "outputs": [
    {
     "ename": "ModuleNotFoundError",
     "evalue": "No module named 'nltk'",
     "output_type": "error",
     "traceback": [
      "\u001b[0;31m---------------------------------------------------------------------------\u001b[0m",
      "\u001b[0;31mModuleNotFoundError\u001b[0m                       Traceback (most recent call last)",
      "\u001b[0;32m<ipython-input-1-511c736e760e>\u001b[0m in \u001b[0;36m<module>\u001b[0;34m\u001b[0m\n\u001b[1;32m      1\u001b[0m \u001b[0;32mfrom\u001b[0m \u001b[0mitertools\u001b[0m \u001b[0;32mimport\u001b[0m \u001b[0mstarmap\u001b[0m\u001b[0;34m\u001b[0m\u001b[0;34m\u001b[0m\u001b[0m\n\u001b[0;32m----> 2\u001b[0;31m \u001b[0;32mimport\u001b[0m \u001b[0mnltk\u001b[0m\u001b[0;34m\u001b[0m\u001b[0;34m\u001b[0m\u001b[0m\n\u001b[0m\u001b[1;32m      3\u001b[0m \u001b[0;32mimport\u001b[0m \u001b[0mre\u001b[0m\u001b[0;34m\u001b[0m\u001b[0;34m\u001b[0m\u001b[0m\n\u001b[1;32m      4\u001b[0m \u001b[0;32mimport\u001b[0m \u001b[0mtime\u001b[0m\u001b[0;34m\u001b[0m\u001b[0;34m\u001b[0m\u001b[0m\n\u001b[1;32m      5\u001b[0m \u001b[0;34m\u001b[0m\u001b[0m\n",
      "\u001b[0;31mModuleNotFoundError\u001b[0m: No module named 'nltk'"
     ]
    }
   ],
   "source": [
    "from itertools import starmap\n",
    "import nltk\n",
    "import re\n",
    "import time\n",
    "\n",
    "import numpy as np\n",
    "import pandas as pd\n",
    "import matplotlib.pyplot as plt\n",
    "plt.style.use('bmh')\n",
    "%matplotlib inline"
   ]
  },
  {
   "cell_type": "code",
   "execution_count": null,
   "metadata": {},
   "outputs": [],
   "source": [
    "parse = lambda corpus: list(map(nltk.word_tokenize, corpus))\n",
    "\n",
    "def tokenize(corpus_parsed):\n",
    "    vocabularies, unique_inverse = np.unique(np.hstack(corpus_parsed), return_inverse=True)\n",
    "    return vocabularies, np.split(unique_inverse, np.cumsum(list(map(len, corpus_parsed)))[:-1])\n",
    "\n",
    "def yield_io(corpus_tokenized, n_vocabularies, context_size):\n",
    "    roll = lambda a, window: map(a.__getitem__, starmap(slice, zip(range(len(a)), range(window, len(a) + 1))))\n",
    "    I = np.eye(n_vocabularies)\n",
    "    window = 2 * context_size\n",
    "    nans = [np.nan] * context_size\n",
    "    for words in corpus_tokenized:\n",
    "        words_extended = np.hstack([nans, words, nans])\n",
    "        C = np.delete(np.vstack(roll(words_extended, window)), context_size, axis=1)\n",
    "        for word, c, mask in zip(words, C, ~np.isnan(C)):\n",
    "            center_word = I[word]\n",
    "            context_words = I[c[mask].astype(int)]\n",
    "            yield center_word, context_words\n",
    "\n",
    "def initialize(n_embeddings, n_vocabularies, random_state=None):\n",
    "    M, V = n_embeddings, n_vocabularies\n",
    "    np.random.seed(random_state)\n",
    "    rand = np.random.rand\n",
    "    return rand(V, M), rand(M, V)\n",
    "\n",
    "def softmax(x):\n",
    "    normalize = lambda x: x / np.sum(x)\n",
    "    return normalize(np.exp(x - np.max(x)))\n",
    "\n",
    "def skipgram(center_word, context_words, W1, W2, loss, learning_rate):\n",
    "    x, L, eta = center_word, loss, learning_rate\n",
    "    h = np.dot(W1.T, x)\n",
    "    u = np.dot(W2.T, h)\n",
    "    y = softmax(u)\n",
    "    e = np.sum(y - context_words, axis=0)\n",
    "    dW2 = np.outer(h, e)\n",
    "    dW1 = np.outer(x, np.dot(W2, e))\n",
    "    W1 -= eta * dW1\n",
    "    W2 -= eta * dW2\n",
    "    L += -np.sum(u.dot(context_words.T)) + len(context_words) * np.log(np.sum(np.exp(u)))\n",
    "    return W1, W2, L\n",
    "\n",
    "predict = lambda W1, W2: lambda x: softmax(np.dot(W2.T, np.dot(W1.T, x)))"
   ]
  },
  {
   "cell_type": "code",
   "execution_count": null,
   "metadata": {},
   "outputs": [],
   "source": [
    "corpus = [\n",
    "    \"Donald John Trump (born June 14, 1946) is the 45th and current President of the United States, in office since January 20, 2017. Before entering politics, he was a businessman and television personality. Trump was born and raised in the New York City borough of Queens, and received an economics degree from the Wharton School of the University of Pennsylvania. He took charge of his family's real estate business in 1971, renamed it The Trump Organization, and expanded it into Manhattan. The company built or renovated several skyscrapers, hotels, casinos, and golf courses. Trump later started various side ventures, including licensing his name for real estate and consumer products. He managed the company until his 2017 inauguration. He co-authored several books, including The Art of the Deal. He owned the Miss Universe and Miss USA beauty pageants from 1996 to 2015, and he produced and hosted the reality television show The Apprentice from 2003 to 2015. According to March 2018 estimates by Forbes, he is the world's 766th richest person, with a net worth of US$3.1 billion. Trump entered the 2016 presidential race as a Republican and defeated sixteen opponents in the primaries. Commentators described his political positions as populist, protectionist, and nationalist. His campaign received extensive free media coverage; many of his public statements were controversial or false. Trump was elected president in a surprise victory over Democratic nominee Hillary Clinton. He became the oldest and wealthiest person ever to assume the presidency, the first without prior military or government service, and the fifth to have won the election while losing the popular vote. His election and policies have sparked numerous protests. During his presidency, Trump ordered a travel ban on citizens from several Muslim-majority countries, citing security concerns; a revised version of the ban was implemented after legal challenges. He signed tax cut legislation, rescinded the individual insurance mandate provision of the Affordable Care Act, and opened the Arctic Refuge for oil drilling. He enacted a partial repeal of the Dodd-Frank Act that had imposed stricter constraints on banks in the aftermath of the 2008 financial crisis. In foreign policy, he pursued his America First agenda: he withdrew the U.S. from the Trans-Pacific Partnership trade negotiations, the Paris Agreement on climate change, and the Iran nuclear deal. He recognized Jerusalem as the capital of Israel. He imposed import tariffs on various goods from China, Canada, Mexico and the European Union. After Trump dismissed FBI Director James Comey, the Justice Department appointed Robert Mueller as Special Counsel to investigate coordination or links between the Trump campaign and the Russian government in its election interference. Trump has repeatedly denied accusations of collusion and obstruction of justice, calling the investigation a politically motivated 'witch hunt'.\"\n",
    "]"
   ]
  },
  {
   "cell_type": "code",
   "execution_count": null,
   "metadata": {},
   "outputs": [],
   "source": [
    "stop_words = []"
   ]
  },
  {
   "cell_type": "code",
   "execution_count": null,
   "metadata": {},
   "outputs": [],
   "source": [
    "corpus_parsed = parse(corpus)\n",
    "vocabularies, corpus_tokenized = tokenize(corpus_parsed)\n",
    "V = len(vocabularies)"
   ]
  },
  {
   "cell_type": "code",
   "execution_count": null,
   "metadata": {},
   "outputs": [],
   "source": [
    "start = time.clock()\n",
    "W1, W2 = initialize(200, V, 42)\n",
    "loss_vs_epoch = []\n",
    "append = loss_vs_epoch.append\n",
    "for i in range(64):\n",
    "    loss = 0.\n",
    "    for center_word, context_words in yield_io(corpus_tokenized, V, 3):\n",
    "        W1, W2, loss = skipgram(center_word, context_words, W1, W2, loss, 0.01)\n",
    "    append([i + 1, loss])\n",
    "loss_vs_epoch = pd.DataFrame(loss_vs_epoch, columns=['epoch', 'loss']).set_index('epoch')\n",
    "print(time.clock() - start)"
   ]
  },
  {
   "cell_type": "code",
   "execution_count": null,
   "metadata": {},
   "outputs": [],
   "source": [
    "loss_vs_epoch.plot()\n",
    "# plt.xscale('log')"
   ]
  },
  {
   "cell_type": "raw",
   "metadata": {},
   "source": [
    "predict(W1, W2)(center_word)"
   ]
  },
  {
   "cell_type": "code",
   "execution_count": null,
   "metadata": {},
   "outputs": [],
   "source": [
    "word_vectors = dict(zip(vocabularies, W2.T))"
   ]
  },
  {
   "cell_type": "code",
   "execution_count": null,
   "metadata": {},
   "outputs": [],
   "source": [
    "word_vectors['Trump']"
   ]
  },
  {
   "cell_type": "code",
   "execution_count": null,
   "metadata": {},
   "outputs": [],
   "source": []
  }
 ],
 "metadata": {
  "kernelspec": {
   "display_name": "Python 3",
   "language": "python",
   "name": "python3"
  },
  "language_info": {
   "codemirror_mode": {
    "name": "ipython",
    "version": 3
   },
   "file_extension": ".py",
   "mimetype": "text/x-python",
   "name": "python",
   "nbconvert_exporter": "python",
   "pygments_lexer": "ipython3",
   "version": "3.7.5"
  }
 },
 "nbformat": 4,
 "nbformat_minor": 2
}
