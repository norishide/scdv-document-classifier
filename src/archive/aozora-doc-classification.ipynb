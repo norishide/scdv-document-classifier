{
 "cells": [
  {
   "cell_type": "code",
   "execution_count": 1,
   "metadata": {
    "scrolled": true
   },
   "outputs": [
    {
     "name": "stderr",
     "output_type": "stream",
     "text": [
      "Duplicate key in file '/home/ubuntu/.config/matplotlib/matplotlibrc' line #2.\n",
      "Duplicate key in file '/home/ubuntu/.config/matplotlib/matplotlibrc' line #3.\n"
     ]
    }
   ],
   "source": [
    "import datetime\n",
    "import os\n",
    "import json\n",
    "import re\n",
    "from functools import partial\n",
    "from itertools import count, filterfalse\n",
    "\n",
    "import numpy as np\n",
    "import pandas as pd\n",
    "from sklearn.datasets import fetch_20newsgroups\n",
    "from gensim.models import word2vec\n",
    "from sklearn.mixture import GaussianMixture\n",
    "from sklearn.feature_extraction.text import TfidfVectorizer"
   ]
  },
  {
   "cell_type": "markdown",
   "metadata": {},
   "source": [
    "### dump and load"
   ]
  },
  {
   "cell_type": "code",
   "execution_count": 2,
   "metadata": {},
   "outputs": [],
   "source": [
    "# logger\n",
    "def initialize_logger(dirpath='./output/pipeline'):\n",
    "    dirname = datetime.datetime.utcnow().strftime('%Y%m%dT%H%M%SZ')\n",
    "    os.makedirs(os.path.join(dirpath, dirname), exist_ok=True)\n",
    "    \n",
    "    def logger(filename, obj):    \n",
    "        filepath = os.path.join(dirpath, dirname, filename)\n",
    "        _, ext = os.path.splitext(filename)\n",
    "        if ext == '.npy':\n",
    "            np.save(filepath, obj)\n",
    "        elif ext == '.json':\n",
    "            json.dump(obj, open(filepath, 'w'), indent=4, ensure_ascii=False)\n",
    "        else :\n",
    "            raise Exception\n",
    "\n",
    "    return logger"
   ]
  },
  {
   "cell_type": "code",
   "execution_count": 3,
   "metadata": {},
   "outputs": [],
   "source": [
    "# loader\n",
    "def load_log(timestamp, filename, dirpath='./output/pipeline'):\n",
    "    filepath = os.path.join(dirpath, timestamp, filename)\n",
    "    \n",
    "    _, ext = os.path.splitext(filename)\n",
    "    if ext == '.npy':\n",
    "        return np.load(filepath)\n",
    "    elif ext == '.json':\n",
    "        return json.load(open(filepath, 'r'))\n",
    "    else :\n",
    "        raise Exception"
   ]
  },
  {
   "cell_type": "markdown",
   "metadata": {},
   "source": [
    "### preprocessing"
   ]
  },
  {
   "cell_type": "code",
   "execution_count": 4,
   "metadata": {},
   "outputs": [],
   "source": [
    "import pandas as pd\n",
    "from itertools import count\n",
    "\n",
    "\n",
    "input_train='./aozora_datasets_min/train_author_novel.csv'\n",
    "df_train = pd.read_csv(input_train)\n",
    "filename_author_map = dict(zip(df_train.filename, df_train.author_name))\n",
    "author_label_map = dict(zip(set(df_train.author_name), count())) "
   ]
  },
  {
   "cell_type": "code",
   "execution_count": 5,
   "metadata": {},
   "outputs": [],
   "source": [
    "import glob, os\n",
    "\n",
    "\n",
    "train_files = glob.glob('./aozora_datasets_min/train_datasets/*.txt')\n",
    "train_filenames = list(map(os.path.basename, train_files)) # doesnt reproduce result when iter is consumed\n",
    "train_authors = list(map(filename_author_map.get, train_filenames))"
   ]
  },
  {
   "cell_type": "code",
   "execution_count": 6,
   "metadata": {},
   "outputs": [
    {
     "data": {
      "text/plain": [
       "array([ 4,  0, 16, ..., 15, 10, 10])"
      ]
     },
     "execution_count": 6,
     "metadata": {},
     "output_type": "execute_result"
    }
   ],
   "source": [
    "y = np.array(list(map(author_label_map.get, train_authors)))\n",
    "y"
   ]
  },
  {
   "cell_type": "code",
   "execution_count": 7,
   "metadata": {
    "scrolled": false
   },
   "outputs": [
    {
     "data": {
      "text/plain": [
       "(1589,)"
      ]
     },
     "execution_count": 7,
     "metadata": {},
     "output_type": "execute_result"
    }
   ],
   "source": [
    "y.shape"
   ]
  },
  {
   "cell_type": "code",
   "execution_count": null,
   "metadata": {},
   "outputs": [],
   "source": []
  },
  {
   "cell_type": "code",
   "execution_count": 8,
   "metadata": {},
   "outputs": [],
   "source": [
    "import MeCab\n",
    "import pandas as pd\n",
    "import re\n",
    "# from mojimoji import han_to_zen, zen_to_han\n",
    "import numpy as np\n",
    "from collections import Counter\n",
    "from functools import partial, reduce\n",
    "from itertools import chain, count, filterfalse, repeat\n",
    "from operator import countOf, itemgetter, methodcaller\n",
    "\n",
    "compose = lambda *funcs: reduce(lambda f, g: lambda *args, **kwargs: f(g(*args, **kwargs)), funcs)\n",
    "flip = lambda f: lambda *args: f(*args[::-1])\n",
    "pipe = flip(compose)\n",
    "\n",
    "\n",
    "# str -> list\n",
    "split_text_into_lines = methodcaller('splitlines')\n",
    "# str -> str\n",
    "convert_text_to_lowercase = methodcaller('lower')\n",
    "# str -> str\n",
    "replace_whitespace_with_blank_char = partial(re.sub, \"\\s\", \" \")\n",
    "# str -> str\n",
    "remove_whitespace = partial(re.sub, \"\\s\", \"\")\n",
    "# str -> str\n",
    "strip_multiple_blank_chars_to_one = partial(re.sub, \" +\", \" \")\n",
    "# str -> str\n",
    "strip_consecutive_chars_to_one = lambda char='ー': partial(re.sub, '{}+'.format(char), '{}'.format(char))\n",
    "\n",
    "# str -> str\n",
    "def insert_text_between_blank_chars(text, patterns):\n",
    "    repls = map(\" {} \".format, patterns)\n",
    "    for pattern, repl in zip(patterns, repls):\n",
    "        text = text.replace(pattern, repl)\n",
    "    return text\n",
    "\n",
    "# str -> str\n",
    "def remove_whitespace_between_japanese_chars(text):\n",
    "    \"\"\"\n",
    "    \"\"\"\n",
    "    chars = \"[、。〃々〆〇ぁ-んゔゝゞァ-ンヴヵヶ・ーヽヾ一-龥]\"\n",
    "    pattern = \"(?<={chars})\\s+(?={chars})\".format(chars=chars)\n",
    "    repl = \"\"\n",
    "    return re.sub(pattern, repl, text)\n",
    "\n",
    "# str -> list\n",
    "parse_tab_separated_text = re.compile(\"\\t\").split\n",
    "noisy_symbols = list('!\"#$%&\\'()*+,-./:;<=>?@[]^_`{|}¢£¥§¨¬°±´¶×÷‐―‖\"†‡‥…‰′″※℃Å←↑→↓⇒⇔∀∂∃∇∈∋−√∝∞∠∧∨∩∪∫∬∴∵∽≒≠≡≦≧≪≫⊂⊃⊆⊇⊥⌒─━│┃┌┏┐┓└┗┘┛├┝┠┣┤┥┨┫┬┯┰┳┴┷┸┻┼┿╂╋■□▲△▼▽◆◇○◎●◯★☆♀♂♪♭♯＃〈〉《》「」『』【】〒〓〔〕〜゛゜・＼／｀￣（）。、”’｀？！［］')\n",
    "\n",
    "def maybe_lemmatize(mecab_node):\n",
    "    for surface, feature in map(re.compile('\\t').split, mecab_node.splitlines()[:-1]):\n",
    "        if len(feature.split(',')) == 7:\n",
    "            yield surface\n",
    "        else:\n",
    "            yield feature.split(',')[6]\n",
    "\n",
    "def remove_noisy_symbols(raw_tokens):\n",
    "    remove = dict.fromkeys(noisy_symbols, True).get\n",
    "    return filterfalse(remove, raw_tokens)\n",
    "\n",
    "preprocess = pipe(\n",
    "    str,\n",
    "#     han_to_zen,\n",
    "#     partial(zen_to_han, kana=False),\n",
    "    convert_text_to_lowercase,\n",
    "    replace_whitespace_with_blank_char,\n",
    "    remove_whitespace_between_japanese_chars,\n",
    "    strip_consecutive_chars_to_one(),\n",
    "    partial(insert_text_between_blank_chars, patterns=noisy_symbols),\n",
    "    strip_multiple_blank_chars_to_one,\n",
    "#     partial(re.sub, '\\d', '0'),\n",
    "    MeCab.Tagger().parse,\n",
    "    maybe_lemmatize,\n",
    "    remove_noisy_symbols,\n",
    "    list\n",
    ")\n",
    "\n",
    "\n",
    "def tokenize_ja(path):\n",
    "    with open(path) as f:\n",
    "        lines = f.readlines()\n",
    "        lines = [preprocess(line) for line in lines] \n",
    "        return list(chain.from_iterable(lines))"
   ]
  },
  {
   "cell_type": "code",
   "execution_count": 47,
   "metadata": {},
   "outputs": [],
   "source": [
    "data = pd.DataFrame(columns=['author', 'tokens'])"
   ]
  },
  {
   "cell_type": "code",
   "execution_count": 48,
   "metadata": {},
   "outputs": [],
   "source": [
    "data['author'] = train_authors"
   ]
  },
  {
   "cell_type": "code",
   "execution_count": 52,
   "metadata": {},
   "outputs": [],
   "source": [
    "data['tokens'] = [tokenize_ja(path) for path in train_files]"
   ]
  },
  {
   "cell_type": "code",
   "execution_count": 53,
   "metadata": {},
   "outputs": [
    {
     "data": {
      "text/html": [
       "<div>\n",
       "<style scoped>\n",
       "    .dataframe tbody tr th:only-of-type {\n",
       "        vertical-align: middle;\n",
       "    }\n",
       "\n",
       "    .dataframe tbody tr th {\n",
       "        vertical-align: top;\n",
       "    }\n",
       "\n",
       "    .dataframe thead th {\n",
       "        text-align: right;\n",
       "    }\n",
       "</style>\n",
       "<table border=\"1\" class=\"dataframe\">\n",
       "  <thead>\n",
       "    <tr style=\"text-align: right;\">\n",
       "      <th></th>\n",
       "      <th>author</th>\n",
       "      <th>tokens</th>\n",
       "    </tr>\n",
       "  </thead>\n",
       "  <tbody>\n",
       "    <tr>\n",
       "      <th>0</th>\n",
       "      <td>江戸川 乱歩</td>\n",
       "      <td>[空, とぶ, 円盤, 空, とぶ, 円盤, は, 中, 見出し, 空, とぶ, 円盤, は...</td>\n",
       "    </tr>\n",
       "    <tr>\n",
       "      <th>1</th>\n",
       "      <td>折口 信夫</td>\n",
       "      <td>[一, 飛鳥, の, 都, 以後, 奈良, 朝, 以前, の, 感情, 生活, の, 記録,...</td>\n",
       "    </tr>\n",
       "    <tr>\n",
       "      <th>2</th>\n",
       "      <td>中谷 宇吉郎</td>\n",
       "      <td>[六, 華, 豊年, の, 兆, という, 言葉, が, ある, 位, 雪, の, 結晶, ...</td>\n",
       "    </tr>\n",
       "    <tr>\n",
       "      <th>3</th>\n",
       "      <td>坂本 竜馬</td>\n",
       "      <td>[扨, も, 人間, の, 一世, ひと, よ, ハ, がてん, がてん, に, 合点, の...</td>\n",
       "    </tr>\n",
       "    <tr>\n",
       "      <th>4</th>\n",
       "      <td>岡本 綺堂</td>\n",
       "      <td>[一, 秋, の, 夜, の, 長い, 頃, だ, ある, た, わたし, が, 例, の,...</td>\n",
       "    </tr>\n",
       "    <tr>\n",
       "      <th>...</th>\n",
       "      <td>...</td>\n",
       "      <td>...</td>\n",
       "    </tr>\n",
       "    <tr>\n",
       "      <th>1584</th>\n",
       "      <td>岡本 綺堂</td>\n",
       "      <td>[餅, を, 買う, 女, 小夜, の, 中山, の, 夜, 泣石, の, 伝説, も, 支...</td>\n",
       "    </tr>\n",
       "    <tr>\n",
       "      <th>1585</th>\n",
       "      <td>中谷 宇吉郎</td>\n",
       "      <td>[サントリー, の, 鳥井, 信, 治郎, さん, と, は, もう, 三, 十, 年, 越...</td>\n",
       "    </tr>\n",
       "    <tr>\n",
       "      <th>1586</th>\n",
       "      <td>吉川 英治</td>\n",
       "      <td>[７, 字, 下げ, 一, 一, は, 中, 見出し, 笛, は, 孤独, だ, たのしめる...</td>\n",
       "    </tr>\n",
       "    <tr>\n",
       "      <th>1587</th>\n",
       "      <td>紫式部</td>\n",
       "      <td>[地, から, ３, 字, 上げ, 皮, ごろ, も, 上, に, 着る, たり, ば, 我...</td>\n",
       "    </tr>\n",
       "    <tr>\n",
       "      <th>1588</th>\n",
       "      <td>紫式部</td>\n",
       "      <td>[地, から, ３, 字, 上げ, 露, 置く, て, くれる, な, ゐる, いとど, 深...</td>\n",
       "    </tr>\n",
       "  </tbody>\n",
       "</table>\n",
       "<p>1589 rows × 2 columns</p>\n",
       "</div>"
      ],
      "text/plain": [
       "      author                                             tokens\n",
       "0     江戸川 乱歩  [空, とぶ, 円盤, 空, とぶ, 円盤, は, 中, 見出し, 空, とぶ, 円盤, は...\n",
       "1      折口 信夫  [一, 飛鳥, の, 都, 以後, 奈良, 朝, 以前, の, 感情, 生活, の, 記録,...\n",
       "2     中谷 宇吉郎  [六, 華, 豊年, の, 兆, という, 言葉, が, ある, 位, 雪, の, 結晶, ...\n",
       "3      坂本 竜馬  [扨, も, 人間, の, 一世, ひと, よ, ハ, がてん, がてん, に, 合点, の...\n",
       "4      岡本 綺堂  [一, 秋, の, 夜, の, 長い, 頃, だ, ある, た, わたし, が, 例, の,...\n",
       "...      ...                                                ...\n",
       "1584   岡本 綺堂  [餅, を, 買う, 女, 小夜, の, 中山, の, 夜, 泣石, の, 伝説, も, 支...\n",
       "1585  中谷 宇吉郎  [サントリー, の, 鳥井, 信, 治郎, さん, と, は, もう, 三, 十, 年, 越...\n",
       "1586   吉川 英治  [７, 字, 下げ, 一, 一, は, 中, 見出し, 笛, は, 孤独, だ, たのしめる...\n",
       "1587    紫式部   [地, から, ３, 字, 上げ, 皮, ごろ, も, 上, に, 着る, たり, ば, 我...\n",
       "1588    紫式部   [地, から, ３, 字, 上げ, 露, 置く, て, くれる, な, ゐる, いとど, 深...\n",
       "\n",
       "[1589 rows x 2 columns]"
      ]
     },
     "execution_count": 53,
     "metadata": {},
     "output_type": "execute_result"
    }
   ],
   "source": [
    "data"
   ]
  },
  {
   "cell_type": "code",
   "execution_count": 57,
   "metadata": {},
   "outputs": [
    {
     "data": {
      "text/html": [
       "<div>\n",
       "<style scoped>\n",
       "    .dataframe tbody tr th:only-of-type {\n",
       "        vertical-align: middle;\n",
       "    }\n",
       "\n",
       "    .dataframe tbody tr th {\n",
       "        vertical-align: top;\n",
       "    }\n",
       "\n",
       "    .dataframe thead th {\n",
       "        text-align: right;\n",
       "    }\n",
       "</style>\n",
       "<table border=\"1\" class=\"dataframe\">\n",
       "  <thead>\n",
       "    <tr style=\"text-align: right;\">\n",
       "      <th></th>\n",
       "      <th>author</th>\n",
       "      <th>tokens</th>\n",
       "    </tr>\n",
       "  </thead>\n",
       "  <tbody>\n",
       "  </tbody>\n",
       "</table>\n",
       "</div>"
      ],
      "text/plain": [
       "Empty DataFrame\n",
       "Columns: [author, tokens]\n",
       "Index: []"
      ]
     },
     "execution_count": 57,
     "metadata": {},
     "output_type": "execute_result"
    }
   ],
   "source": [
    "data.loc[data.isnull().any(axis=1)]"
   ]
  },
  {
   "cell_type": "code",
   "execution_count": 10,
   "metadata": {},
   "outputs": [
    {
     "ename": "NameError",
     "evalue": "name 'data' is not defined",
     "output_type": "error",
     "traceback": [
      "\u001b[0;31m---------------------------------------------------------------------------\u001b[0m",
      "\u001b[0;31mNameError\u001b[0m                                 Traceback (most recent call last)",
      "\u001b[0;32m<ipython-input-10-0060436ada07>\u001b[0m in \u001b[0;36m<module>\u001b[0;34m\u001b[0m\n\u001b[1;32m      1\u001b[0m \u001b[0;31m# dump preprocessed data\u001b[0m\u001b[0;34m\u001b[0m\u001b[0;34m\u001b[0m\u001b[0;34m\u001b[0m\u001b[0m\n\u001b[1;32m      2\u001b[0m \u001b[0;34m\u001b[0m\u001b[0m\n\u001b[0;32m----> 3\u001b[0;31m \u001b[0mcorpus_tokenized_ja\u001b[0m \u001b[0;34m=\u001b[0m \u001b[0mdata\u001b[0m\u001b[0;34m[\u001b[0m\u001b[0;34m'tokens'\u001b[0m\u001b[0;34m]\u001b[0m\u001b[0;34m.\u001b[0m\u001b[0mtolist\u001b[0m\u001b[0;34m(\u001b[0m\u001b[0;34m)\u001b[0m\u001b[0;34m\u001b[0m\u001b[0;34m\u001b[0m\u001b[0m\n\u001b[0m\u001b[1;32m      4\u001b[0m \u001b[0mlogger\u001b[0m \u001b[0;34m=\u001b[0m \u001b[0minitialize_logger\u001b[0m\u001b[0;34m(\u001b[0m\u001b[0;34m)\u001b[0m\u001b[0;34m\u001b[0m\u001b[0;34m\u001b[0m\u001b[0m\n\u001b[1;32m      5\u001b[0m \u001b[0mlogger\u001b[0m\u001b[0;34m(\u001b[0m\u001b[0;34m'corpus_tokenized_ja.json'\u001b[0m\u001b[0;34m,\u001b[0m \u001b[0mcorpus_tokenized_ja\u001b[0m\u001b[0;34m)\u001b[0m\u001b[0;34m\u001b[0m\u001b[0;34m\u001b[0m\u001b[0m\n",
      "\u001b[0;31mNameError\u001b[0m: name 'data' is not defined"
     ]
    }
   ],
   "source": [
    "# dump preprocessed data\n",
    "\n",
    "corpus_tokenized_ja = data['tokens'].tolist()\n",
    "logger = initialize_logger()\n",
    "logger('corpus_tokenized_ja.json', corpus_tokenized_ja)"
   ]
  },
  {
   "cell_type": "code",
   "execution_count": 9,
   "metadata": {},
   "outputs": [
    {
     "data": {
      "image/png": "[encoded data removed]",
      "text/plain": [
       "<Figure size 432x288 with 1 Axes>"
      ]
     },
     "metadata": {
      "needs_background": "light"
     },
     "output_type": "display_data"
    }
   ],
   "source": [
    "# overview japanese corpus\n",
    "import matplotlib.pyplot as plt\n",
    "\n",
    "corpus_tokenized_ja = load_log('20200208T072910Z','corpus_tokenized_ja.json')\n",
    "len_tokens_ja = list(map(len, corpus_tokenized_ja))\n",
    "plt.hist(len_tokens_ja, bins=40)\n",
    "plt.yscale('log')"
   ]
  },
  {
   "cell_type": "code",
   "execution_count": 10,
   "metadata": {
    "scrolled": true
   },
   "outputs": [
    {
     "data": {
      "text/plain": [
       "1589"
      ]
     },
     "execution_count": 10,
     "metadata": {},
     "output_type": "execute_result"
    }
   ],
   "source": [
    "len(corpus_tokenized_ja)"
   ]
  },
  {
   "cell_type": "markdown",
   "metadata": {},
   "source": [
    "### vectorize"
   ]
  },
  {
   "cell_type": "code",
   "execution_count": 44,
   "metadata": {},
   "outputs": [],
   "source": [
    "# get word vectors by gensim\n",
    "def build_word_embedding_vectors(corpus_tokenized, word2vec_parameters):\n",
    "    model = word2vec.Word2Vec(corpus_tokenized, **word2vec_parameters)\n",
    "    return model.wv.vectors, model.wv.index2word"
   ]
  },
  {
   "cell_type": "code",
   "execution_count": 45,
   "metadata": {},
   "outputs": [],
   "source": [
    "# culster word vectors by GMM\n",
    "def culster_embedding_vectors(word_embeddings, gmm_parameters) -> np.ndarray:\n",
    "    X = word_embeddings\n",
    "    gm = GaussianMixture(**gmm_parameters)\n",
    "    gm.fit(X)\n",
    "    return gm.predict_proba(X)"
   ]
  },
  {
   "cell_type": "code",
   "execution_count": 46,
   "metadata": {},
   "outputs": [],
   "source": [
    "# TF-IDF takes 20 min\n",
    "# Use for Japanese\n",
    "from collections import Counter\n",
    "from itertools import chain, repeat\n",
    "from operator import countOf\n",
    "\n",
    "\n",
    "def build_tfidf_selfmade(corpus, vocab):\n",
    "    countup = lambda doc: list(map(countOf, repeat(doc), vocab))\n",
    "    tf = np.array(list(map(countup, corpus)))\n",
    "    idf = np.log(len(corpus) / (tf > 0).sum(axis=0)) + 1\n",
    "    return tf, idf, tf*idf"
   ]
  },
  {
   "cell_type": "code",
   "execution_count": 47,
   "metadata": {},
   "outputs": [],
   "source": [
    "# TF-IDF\n",
    "# cannot be used for JApanese\n",
    "from sklearn.feature_extraction.text import TfidfVectorizer\n",
    "\n",
    "def build_tfidf_sklearn(corpus_tokenized, vocab):\n",
    "    tfv = TfidfVectorizer(token_pattern='(?u)\\\\b\\\\w+\\\\b', strip_accents='unicode', dtype=np.float64)\n",
    "    tfv.fit(list(map(' '.join, corpus_tokenized)))\n",
    "    feature_names = tfv.get_feature_names()\n",
    "    idf = tfv._tfidf.idf_\n",
    "    print(len(feature_names), len(idf), len(vocab))\n",
    "    return np.fromiter(map(dict(zip(feature_names, idf)).get, vocab), dtype='f8')    "
   ]
  },
  {
   "cell_type": "code",
   "execution_count": 48,
   "metadata": {},
   "outputs": [],
   "source": [
    "def build_word_topic_vector(word_embedding_vectors, word_cluster_probabilities, idf_vector):\n",
    "    wcv = np.einsum('ij,ik->ijk', word_embedding_vectors, word_cluster_probabilities).reshape(word_embedding_vectors.shape[0], -1)\n",
    "    return np.einsum('i,ij->ij', idf_vector, wcv)"
   ]
  },
  {
   "cell_type": "code",
   "execution_count": 49,
   "metadata": {},
   "outputs": [],
   "source": [
    "# document vectors\n",
    "def count(i=0):\n",
    "    while True:\n",
    "        yield i\n",
    "        i+=1\n",
    "\n",
    "def normalize_document_vectors(dv: np.ndarray) -> np.ndarray:\n",
    "    dv_sum = np.square(dv).sum(axis=1)\n",
    "    dv_l2norm = np.sqrt(dv_sum)\n",
    "    return np.einsum('ij,i->ij', dv, 1.0/dv_l2norm)\n",
    "\n",
    "def build_document_vectors(vocabulary, corpus_tokenized, word_topic_vectors):\n",
    "    vocabulary_idx_map = dict(zip(vocabulary, count()))\n",
    "    \n",
    "    document_vecotrs = []\n",
    "    for doc in corpus_tokenized:\n",
    "        doc_idx = list(filter(lambda idx: idx is not None, map(vocabulary_idx_map.get, doc)))\n",
    "        document_vecotrs.append(np.einsum('ij->j',word_topic_vectors[doc_idx]))\n",
    "    \n",
    "    return normalize_document_vectors(np.array(document_vecotrs))"
   ]
  },
  {
   "cell_type": "code",
   "execution_count": 50,
   "metadata": {},
   "outputs": [],
   "source": [
    "# SCDV\n",
    "def make_sparse(document_vectors, param):\n",
    "    t = 0.5 * (np.abs(np.min(document_vectors, axis=1).mean()) + np.abs(np.max(document_vectors, axis=1).mean()))\n",
    "    sparsity_threshold = param * t\n",
    "    mask = np.abs(document_vectors) < sparsity_threshold\n",
    "    return np.where(mask, 0.0, document_vectors)"
   ]
  },
  {
   "cell_type": "code",
   "execution_count": 51,
   "metadata": {},
   "outputs": [
    {
     "ename": "NameError",
     "evalue": "name 'corpus_tokenized_ja' is not defined",
     "output_type": "error",
     "traceback": [
      "\u001b[0;31m---------------------------------------------------------------------------\u001b[0m",
      "\u001b[0;31mNameError\u001b[0m                                 Traceback (most recent call last)",
      "\u001b[0;32m<ipython-input-51-f133c87f125a>\u001b[0m in \u001b[0;36m<module>\u001b[0;34m\u001b[0m\n\u001b[1;32m     12\u001b[0m }\n\u001b[1;32m     13\u001b[0m \u001b[0;34m\u001b[0m\u001b[0m\n\u001b[0;32m---> 14\u001b[0;31m \u001b[0mword_embedding_vectors\u001b[0m\u001b[0;34m,\u001b[0m \u001b[0mvocabulary\u001b[0m \u001b[0;34m=\u001b[0m \u001b[0mbuild_word_embedding_vectors\u001b[0m\u001b[0;34m(\u001b[0m\u001b[0mcorpus_tokenized_ja\u001b[0m\u001b[0;34m,\u001b[0m \u001b[0mword2vec_parameters\u001b[0m\u001b[0;34m)\u001b[0m\u001b[0;34m\u001b[0m\u001b[0;34m\u001b[0m\u001b[0m\n\u001b[0m",
      "\u001b[0;31mNameError\u001b[0m: name 'corpus_tokenized_ja' is not defined"
     ]
    }
   ],
   "source": [
    "word2vec_parameters = {\n",
    "    'size':200,   # Word vector dimensionality\n",
    "    'min_count':20,    # Minimum word count\n",
    "    'workers':40,    # Number of threads to run in parallel\n",
    "    'window':10,    # Context window size\n",
    "    'sample':1e-3,    # Downsample setting for frequent words\n",
    "    'hs':0,\n",
    "    'sg':1,\n",
    "    'negative':10,\n",
    "    'iter':25,\n",
    "    'seed':1\n",
    "}\n",
    "\n",
    "word_embedding_vectors, vocabulary = build_word_embedding_vectors(corpus_tokenized_ja, word2vec_parameters)"
   ]
  },
  {
   "cell_type": "code",
   "execution_count": 18,
   "metadata": {
    "collapsed": true
   },
   "outputs": [
    {
     "ename": "NameError",
     "evalue": "name 'word_embedding_vectors' is not defined",
     "output_type": "error",
     "traceback": [
      "\u001b[0;31m---------------------------------------------------------------------------\u001b[0m",
      "\u001b[0;31mNameError\u001b[0m                                 Traceback (most recent call last)",
      "\u001b[0;32m<ipython-input-18-a728df242ecb>\u001b[0m in \u001b[0;36m<module>\u001b[0;34m\u001b[0m\n\u001b[1;32m      1\u001b[0m \u001b[0mlogger\u001b[0m \u001b[0;34m=\u001b[0m \u001b[0minitialize_logger\u001b[0m\u001b[0;34m(\u001b[0m\u001b[0;34m)\u001b[0m\u001b[0;34m\u001b[0m\u001b[0;34m\u001b[0m\u001b[0m\n\u001b[0;32m----> 2\u001b[0;31m \u001b[0mlogger\u001b[0m\u001b[0;34m(\u001b[0m\u001b[0;34m'word_embedding_vectors.npy'\u001b[0m\u001b[0;34m,\u001b[0m \u001b[0mword_embedding_vectors\u001b[0m\u001b[0;34m)\u001b[0m\u001b[0;34m\u001b[0m\u001b[0;34m\u001b[0m\u001b[0m\n\u001b[0m\u001b[1;32m      3\u001b[0m \u001b[0mlogger\u001b[0m\u001b[0;34m(\u001b[0m\u001b[0;34m'vocabulary.json'\u001b[0m\u001b[0;34m,\u001b[0m \u001b[0mvocabulary\u001b[0m\u001b[0;34m)\u001b[0m\u001b[0;34m\u001b[0m\u001b[0;34m\u001b[0m\u001b[0m\n",
      "\u001b[0;31mNameError\u001b[0m: name 'word_embedding_vectors' is not defined"
     ]
    }
   ],
   "source": [
    "logger = initialize_logger()\n",
    "logger('word_embedding_vectors.npy', word_embedding_vectors)\n",
    "logger('vocabulary.json', vocabulary)"
   ]
  },
  {
   "cell_type": "code",
   "execution_count": 19,
   "metadata": {},
   "outputs": [
    {
     "data": {
      "text/plain": [
       "((30639, 200), 30639)"
      ]
     },
     "execution_count": 19,
     "metadata": {},
     "output_type": "execute_result"
    }
   ],
   "source": [
    "timestamp = '20200211T051316Z'\n",
    "word_embedding_vectors = load_log(timestamp,'word_embedding_vectors.npy')\n",
    "vocabulary = load_log(timestamp,'vocabulary.json')\n",
    "word_embedding_vectors.shape, len(vocabulary)"
   ]
  },
  {
   "cell_type": "code",
   "execution_count": 20,
   "metadata": {},
   "outputs": [],
   "source": [
    "gmm_parameters = {\n",
    "    'n_components':60,\n",
    "    'random_state':42,\n",
    "    'covariance_type':'tied',\n",
    "    'init_params':'kmeans',\n",
    "    'max_iter':50\n",
    "}\n",
    "\n",
    "word_cluster_probability_matrix = culster_embedding_vectors(word_embedding_vectors, gmm_parameters)"
   ]
  },
  {
   "cell_type": "code",
   "execution_count": 21,
   "metadata": {},
   "outputs": [],
   "source": [
    "logger = initialize_logger()\n",
    "logger('word_cluster_probabilities.npy', word_cluster_probability_matrix)"
   ]
  },
  {
   "cell_type": "code",
   "execution_count": 23,
   "metadata": {},
   "outputs": [
    {
     "data": {
      "text/plain": [
       "(30639, 60)"
      ]
     },
     "execution_count": 23,
     "metadata": {},
     "output_type": "execute_result"
    }
   ],
   "source": [
    "timestamp = '20200211T065328Z'\n",
    "word_cluster_probability_matrix = load_log(timestamp,'word_cluster_probabilities.npy')\n",
    "word_cluster_probability_matrix.shape"
   ]
  },
  {
   "cell_type": "code",
   "execution_count": 24,
   "metadata": {},
   "outputs": [],
   "source": [
    "# tf, idf, tfidf = build_tfidf_selfmade(corpus_tokenized_ja, vocabulary)"
   ]
  },
  {
   "cell_type": "code",
   "execution_count": 26,
   "metadata": {},
   "outputs": [],
   "source": [
    "# logger = initialize_logger()\n",
    "# logger('tf_matrix.npy', tf)\n",
    "# logger('idf_vector.npy', idf)\n",
    "# logger('tfidf_matrix.npy', tfidf)"
   ]
  },
  {
   "cell_type": "code",
   "execution_count": 24,
   "metadata": {},
   "outputs": [],
   "source": [
    "tf_matrix = load_log('20200209T192435Z','tf_matrix.npy')\n",
    "idf_vector = load_log('20200209T192435Z','idf_vector.npy')\n",
    "tfidf_matrix = load_log('20200209T192435Z','tfidf_matrix.npy')"
   ]
  },
  {
   "cell_type": "code",
   "execution_count": 25,
   "metadata": {},
   "outputs": [
    {
     "data": {
      "text/plain": [
       "((1589, 30639), (30639,), (1589, 30639))"
      ]
     },
     "execution_count": 25,
     "metadata": {},
     "output_type": "execute_result"
    }
   ],
   "source": [
    "tf_matrix.shape, idf_vector.shape, tfidf_matrix.shape"
   ]
  },
  {
   "cell_type": "code",
   "execution_count": 26,
   "metadata": {},
   "outputs": [],
   "source": [
    "word_topic_vectors = build_word_topic_vector(word_embedding_vectors, word_cluster_probability_matrix, idf_vector)\n",
    "document_vectors = build_document_vectors(vocabulary, corpus_tokenized_ja, word_topic_vectors)\n",
    "param = 0.04\n",
    "scdv = make_sparse(document_vectors, param)"
   ]
  },
  {
   "cell_type": "code",
   "execution_count": 28,
   "metadata": {},
   "outputs": [],
   "source": [
    "# logger = initialize_logger()\n",
    "logger('scdv.npy', scdv)"
   ]
  },
  {
   "cell_type": "code",
   "execution_count": 29,
   "metadata": {},
   "outputs": [
    {
     "data": {
      "text/plain": [
       "(1589, 12000)"
      ]
     },
     "execution_count": 29,
     "metadata": {},
     "output_type": "execute_result"
    }
   ],
   "source": [
    "timestamp = '20200211T065328Z'\n",
    "scdv = load_log(timestamp,'scdv.npy')\n",
    "scdv.shape"
   ]
  },
  {
   "cell_type": "markdown",
   "metadata": {},
   "source": [
    "### classification validation with SCDV"
   ]
  },
  {
   "cell_type": "code",
   "execution_count": 32,
   "metadata": {},
   "outputs": [
    {
     "data": {
      "text/plain": [
       "((1589, 12000), (1589,))"
      ]
     },
     "execution_count": 32,
     "metadata": {},
     "output_type": "execute_result"
    }
   ],
   "source": [
    "X = scdv\n",
    "X.shape, y.shape"
   ]
  },
  {
   "cell_type": "code",
   "execution_count": 49,
   "metadata": {},
   "outputs": [],
   "source": [
    "def kfold_splitter(n_samples, n_folds, rng):\n",
    "    shuffled_fold_indices = rng.permutation(np.arange(n_samples) % n_folds)\n",
    "    for k in range(n_folds):\n",
    "        mask = shuffled_fold_indices == k\n",
    "        yield tuple(map(np.flatnonzero, (mask, ~mask)))"
   ]
  },
  {
   "cell_type": "code",
   "execution_count": 35,
   "metadata": {},
   "outputs": [],
   "source": [
    "from sklearn.ensemble import RandomForestClassifier\n",
    "from sklearn.metrics import balanced_accuracy_score\n",
    "\n",
    "clf = RandomForestClassifier(random_state=0, max_depth=None, max_features='sqrt',\n",
    "                             class_weight='balanced', n_jobs=-1)"
   ]
  },
  {
   "cell_type": "code",
   "execution_count": 36,
   "metadata": {},
   "outputs": [],
   "source": [
    "n_fold = 5\n",
    "n_samples = y.size\n",
    "rng = np.random.RandomState(42)\n",
    "\n",
    "accuracy_train = []\n",
    "accuracy_test = []\n",
    "\n",
    "for test_idx, train_idx in kfold_splitter(n_samples, n_fold, rng):\n",
    "    y_test = y[test_idx]\n",
    "    y_train = y[train_idx]\n",
    "    X_test = X[test_idx]\n",
    "    X_train = X[train_idx]\n",
    "    \n",
    "    clf.fit(X_train, y_train)\n",
    "    \n",
    "    y_pred = clf.predict(X_train)\n",
    "    bas = balanced_accuracy_score(y_train, y_pred)\n",
    "    accuracy_train.append(bas)\n",
    "    \n",
    "    y_pred = clf.predict(X_test)\n",
    "    bas = balanced_accuracy_score(y_test, y_pred)\n",
    "    accuracy_test.append(bas)\n",
    "\n",
    "accuracy_train = np.array(accuracy_train)\n",
    "accuracy_test = np.array(accuracy_test)"
   ]
  },
  {
   "cell_type": "code",
   "execution_count": 37,
   "metadata": {},
   "outputs": [
    {
     "data": {
      "text/plain": [
       "array([1., 1., 1., 1., 1.])"
      ]
     },
     "execution_count": 37,
     "metadata": {},
     "output_type": "execute_result"
    }
   ],
   "source": [
    "accuracy_train"
   ]
  },
  {
   "cell_type": "code",
   "execution_count": 38,
   "metadata": {},
   "outputs": [
    {
     "data": {
      "text/plain": [
       "array([0.89537489, 0.89033353, 0.89159108, 0.91264606, 0.93791923])"
      ]
     },
     "execution_count": 38,
     "metadata": {},
     "output_type": "execute_result"
    }
   ],
   "source": [
    "accuracy_test"
   ]
  },
  {
   "cell_type": "code",
   "execution_count": 39,
   "metadata": {},
   "outputs": [
    {
     "data": {
      "text/plain": [
       "0.9055729602537724"
      ]
     },
     "execution_count": 39,
     "metadata": {},
     "output_type": "execute_result"
    }
   ],
   "source": [
    "np.average(accuracy_test)"
   ]
  },
  {
   "cell_type": "code",
   "execution_count": null,
   "metadata": {},
   "outputs": [],
   "source": []
  },
  {
   "cell_type": "code",
   "execution_count": null,
   "metadata": {},
   "outputs": [],
   "source": []
  },
  {
   "cell_type": "markdown",
   "metadata": {},
   "source": [
    "### classification validation with TF-IDF"
   ]
  },
  {
   "cell_type": "code",
   "execution_count": 41,
   "metadata": {},
   "outputs": [
    {
     "data": {
      "text/plain": [
       "((1589, 30639), (1589,))"
      ]
     },
     "execution_count": 41,
     "metadata": {},
     "output_type": "execute_result"
    }
   ],
   "source": [
    "X = tfidf_matrix\n",
    "X.shape, y.shape"
   ]
  },
  {
   "cell_type": "code",
   "execution_count": 17,
   "metadata": {},
   "outputs": [],
   "source": [
    "def kfold_splitter(n_samples, n_folds, rng):\n",
    "    shuffled_fold_indices = rng.permutation(np.arange(n_samples) % n_folds)\n",
    "    for k in range(n_folds):\n",
    "        mask = shuffled_fold_indices == k\n",
    "        yield tuple(map(np.flatnonzero, (mask, ~mask)))"
   ]
  },
  {
   "cell_type": "code",
   "execution_count": 43,
   "metadata": {},
   "outputs": [],
   "source": [
    "from sklearn.ensemble import RandomForestClassifier\n",
    "from sklearn.metrics import balanced_accuracy_score\n",
    "\n",
    "clf = RandomForestClassifier(random_state=0, max_depth=None, max_features='sqrt',\n",
    "                             class_weight='balanced', n_jobs=-1)"
   ]
  },
  {
   "cell_type": "code",
   "execution_count": 44,
   "metadata": {},
   "outputs": [],
   "source": [
    "n_fold = 5\n",
    "n_samples = y.size\n",
    "rng = np.random.RandomState(42)\n",
    "\n",
    "accuracy_train = []\n",
    "accuracy_test = []\n",
    "\n",
    "for test_idx, train_idx in kfold_splitter(n_samples, n_fold, rng):\n",
    "    y_test = y[test_idx]\n",
    "    y_train = y[train_idx]\n",
    "    X_test = X[test_idx]\n",
    "    X_train = X[train_idx]\n",
    "    \n",
    "    clf.fit(X_train, y_train)\n",
    "    \n",
    "    y_pred = clf.predict(X_train)\n",
    "    bas = balanced_accuracy_score(y_train, y_pred)\n",
    "    accuracy_train.append(bas)\n",
    "    \n",
    "    y_pred = clf.predict(X_test)\n",
    "    bas = balanced_accuracy_score(y_test, y_pred)\n",
    "    accuracy_test.append(bas)\n",
    "\n",
    "accuracy_train = np.array(accuracy_train)\n",
    "accuracy_test = np.array(accuracy_test)"
   ]
  },
  {
   "cell_type": "code",
   "execution_count": 45,
   "metadata": {},
   "outputs": [
    {
     "data": {
      "text/plain": [
       "array([1., 1., 1., 1., 1.])"
      ]
     },
     "execution_count": 45,
     "metadata": {},
     "output_type": "execute_result"
    }
   ],
   "source": [
    "accuracy_train"
   ]
  },
  {
   "cell_type": "code",
   "execution_count": 46,
   "metadata": {},
   "outputs": [
    {
     "data": {
      "text/plain": [
       "array([0.88052853, 0.87864139, 0.85111964, 0.88744406, 0.87213309])"
      ]
     },
     "execution_count": 46,
     "metadata": {},
     "output_type": "execute_result"
    }
   ],
   "source": [
    "accuracy_test"
   ]
  },
  {
   "cell_type": "code",
   "execution_count": 47,
   "metadata": {},
   "outputs": [
    {
     "data": {
      "text/plain": [
       "0.8739733401432732"
      ]
     },
     "execution_count": 47,
     "metadata": {},
     "output_type": "execute_result"
    }
   ],
   "source": [
    "np.average(accuracy_test)"
   ]
  },
  {
   "cell_type": "code",
   "execution_count": null,
   "metadata": {},
   "outputs": [],
   "source": []
  },
  {
   "cell_type": "code",
   "execution_count": null,
   "metadata": {},
   "outputs": [],
   "source": []
  },
  {
   "cell_type": "markdown",
   "metadata": {},
   "source": [
    "## predict test data"
   ]
  },
  {
   "cell_type": "markdown",
   "metadata": {},
   "source": [
    "### preprocess"
   ]
  },
  {
   "cell_type": "code",
   "execution_count": 26,
   "metadata": {},
   "outputs": [],
   "source": [
    "import glob, os\n",
    "\n",
    "\n",
    "test_files = glob.glob('./aozora_datasets_min/test_datasets/*.txt')"
   ]
  },
  {
   "cell_type": "code",
   "execution_count": 25,
   "metadata": {
    "scrolled": true
   },
   "outputs": [
    {
     "data": {
      "text/plain": [
       "['./aozora_datasets_min/test_datasets/54740.txt',\n",
       " './aozora_datasets_min/test_datasets/56321.txt',\n",
       " './aozora_datasets_min/test_datasets/56201.txt',\n",
       " './aozora_datasets_min/test_datasets/51417.txt',\n",
       " './aozora_datasets_min/test_datasets/49540.txt',\n",
       " './aozora_datasets_min/test_datasets/46139.txt',\n",
       " './aozora_datasets_min/test_datasets/1711.txt',\n",
       " './aozora_datasets_min/test_datasets/3578.txt',\n",
       " './aozora_datasets_min/test_datasets/51959.txt',\n",
       " './aozora_datasets_min/test_datasets/56210.txt',\n",
       " './aozora_datasets_min/test_datasets/42172.txt',\n",
       " './aozora_datasets_min/test_datasets/46630.txt',\n",
       " './aozora_datasets_min/test_datasets/46331.txt',\n",
       " './aozora_datasets_min/test_datasets/43473.txt',\n",
       " './aozora_datasets_min/test_datasets/57350.txt',\n",
       " './aozora_datasets_min/test_datasets/33225.txt',\n",
       " './aozora_datasets_min/test_datasets/46070.txt',\n",
       " './aozora_datasets_min/test_datasets/53215.txt',\n",
       " './aozora_datasets_min/test_datasets/56544.txt',\n",
       " './aozora_datasets_min/test_datasets/54756.txt',\n",
       " './aozora_datasets_min/test_datasets/46148.txt',\n",
       " './aozora_datasets_min/test_datasets/1062.txt',\n",
       " './aozora_datasets_min/test_datasets/55505.txt',\n",
       " './aozora_datasets_min/test_datasets/42212.txt',\n",
       " './aozora_datasets_min/test_datasets/48255.txt',\n",
       " './aozora_datasets_min/test_datasets/56669.txt',\n",
       " './aozora_datasets_min/test_datasets/56287.txt',\n",
       " './aozora_datasets_min/test_datasets/50771.txt',\n",
       " './aozora_datasets_min/test_datasets/45483.txt',\n",
       " './aozora_datasets_min/test_datasets/55291.txt',\n",
       " './aozora_datasets_min/test_datasets/479.txt',\n",
       " './aozora_datasets_min/test_datasets/54758.txt',\n",
       " './aozora_datasets_min/test_datasets/48333.txt',\n",
       " './aozora_datasets_min/test_datasets/48175.txt',\n",
       " './aozora_datasets_min/test_datasets/52419.txt',\n",
       " './aozora_datasets_min/test_datasets/3542.txt',\n",
       " './aozora_datasets_min/test_datasets/45500.txt',\n",
       " './aozora_datasets_min/test_datasets/57109.txt',\n",
       " './aozora_datasets_min/test_datasets/51931.txt',\n",
       " './aozora_datasets_min/test_datasets/46541.txt',\n",
       " './aozora_datasets_min/test_datasets/47502.txt',\n",
       " './aozora_datasets_min/test_datasets/54598.txt',\n",
       " './aozora_datasets_min/test_datasets/51923.txt',\n",
       " './aozora_datasets_min/test_datasets/57294.txt',\n",
       " './aozora_datasets_min/test_datasets/3657.txt',\n",
       " './aozora_datasets_min/test_datasets/56732.txt',\n",
       " './aozora_datasets_min/test_datasets/56554.txt',\n",
       " './aozora_datasets_min/test_datasets/2620.txt',\n",
       " './aozora_datasets_min/test_datasets/54558.txt',\n",
       " './aozora_datasets_min/test_datasets/18403.txt',\n",
       " './aozora_datasets_min/test_datasets/48242.txt',\n",
       " './aozora_datasets_min/test_datasets/46637.txt',\n",
       " './aozora_datasets_min/test_datasets/56093.txt',\n",
       " './aozora_datasets_min/test_datasets/13209.txt',\n",
       " './aozora_datasets_min/test_datasets/50786.txt',\n",
       " './aozora_datasets_min/test_datasets/3661.txt',\n",
       " './aozora_datasets_min/test_datasets/56122.txt',\n",
       " './aozora_datasets_min/test_datasets/1550.txt',\n",
       " './aozora_datasets_min/test_datasets/57219.txt',\n",
       " './aozora_datasets_min/test_datasets/57872.txt',\n",
       " './aozora_datasets_min/test_datasets/57026.txt',\n",
       " './aozora_datasets_min/test_datasets/42186.txt',\n",
       " './aozora_datasets_min/test_datasets/48131.txt',\n",
       " './aozora_datasets_min/test_datasets/48241.txt',\n",
       " './aozora_datasets_min/test_datasets/2213.txt',\n",
       " './aozora_datasets_min/test_datasets/54767.txt',\n",
       " './aozora_datasets_min/test_datasets/54606.txt',\n",
       " './aozora_datasets_min/test_datasets/51955.txt',\n",
       " './aozora_datasets_min/test_datasets/57271.txt',\n",
       " './aozora_datasets_min/test_datasets/46136.txt',\n",
       " './aozora_datasets_min/test_datasets/54664.txt',\n",
       " './aozora_datasets_min/test_datasets/56374.txt',\n",
       " './aozora_datasets_min/test_datasets/48156.txt',\n",
       " './aozora_datasets_min/test_datasets/42188.txt',\n",
       " './aozora_datasets_min/test_datasets/4560.txt',\n",
       " './aozora_datasets_min/test_datasets/5009.txt',\n",
       " './aozora_datasets_min/test_datasets/3586.txt',\n",
       " './aozora_datasets_min/test_datasets/50800.txt',\n",
       " './aozora_datasets_min/test_datasets/45478.txt',\n",
       " './aozora_datasets_min/test_datasets/54587.txt',\n",
       " './aozora_datasets_min/test_datasets/47039.txt',\n",
       " './aozora_datasets_min/test_datasets/55684.txt',\n",
       " './aozora_datasets_min/test_datasets/55697.txt',\n",
       " './aozora_datasets_min/test_datasets/53205.txt',\n",
       " './aozora_datasets_min/test_datasets/43546.txt',\n",
       " './aozora_datasets_min/test_datasets/56672.txt',\n",
       " './aozora_datasets_min/test_datasets/2240.txt',\n",
       " './aozora_datasets_min/test_datasets/2534.txt',\n",
       " './aozora_datasets_min/test_datasets/4589.txt',\n",
       " './aozora_datasets_min/test_datasets/56202.txt',\n",
       " './aozora_datasets_min/test_datasets/56114.txt',\n",
       " './aozora_datasets_min/test_datasets/4102.txt',\n",
       " './aozora_datasets_min/test_datasets/13205.txt',\n",
       " './aozora_datasets_min/test_datasets/51388.txt',\n",
       " './aozora_datasets_min/test_datasets/56670.txt',\n",
       " './aozora_datasets_min/test_datasets/57467.txt',\n",
       " './aozora_datasets_min/test_datasets/483.txt',\n",
       " './aozora_datasets_min/test_datasets/57190.txt',\n",
       " './aozora_datasets_min/test_datasets/52413.txt',\n",
       " './aozora_datasets_min/test_datasets/56068.txt',\n",
       " './aozora_datasets_min/test_datasets/55685.txt',\n",
       " './aozora_datasets_min/test_datasets/46539.txt',\n",
       " './aozora_datasets_min/test_datasets/57191.txt',\n",
       " './aozora_datasets_min/test_datasets/49682.txt',\n",
       " './aozora_datasets_min/test_datasets/48135.txt',\n",
       " './aozora_datasets_min/test_datasets/46325.txt',\n",
       " './aozora_datasets_min/test_datasets/57363.txt',\n",
       " './aozora_datasets_min/test_datasets/54645.txt',\n",
       " './aozora_datasets_min/test_datasets/51962.txt',\n",
       " './aozora_datasets_min/test_datasets/48237.txt',\n",
       " './aozora_datasets_min/test_datasets/1176.txt',\n",
       " './aozora_datasets_min/test_datasets/51851.txt',\n",
       " './aozora_datasets_min/test_datasets/5054.txt',\n",
       " './aozora_datasets_min/test_datasets/54694.txt',\n",
       " './aozora_datasets_min/test_datasets/54703.txt',\n",
       " './aozora_datasets_min/test_datasets/2202.txt',\n",
       " './aozora_datasets_min/test_datasets/5057.txt',\n",
       " './aozora_datasets_min/test_datasets/56699.txt',\n",
       " './aozora_datasets_min/test_datasets/4699.txt',\n",
       " './aozora_datasets_min/test_datasets/56221.txt',\n",
       " './aozora_datasets_min/test_datasets/50773.txt',\n",
       " './aozora_datasets_min/test_datasets/46314.txt',\n",
       " './aozora_datasets_min/test_datasets/46078.txt',\n",
       " './aozora_datasets_min/test_datasets/47176.txt',\n",
       " './aozora_datasets_min/test_datasets/48385.txt',\n",
       " './aozora_datasets_min/test_datasets/55679.txt',\n",
       " './aozora_datasets_min/test_datasets/51856.txt',\n",
       " './aozora_datasets_min/test_datasets/45386.txt',\n",
       " './aozora_datasets_min/test_datasets/57186.txt',\n",
       " './aozora_datasets_min/test_datasets/52154.txt',\n",
       " './aozora_datasets_min/test_datasets/56091.txt',\n",
       " './aozora_datasets_min/test_datasets/56324.txt',\n",
       " './aozora_datasets_min/test_datasets/49526.txt',\n",
       " './aozora_datasets_min/test_datasets/48416.txt',\n",
       " './aozora_datasets_min/test_datasets/18411.txt',\n",
       " './aozora_datasets_min/test_datasets/51432.txt',\n",
       " './aozora_datasets_min/test_datasets/50775.txt',\n",
       " './aozora_datasets_min/test_datasets/33223.txt',\n",
       " './aozora_datasets_min/test_datasets/54586.txt',\n",
       " './aozora_datasets_min/test_datasets/53235.txt',\n",
       " './aozora_datasets_min/test_datasets/52411.txt',\n",
       " './aozora_datasets_min/test_datasets/52144.txt',\n",
       " './aozora_datasets_min/test_datasets/42191.txt',\n",
       " './aozora_datasets_min/test_datasets/54720.txt',\n",
       " './aozora_datasets_min/test_datasets/42304.txt',\n",
       " './aozora_datasets_min/test_datasets/56688.txt',\n",
       " './aozora_datasets_min/test_datasets/47003.txt',\n",
       " './aozora_datasets_min/test_datasets/46628.txt',\n",
       " './aozora_datasets_min/test_datasets/2236.txt',\n",
       " './aozora_datasets_min/test_datasets/55286.txt',\n",
       " './aozora_datasets_min/test_datasets/52444.txt',\n",
       " './aozora_datasets_min/test_datasets/4741.txt',\n",
       " './aozora_datasets_min/test_datasets/45495.txt',\n",
       " './aozora_datasets_min/test_datasets/50777.txt',\n",
       " './aozora_datasets_min/test_datasets/52029.txt',\n",
       " './aozora_datasets_min/test_datasets/56707.txt',\n",
       " './aozora_datasets_min/test_datasets/52134.txt',\n",
       " './aozora_datasets_min/test_datasets/3544.txt',\n",
       " './aozora_datasets_min/test_datasets/53491.txt',\n",
       " './aozora_datasets_min/test_datasets/55270.txt',\n",
       " './aozora_datasets_min/test_datasets/48264.txt',\n",
       " './aozora_datasets_min/test_datasets/45387.txt',\n",
       " './aozora_datasets_min/test_datasets/1026.txt',\n",
       " './aozora_datasets_min/test_datasets/56718.txt',\n",
       " './aozora_datasets_min/test_datasets/18409.txt',\n",
       " './aozora_datasets_min/test_datasets/46382.txt',\n",
       " './aozora_datasets_min/test_datasets/49683.txt',\n",
       " './aozora_datasets_min/test_datasets/33226.txt',\n",
       " './aozora_datasets_min/test_datasets/46764.txt',\n",
       " './aozora_datasets_min/test_datasets/46566.txt',\n",
       " './aozora_datasets_min/test_datasets/54614.txt',\n",
       " './aozora_datasets_min/test_datasets/56401.txt',\n",
       " './aozora_datasets_min/test_datasets/5048.txt',\n",
       " './aozora_datasets_min/test_datasets/45485.txt',\n",
       " './aozora_datasets_min/test_datasets/51788.txt',\n",
       " './aozora_datasets_min/test_datasets/18408.txt',\n",
       " './aozora_datasets_min/test_datasets/56094.txt',\n",
       " './aozora_datasets_min/test_datasets/47023.txt',\n",
       " './aozora_datasets_min/test_datasets/47786.txt',\n",
       " './aozora_datasets_min/test_datasets/46128.txt',\n",
       " './aozora_datasets_min/test_datasets/56300.txt',\n",
       " './aozora_datasets_min/test_datasets/50379.txt',\n",
       " './aozora_datasets_min/test_datasets/50397.txt',\n",
       " './aozora_datasets_min/test_datasets/50399.txt',\n",
       " './aozora_datasets_min/test_datasets/49552.txt',\n",
       " './aozora_datasets_min/test_datasets/54725.txt',\n",
       " './aozora_datasets_min/test_datasets/57033.txt',\n",
       " './aozora_datasets_min/test_datasets/55511.txt',\n",
       " './aozora_datasets_min/test_datasets/46081.txt',\n",
       " './aozora_datasets_min/test_datasets/44914.txt',\n",
       " './aozora_datasets_min/test_datasets/2235.txt',\n",
       " './aozora_datasets_min/test_datasets/813.txt',\n",
       " './aozora_datasets_min/test_datasets/50194.txt',\n",
       " './aozora_datasets_min/test_datasets/56276.txt',\n",
       " './aozora_datasets_min/test_datasets/3423.txt',\n",
       " './aozora_datasets_min/test_datasets/54834.txt',\n",
       " './aozora_datasets_min/test_datasets/55744.txt',\n",
       " './aozora_datasets_min/test_datasets/54623.txt',\n",
       " './aozora_datasets_min/test_datasets/54683.txt',\n",
       " './aozora_datasets_min/test_datasets/54579.txt',\n",
       " './aozora_datasets_min/test_datasets/49555.txt',\n",
       " './aozora_datasets_min/test_datasets/48367.txt',\n",
       " './aozora_datasets_min/test_datasets/56396.txt',\n",
       " './aozora_datasets_min/test_datasets/2621.txt',\n",
       " './aozora_datasets_min/test_datasets/3409.txt',\n",
       " './aozora_datasets_min/test_datasets/55696.txt',\n",
       " './aozora_datasets_min/test_datasets/42351.txt',\n",
       " './aozora_datasets_min/test_datasets/33218.txt',\n",
       " './aozora_datasets_min/test_datasets/56069.txt',\n",
       " './aozora_datasets_min/test_datasets/50382.txt',\n",
       " './aozora_datasets_min/test_datasets/56372.txt',\n",
       " './aozora_datasets_min/test_datasets/960.txt',\n",
       " './aozora_datasets_min/test_datasets/3660.txt',\n",
       " './aozora_datasets_min/test_datasets/49534.txt',\n",
       " './aozora_datasets_min/test_datasets/56215.txt',\n",
       " './aozora_datasets_min/test_datasets/4563.txt',\n",
       " './aozora_datasets_min/test_datasets/56494.txt',\n",
       " './aozora_datasets_min/test_datasets/24436.txt',\n",
       " './aozora_datasets_min/test_datasets/991.txt',\n",
       " './aozora_datasets_min/test_datasets/1065.txt',\n",
       " './aozora_datasets_min/test_datasets/1024.txt',\n",
       " './aozora_datasets_min/test_datasets/4997.txt',\n",
       " './aozora_datasets_min/test_datasets/54605.txt',\n",
       " './aozora_datasets_min/test_datasets/5045.txt',\n",
       " './aozora_datasets_min/test_datasets/52412.txt',\n",
       " './aozora_datasets_min/test_datasets/46074.txt',\n",
       " './aozora_datasets_min/test_datasets/42305.txt',\n",
       " './aozora_datasets_min/test_datasets/47182.txt',\n",
       " './aozora_datasets_min/test_datasets/46121.txt',\n",
       " './aozora_datasets_min/test_datasets/46395.txt',\n",
       " './aozora_datasets_min/test_datasets/56060.txt',\n",
       " './aozora_datasets_min/test_datasets/3312.txt',\n",
       " './aozora_datasets_min/test_datasets/3427.txt',\n",
       " './aozora_datasets_min/test_datasets/52436.txt',\n",
       " './aozora_datasets_min/test_datasets/13206.txt',\n",
       " './aozora_datasets_min/test_datasets/5071.txt',\n",
       " './aozora_datasets_min/test_datasets/47891.txt',\n",
       " './aozora_datasets_min/test_datasets/48232.txt',\n",
       " './aozora_datasets_min/test_datasets/43495.txt',\n",
       " './aozora_datasets_min/test_datasets/5053.txt',\n",
       " './aozora_datasets_min/test_datasets/52155.txt',\n",
       " './aozora_datasets_min/test_datasets/52452.txt',\n",
       " './aozora_datasets_min/test_datasets/47815.txt',\n",
       " './aozora_datasets_min/test_datasets/47794.txt',\n",
       " './aozora_datasets_min/test_datasets/42194.txt',\n",
       " './aozora_datasets_min/test_datasets/42238.txt',\n",
       " './aozora_datasets_min/test_datasets/1712.txt',\n",
       " './aozora_datasets_min/test_datasets/57466.txt',\n",
       " './aozora_datasets_min/test_datasets/45505.txt',\n",
       " './aozora_datasets_min/test_datasets/45457.txt',\n",
       " './aozora_datasets_min/test_datasets/54591.txt',\n",
       " './aozora_datasets_min/test_datasets/46313.txt',\n",
       " './aozora_datasets_min/test_datasets/47194.txt',\n",
       " './aozora_datasets_min/test_datasets/56758.txt',\n",
       " './aozora_datasets_min/test_datasets/1299.txt',\n",
       " './aozora_datasets_min/test_datasets/51785.txt',\n",
       " './aozora_datasets_min/test_datasets/42189.txt',\n",
       " './aozora_datasets_min/test_datasets/1020.txt',\n",
       " './aozora_datasets_min/test_datasets/52427.txt',\n",
       " './aozora_datasets_min/test_datasets/2221.txt',\n",
       " './aozora_datasets_min/test_datasets/57200.txt',\n",
       " './aozora_datasets_min/test_datasets/3425.txt',\n",
       " './aozora_datasets_min/test_datasets/54762.txt',\n",
       " './aozora_datasets_min/test_datasets/45465.txt',\n",
       " './aozora_datasets_min/test_datasets/47501.txt',\n",
       " './aozora_datasets_min/test_datasets/56557.txt',\n",
       " './aozora_datasets_min/test_datasets/2635.txt',\n",
       " './aozora_datasets_min/test_datasets/53219.txt',\n",
       " './aozora_datasets_min/test_datasets/56214.txt',\n",
       " './aozora_datasets_min/test_datasets/57106.txt',\n",
       " './aozora_datasets_min/test_datasets/50396.txt',\n",
       " './aozora_datasets_min/test_datasets/53234.txt',\n",
       " './aozora_datasets_min/test_datasets/56552.txt',\n",
       " './aozora_datasets_min/test_datasets/55401.txt',\n",
       " './aozora_datasets_min/test_datasets/57279.txt',\n",
       " './aozora_datasets_min/test_datasets/3653.txt',\n",
       " './aozora_datasets_min/test_datasets/48153.txt',\n",
       " './aozora_datasets_min/test_datasets/57027.txt',\n",
       " './aozora_datasets_min/test_datasets/2634.txt',\n",
       " './aozora_datasets_min/test_datasets/51430.txt',\n",
       " './aozora_datasets_min/test_datasets/13210.txt',\n",
       " './aozora_datasets_min/test_datasets/49531.txt',\n",
       " './aozora_datasets_min/test_datasets/4246.txt',\n",
       " './aozora_datasets_min/test_datasets/42192.txt',\n",
       " './aozora_datasets_min/test_datasets/52398.txt',\n",
       " './aozora_datasets_min/test_datasets/56264.txt',\n",
       " './aozora_datasets_min/test_datasets/56495.txt',\n",
       " './aozora_datasets_min/test_datasets/1296.txt',\n",
       " './aozora_datasets_min/test_datasets/54718.txt',\n",
       " './aozora_datasets_min/test_datasets/46102.txt',\n",
       " './aozora_datasets_min/test_datasets/57189.txt',\n",
       " './aozora_datasets_min/test_datasets/48233.txt',\n",
       " './aozora_datasets_min/test_datasets/46123.txt',\n",
       " './aozora_datasets_min/test_datasets/56291.txt',\n",
       " './aozora_datasets_min/test_datasets/51450.txt',\n",
       " './aozora_datasets_min/test_datasets/57231.txt',\n",
       " './aozora_datasets_min/test_datasets/46960.txt',\n",
       " './aozora_datasets_min/test_datasets/897.txt',\n",
       " './aozora_datasets_min/test_datasets/57270.txt',\n",
       " './aozora_datasets_min/test_datasets/48027.txt',\n",
       " './aozora_datasets_min/test_datasets/54730.txt',\n",
       " './aozora_datasets_min/test_datasets/43042.txt',\n",
       " './aozora_datasets_min/test_datasets/52437.txt',\n",
       " './aozora_datasets_min/test_datasets/42613.txt',\n",
       " './aozora_datasets_min/test_datasets/3599.txt',\n",
       " './aozora_datasets_min/test_datasets/2209.txt',\n",
       " './aozora_datasets_min/test_datasets/4696.txt',\n",
       " './aozora_datasets_min/test_datasets/54716.txt',\n",
       " './aozora_datasets_min/test_datasets/52150.txt',\n",
       " './aozora_datasets_min/test_datasets/4100.txt',\n",
       " './aozora_datasets_min/test_datasets/48403.txt',\n",
       " './aozora_datasets_min/test_datasets/2203.txt',\n",
       " './aozora_datasets_min/test_datasets/1004.txt',\n",
       " './aozora_datasets_min/test_datasets/43471.txt',\n",
       " './aozora_datasets_min/test_datasets/54675.txt',\n",
       " './aozora_datasets_min/test_datasets/53218.txt',\n",
       " './aozora_datasets_min/test_datasets/57292.txt',\n",
       " './aozora_datasets_min/test_datasets/1178.txt',\n",
       " './aozora_datasets_min/test_datasets/56066.txt',\n",
       " './aozora_datasets_min/test_datasets/52451.txt',\n",
       " './aozora_datasets_min/test_datasets/56314.txt',\n",
       " './aozora_datasets_min/test_datasets/2532.txt',\n",
       " './aozora_datasets_min/test_datasets/3658.txt',\n",
       " './aozora_datasets_min/test_datasets/56302.txt',\n",
       " './aozora_datasets_min/test_datasets/47550.txt',\n",
       " './aozora_datasets_min/test_datasets/52128.txt',\n",
       " './aozora_datasets_min/test_datasets/57362.txt',\n",
       " './aozora_datasets_min/test_datasets/51925.txt',\n",
       " './aozora_datasets_min/test_datasets/51787.txt',\n",
       " './aozora_datasets_min/test_datasets/54574.txt',\n",
       " './aozora_datasets_min/test_datasets/57307.txt',\n",
       " './aozora_datasets_min/test_datasets/52147.txt',\n",
       " './aozora_datasets_min/test_datasets/48163.txt',\n",
       " './aozora_datasets_min/test_datasets/52416.txt',\n",
       " './aozora_datasets_min/test_datasets/1555.txt',\n",
       " './aozora_datasets_min/test_datasets/56705.txt',\n",
       " './aozora_datasets_min/test_datasets/56731.txt',\n",
       " './aozora_datasets_min/test_datasets/57504.txt',\n",
       " './aozora_datasets_min/test_datasets/45498.txt',\n",
       " './aozora_datasets_min/test_datasets/5031.txt',\n",
       " './aozora_datasets_min/test_datasets/55998.txt',\n",
       " './aozora_datasets_min/test_datasets/13212.txt',\n",
       " './aozora_datasets_min/test_datasets/2630.txt',\n",
       " './aozora_datasets_min/test_datasets/54749.txt',\n",
       " './aozora_datasets_min/test_datasets/48143.txt',\n",
       " './aozora_datasets_min/test_datasets/51940.txt',\n",
       " './aozora_datasets_min/test_datasets/52141.txt',\n",
       " './aozora_datasets_min/test_datasets/50770.txt',\n",
       " './aozora_datasets_min/test_datasets/48021.txt',\n",
       " './aozora_datasets_min/test_datasets/5058.txt',\n",
       " './aozora_datasets_min/test_datasets/51418.txt',\n",
       " './aozora_datasets_min/test_datasets/3669.txt',\n",
       " './aozora_datasets_min/test_datasets/1021.txt',\n",
       " './aozora_datasets_min/test_datasets/50793.txt',\n",
       " './aozora_datasets_min/test_datasets/46540.txt',\n",
       " './aozora_datasets_min/test_datasets/54641.txt',\n",
       " './aozora_datasets_min/test_datasets/56348.txt',\n",
       " './aozora_datasets_min/test_datasets/57506.txt',\n",
       " './aozora_datasets_min/test_datasets/4248.txt',\n",
       " './aozora_datasets_min/test_datasets/47186.txt',\n",
       " './aozora_datasets_min/test_datasets/54599.txt',\n",
       " './aozora_datasets_min/test_datasets/49525.txt',\n",
       " './aozora_datasets_min/test_datasets/57306.txt',\n",
       " './aozora_datasets_min/test_datasets/50705.txt',\n",
       " './aozora_datasets_min/test_datasets/46399.txt',\n",
       " './aozora_datasets_min/test_datasets/56046.txt',\n",
       " './aozora_datasets_min/test_datasets/52299.txt',\n",
       " './aozora_datasets_min/test_datasets/43070.txt',\n",
       " './aozora_datasets_min/test_datasets/58211.txt',\n",
       " './aozora_datasets_min/test_datasets/5032.txt',\n",
       " './aozora_datasets_min/test_datasets/49542.txt',\n",
       " './aozora_datasets_min/test_datasets/46202.txt',\n",
       " './aozora_datasets_min/test_datasets/5070.txt',\n",
       " './aozora_datasets_min/test_datasets/56222.txt',\n",
       " './aozora_datasets_min/test_datasets/54569.txt',\n",
       " './aozora_datasets_min/test_datasets/48140.txt',\n",
       " './aozora_datasets_min/test_datasets/54734.txt',\n",
       " './aozora_datasets_min/test_datasets/47175.txt',\n",
       " './aozora_datasets_min/test_datasets/46397.txt',\n",
       " './aozora_datasets_min/test_datasets/45466.txt',\n",
       " './aozora_datasets_min/test_datasets/46386.txt',\n",
       " './aozora_datasets_min/test_datasets/57874.txt',\n",
       " './aozora_datasets_min/test_datasets/51756.txt',\n",
       " './aozora_datasets_min/test_datasets/57288.txt',\n",
       " './aozora_datasets_min/test_datasets/56555.txt',\n",
       " './aozora_datasets_min/test_datasets/55100.txt',\n",
       " './aozora_datasets_min/test_datasets/5063.txt',\n",
       " './aozora_datasets_min/test_datasets/51784.txt',\n",
       " './aozora_datasets_min/test_datasets/51969.txt',\n",
       " './aozora_datasets_min/test_datasets/43548.txt',\n",
       " './aozora_datasets_min/test_datasets/56403.txt',\n",
       " './aozora_datasets_min/test_datasets/54653.txt',\n",
       " './aozora_datasets_min/test_datasets/52148.txt',\n",
       " './aozora_datasets_min/test_datasets/57228.txt',\n",
       " './aozora_datasets_min/test_datasets/56647.txt',\n",
       " './aozora_datasets_min/test_datasets/57208.txt',\n",
       " './aozora_datasets_min/test_datasets/43447.txt',\n",
       " './aozora_datasets_min/test_datasets/52421.txt',\n",
       " './aozora_datasets_min/test_datasets/48136.txt',\n",
       " './aozora_datasets_min/test_datasets/1014.txt',\n",
       " './aozora_datasets_min/test_datasets/48151.txt',\n",
       " './aozora_datasets_min/test_datasets/56125.txt',\n",
       " './aozora_datasets_min/test_datasets/55654.txt',\n",
       " './aozora_datasets_min/test_datasets/2216.txt',\n",
       " './aozora_datasets_min/test_datasets/1551.txt',\n",
       " './aozora_datasets_min/test_datasets/48384.txt',\n",
       " './aozora_datasets_min/test_datasets/55350.txt',\n",
       " './aozora_datasets_min/test_datasets/55982.txt',\n",
       " './aozora_datasets_min/test_datasets/46312.txt',\n",
       " './aozora_datasets_min/test_datasets/54658.txt',\n",
       " './aozora_datasets_min/test_datasets/48402.txt',\n",
       " './aozora_datasets_min/test_datasets/54690.txt',\n",
       " './aozora_datasets_min/test_datasets/52425.txt',\n",
       " './aozora_datasets_min/test_datasets/56373.txt',\n",
       " './aozora_datasets_min/test_datasets/48263.txt',\n",
       " './aozora_datasets_min/test_datasets/5050.txt',\n",
       " './aozora_datasets_min/test_datasets/54715.txt',\n",
       " './aozora_datasets_min/test_datasets/56282.txt',\n",
       " './aozora_datasets_min/test_datasets/54745.txt',\n",
       " './aozora_datasets_min/test_datasets/46119.txt',\n",
       " './aozora_datasets_min/test_datasets/2627.txt',\n",
       " './aozora_datasets_min/test_datasets/3608.txt',\n",
       " './aozora_datasets_min/test_datasets/1061.txt',\n",
       " './aozora_datasets_min/test_datasets/51927.txt',\n",
       " './aozora_datasets_min/test_datasets/48152.txt',\n",
       " './aozora_datasets_min/test_datasets/51789.txt',\n",
       " './aozora_datasets_min/test_datasets/56757.txt',\n",
       " './aozora_datasets_min/test_datasets/52424.txt',\n",
       " './aozora_datasets_min/test_datasets/46327.txt',\n",
       " './aozora_datasets_min/test_datasets/57463.txt',\n",
       " './aozora_datasets_min/test_datasets/47005.txt',\n",
       " './aozora_datasets_min/test_datasets/48245.txt',\n",
       " './aozora_datasets_min/test_datasets/57278.txt',\n",
       " './aozora_datasets_min/test_datasets/48290.txt',\n",
       " './aozora_datasets_min/test_datasets/5019.txt',\n",
       " './aozora_datasets_min/test_datasets/56071.txt',\n",
       " './aozora_datasets_min/test_datasets/13211.txt',\n",
       " './aozora_datasets_min/test_datasets/1546.txt',\n",
       " './aozora_datasets_min/test_datasets/47041.txt',\n",
       " './aozora_datasets_min/test_datasets/57188.txt',\n",
       " './aozora_datasets_min/test_datasets/55698.txt',\n",
       " './aozora_datasets_min/test_datasets/49547.txt',\n",
       " './aozora_datasets_min/test_datasets/46200.txt',\n",
       " './aozora_datasets_min/test_datasets/4740.txt',\n",
       " './aozora_datasets_min/test_datasets/54712.txt',\n",
       " './aozora_datasets_min/test_datasets/54603.txt',\n",
       " './aozora_datasets_min/test_datasets/50779.txt',\n",
       " './aozora_datasets_min/test_datasets/57477.txt',\n",
       " './aozora_datasets_min/test_datasets/51410.txt',\n",
       " './aozora_datasets_min/test_datasets/57277.txt',\n",
       " './aozora_datasets_min/test_datasets/46125.txt',\n",
       " './aozora_datasets_min/test_datasets/57510.txt',\n",
       " './aozora_datasets_min/test_datasets/46328.txt',\n",
       " './aozora_datasets_min/test_datasets/55848.txt',\n",
       " './aozora_datasets_min/test_datasets/55691.txt',\n",
       " './aozora_datasets_min/test_datasets/57282.txt',\n",
       " './aozora_datasets_min/test_datasets/999.txt',\n",
       " './aozora_datasets_min/test_datasets/47985.txt',\n",
       " './aozora_datasets_min/test_datasets/54674.txt',\n",
       " './aozora_datasets_min/test_datasets/18398.txt',\n",
       " './aozora_datasets_min/test_datasets/52426.txt',\n",
       " './aozora_datasets_min/test_datasets/4593.txt',\n",
       " './aozora_datasets_min/test_datasets/54704.txt',\n",
       " './aozora_datasets_min/test_datasets/977.txt',\n",
       " './aozora_datasets_min/test_datasets/57864.txt',\n",
       " './aozora_datasets_min/test_datasets/54638.txt',\n",
       " './aozora_datasets_min/test_datasets/18391.txt',\n",
       " './aozora_datasets_min/test_datasets/57230.txt',\n",
       " './aozora_datasets_min/test_datasets/48243.txt',\n",
       " './aozora_datasets_min/test_datasets/52404.txt',\n",
       " './aozora_datasets_min/test_datasets/3591.txt',\n",
       " './aozora_datasets_min/test_datasets/56671.txt',\n",
       " './aozora_datasets_min/test_datasets/49554.txt',\n",
       " './aozora_datasets_min/test_datasets/51377.txt',\n",
       " './aozora_datasets_min/test_datasets/56719.txt',\n",
       " './aozora_datasets_min/test_datasets/1027.txt',\n",
       " './aozora_datasets_min/test_datasets/2618.txt',\n",
       " './aozora_datasets_min/test_datasets/3602.txt',\n",
       " './aozora_datasets_min/test_datasets/46954.txt',\n",
       " './aozora_datasets_min/test_datasets/50768.txt',\n",
       " './aozora_datasets_min/test_datasets/1040.txt',\n",
       " './aozora_datasets_min/test_datasets/45460.txt',\n",
       " './aozora_datasets_min/test_datasets/46107.txt',\n",
       " './aozora_datasets_min/test_datasets/4594.txt',\n",
       " './aozora_datasets_min/test_datasets/47696.txt',\n",
       " './aozora_datasets_min/test_datasets/49562.txt',\n",
       " './aozora_datasets_min/test_datasets/47489.txt',\n",
       " './aozora_datasets_min/test_datasets/50391.txt',\n",
       " './aozora_datasets_min/test_datasets/53201.txt',\n",
       " './aozora_datasets_min/test_datasets/981.txt',\n",
       " './aozora_datasets_min/test_datasets/51954.txt',\n",
       " './aozora_datasets_min/test_datasets/51738.txt',\n",
       " './aozora_datasets_min/test_datasets/484.txt',\n",
       " './aozora_datasets_min/test_datasets/54760.txt',\n",
       " './aozora_datasets_min/test_datasets/56546.txt',\n",
       " './aozora_datasets_min/test_datasets/2198.txt',\n",
       " './aozora_datasets_min/test_datasets/56492.txt',\n",
       " './aozora_datasets_min/test_datasets/49681.txt',\n",
       " './aozora_datasets_min/test_datasets/56230.txt',\n",
       " './aozora_datasets_min/test_datasets/57032.txt',\n",
       " './aozora_datasets_min/test_datasets/1308.txt',\n",
       " './aozora_datasets_min/test_datasets/56686.txt',\n",
       " './aozora_datasets_min/test_datasets/1549.txt',\n",
       " './aozora_datasets_min/test_datasets/55689.txt',\n",
       " './aozora_datasets_min/test_datasets/55095.txt',\n",
       " './aozora_datasets_min/test_datasets/54838.txt',\n",
       " './aozora_datasets_min/test_datasets/55987.txt',\n",
       " './aozora_datasets_min/test_datasets/47725.txt',\n",
       " './aozora_datasets_min/test_datasets/55686.txt',\n",
       " './aozora_datasets_min/test_datasets/57201.txt',\n",
       " './aozora_datasets_min/test_datasets/54633.txt',\n",
       " './aozora_datasets_min/test_datasets/56711.txt',\n",
       " './aozora_datasets_min/test_datasets/48238.txt',\n",
       " './aozora_datasets_min/test_datasets/56497.txt',\n",
       " './aozora_datasets_min/test_datasets/43545.txt',\n",
       " './aozora_datasets_min/test_datasets/54580.txt',\n",
       " './aozora_datasets_min/test_datasets/51854.txt',\n",
       " './aozora_datasets_min/test_datasets/56715.txt',\n",
       " './aozora_datasets_min/test_datasets/5055.txt',\n",
       " './aozora_datasets_min/test_datasets/4105.txt',\n",
       " './aozora_datasets_min/test_datasets/49563.txt',\n",
       " './aozora_datasets_min/test_datasets/47691.txt',\n",
       " './aozora_datasets_min/test_datasets/46197.txt',\n",
       " './aozora_datasets_min/test_datasets/49584.txt',\n",
       " './aozora_datasets_min/test_datasets/4998.txt',\n",
       " './aozora_datasets_min/test_datasets/966.txt',\n",
       " './aozora_datasets_min/test_datasets/54665.txt',\n",
       " './aozora_datasets_min/test_datasets/476.txt',\n",
       " './aozora_datasets_min/test_datasets/57308.txt',\n",
       " './aozora_datasets_min/test_datasets/1710.txt',\n",
       " './aozora_datasets_min/test_datasets/53489.txt',\n",
       " './aozora_datasets_min/test_datasets/4588.txt']"
      ]
     },
     "execution_count": 25,
     "metadata": {},
     "output_type": "execute_result"
    }
   ],
   "source": [
    "test_files"
   ]
  },
  {
   "cell_type": "code",
   "execution_count": 30,
   "metadata": {},
   "outputs": [
    {
     "data": {
      "text/plain": [
       "3"
      ]
     },
     "execution_count": 30,
     "metadata": {},
     "output_type": "execute_result"
    }
   ],
   "source": [
    "author_label_map.get(filename_author_map.get('54739.txt'))"
   ]
  },
  {
   "cell_type": "code",
   "execution_count": 41,
   "metadata": {},
   "outputs": [],
   "source": [
    "# dump preprocessed data\n",
    "\n",
    "corpus_tokenized_ja_test = data_test['tokens'].tolist()\n",
    "logger = initialize_logger()\n",
    "logger('corpus_tokenized_ja_test.json', corpus_tokenized_ja_test)"
   ]
  },
  {
   "cell_type": "code",
   "execution_count": 11,
   "metadata": {},
   "outputs": [
    {
     "data": {
      "image/png": "[encoded data removed]",
      "text/plain": [
       "<Figure size 432x288 with 1 Axes>"
      ]
     },
     "metadata": {
      "needs_background": "light"
     },
     "output_type": "display_data"
    }
   ],
   "source": [
    "# overview japanese corpus\n",
    "import matplotlib.pyplot as plt\n",
    "\n",
    "\n",
    "corpus_tokenized_ja_test = load_log('20200213T135503Z','corpus_tokenized_ja_test.json')\n",
    "len_tokens_ja = list(map(len, corpus_tokenized_ja_test))\n",
    "plt.hist(len_tokens_ja, bins=40)\n",
    "plt.yscale('log')"
   ]
  },
  {
   "cell_type": "code",
   "execution_count": 33,
   "metadata": {},
   "outputs": [],
   "source": [
    "data_test = pd.DataFrame(columns=['filename','tokens'])\n",
    "# data_test['tokens'] = [tokenize_ja(path) for path in test_files]"
   ]
  },
  {
   "cell_type": "code",
   "execution_count": 35,
   "metadata": {},
   "outputs": [],
   "source": [
    "data_test['filename'] = list(map(os.path.basename, test_files))"
   ]
  },
  {
   "cell_type": "code",
   "execution_count": 37,
   "metadata": {
    "scrolled": true
   },
   "outputs": [],
   "source": [
    "data_test['tokens'] = corpus_tokenized_ja_test"
   ]
  },
  {
   "cell_type": "code",
   "execution_count": 38,
   "metadata": {},
   "outputs": [
    {
     "data": {
      "text/html": [
       "<div>\n",
       "<style scoped>\n",
       "    .dataframe tbody tr th:only-of-type {\n",
       "        vertical-align: middle;\n",
       "    }\n",
       "\n",
       "    .dataframe tbody tr th {\n",
       "        vertical-align: top;\n",
       "    }\n",
       "\n",
       "    .dataframe thead th {\n",
       "        text-align: right;\n",
       "    }\n",
       "</style>\n",
       "<table border=\"1\" class=\"dataframe\">\n",
       "  <thead>\n",
       "    <tr style=\"text-align: right;\">\n",
       "      <th></th>\n",
       "      <th>filename</th>\n",
       "      <th>tokens</th>\n",
       "    </tr>\n",
       "  </thead>\n",
       "  <tbody>\n",
       "  </tbody>\n",
       "</table>\n",
       "</div>"
      ],
      "text/plain": [
       "Empty DataFrame\n",
       "Columns: [filename, tokens]\n",
       "Index: []"
      ]
     },
     "execution_count": 38,
     "metadata": {},
     "output_type": "execute_result"
    }
   ],
   "source": [
    "# Nan check\n",
    "\n",
    "data_test.loc[data_test.isnull().any(axis=1)]"
   ]
  },
  {
   "cell_type": "code",
   "execution_count": 39,
   "metadata": {
    "scrolled": false
   },
   "outputs": [
    {
     "data": {
      "text/html": [
       "<div>\n",
       "<style scoped>\n",
       "    .dataframe tbody tr th:only-of-type {\n",
       "        vertical-align: middle;\n",
       "    }\n",
       "\n",
       "    .dataframe tbody tr th {\n",
       "        vertical-align: top;\n",
       "    }\n",
       "\n",
       "    .dataframe thead th {\n",
       "        text-align: right;\n",
       "    }\n",
       "</style>\n",
       "<table border=\"1\" class=\"dataframe\">\n",
       "  <thead>\n",
       "    <tr style=\"text-align: right;\">\n",
       "      <th></th>\n",
       "      <th>filename</th>\n",
       "      <th>tokens</th>\n",
       "    </tr>\n",
       "  </thead>\n",
       "  <tbody>\n",
       "    <tr>\n",
       "      <th>0</th>\n",
       "      <td>54740.txt</td>\n",
       "      <td>[９, 字, 下げ, 一, 一, は, 中, 見出し, 日本一, の, 面白い, 話, が,...</td>\n",
       "    </tr>\n",
       "    <tr>\n",
       "      <th>1</th>\n",
       "      <td>56321.txt</td>\n",
       "      <td>[５, 字, 下げ, 一, 一, は, 中, 見出し, 捕物, 小説, という, もの, を...</td>\n",
       "    </tr>\n",
       "    <tr>\n",
       "      <th>2</th>\n",
       "      <td>56201.txt</td>\n",
       "      <td>[５, 字, 下げ, 一, 一, は, 中, 見出し, おや, 八, 五, 郎, 親分, も...</td>\n",
       "    </tr>\n",
       "    <tr>\n",
       "      <th>3</th>\n",
       "      <td>51417.txt</td>\n",
       "      <td>[先刻, 御, 面, 遠い, 遠い, に, 倒, の, 注記, 御, 頼, 申, 上, 候,...</td>\n",
       "    </tr>\n",
       "    <tr>\n",
       "      <th>4</th>\n",
       "      <td>49540.txt</td>\n",
       "      <td>[何, と, いう, て, も, この, 頃, は, 読書, 子, に, 取る, て, は,...</td>\n",
       "    </tr>\n",
       "    <tr>\n",
       "      <th>...</th>\n",
       "      <td>...</td>\n",
       "      <td>...</td>\n",
       "    </tr>\n",
       "    <tr>\n",
       "      <th>527</th>\n",
       "      <td>476.txt</td>\n",
       "      <td>[一, 次郎左衛門, じ, ろ, ざえもん, が, 野, 州, や, しゅう, 佐野, の,...</td>\n",
       "    </tr>\n",
       "    <tr>\n",
       "      <th>528</th>\n",
       "      <td>57308.txt</td>\n",
       "      <td>[今年, の, 六月, 本土, 爆撃, が, いよいよ, 苛烈, に, なる, て, 東京,...</td>\n",
       "    </tr>\n",
       "    <tr>\n",
       "      <th>529</th>\n",
       "      <td>1710.txt</td>\n",
       "      <td>[序, 思想, という, もの, は, その, 持ち主, の, 身, に, つく, ば, そ...</td>\n",
       "    </tr>\n",
       "    <tr>\n",
       "      <th>530</th>\n",
       "      <td>53489.txt</td>\n",
       "      <td>[もう, 十, 年, 以上, も, 前, の, こと, だ, ある, が, まだ, 私, が...</td>\n",
       "    </tr>\n",
       "    <tr>\n",
       "      <th>531</th>\n",
       "      <td>4588.txt</td>\n",
       "      <td>[８, 字, 下げ, 上, 上, は, 中, 見出し, こ, ゝ, に, 信州, しん, す...</td>\n",
       "    </tr>\n",
       "  </tbody>\n",
       "</table>\n",
       "<p>532 rows × 2 columns</p>\n",
       "</div>"
      ],
      "text/plain": [
       "      filename                                             tokens\n",
       "0    54740.txt  [９, 字, 下げ, 一, 一, は, 中, 見出し, 日本一, の, 面白い, 話, が,...\n",
       "1    56321.txt  [５, 字, 下げ, 一, 一, は, 中, 見出し, 捕物, 小説, という, もの, を...\n",
       "2    56201.txt  [５, 字, 下げ, 一, 一, は, 中, 見出し, おや, 八, 五, 郎, 親分, も...\n",
       "3    51417.txt  [先刻, 御, 面, 遠い, 遠い, に, 倒, の, 注記, 御, 頼, 申, 上, 候,...\n",
       "4    49540.txt  [何, と, いう, て, も, この, 頃, は, 読書, 子, に, 取る, て, は,...\n",
       "..         ...                                                ...\n",
       "527    476.txt  [一, 次郎左衛門, じ, ろ, ざえもん, が, 野, 州, や, しゅう, 佐野, の,...\n",
       "528  57308.txt  [今年, の, 六月, 本土, 爆撃, が, いよいよ, 苛烈, に, なる, て, 東京,...\n",
       "529   1710.txt  [序, 思想, という, もの, は, その, 持ち主, の, 身, に, つく, ば, そ...\n",
       "530  53489.txt  [もう, 十, 年, 以上, も, 前, の, こと, だ, ある, が, まだ, 私, が...\n",
       "531   4588.txt  [８, 字, 下げ, 上, 上, は, 中, 見出し, こ, ゝ, に, 信州, しん, す...\n",
       "\n",
       "[532 rows x 2 columns]"
      ]
     },
     "execution_count": 39,
     "metadata": {},
     "output_type": "execute_result"
    }
   ],
   "source": [
    "data_test"
   ]
  },
  {
   "cell_type": "markdown",
   "metadata": {},
   "source": [
    "### vectorize"
   ]
  },
  {
   "cell_type": "code",
   "execution_count": 52,
   "metadata": {},
   "outputs": [],
   "source": [
    "word2vec_parameters = {\n",
    "    'size':200,   # Word vector dimensionality\n",
    "    'min_count':20,    # Minimum word count\n",
    "    'workers':40,    # Number of threads to run in parallel\n",
    "    'window':10,    # Context window size\n",
    "    'sample':1e-3,    # Downsample setting for frequent words\n",
    "    'hs':0,\n",
    "    'sg':1,\n",
    "    'negative':10,\n",
    "    'iter':25,\n",
    "    'seed':1\n",
    "}\n",
    "\n",
    "word_embedding_vectors, vocabulary = build_word_embedding_vectors(corpus_tokenized_ja_test, word2vec_parameters)"
   ]
  },
  {
   "cell_type": "code",
   "execution_count": 53,
   "metadata": {},
   "outputs": [],
   "source": [
    "logger('word_embedding_vectors.npy', word_embedding_vectors)\n",
    "logger('vocabulary.json', vocabulary)"
   ]
  },
  {
   "cell_type": "code",
   "execution_count": 54,
   "metadata": {},
   "outputs": [
    {
     "data": {
      "text/plain": [
       "((15353, 200), 15353)"
      ]
     },
     "execution_count": 54,
     "metadata": {},
     "output_type": "execute_result"
    }
   ],
   "source": [
    "timestamp = '20200213T135503Z'\n",
    "word_embedding_vectors = load_log(timestamp,'word_embedding_vectors.npy')\n",
    "vocabulary = load_log(timestamp,'vocabulary.json')\n",
    "word_embedding_vectors.shape, len(vocabulary)"
   ]
  },
  {
   "cell_type": "code",
   "execution_count": 55,
   "metadata": {},
   "outputs": [],
   "source": [
    "gmm_parameters = {\n",
    "    'n_components':60,\n",
    "    'random_state':42,\n",
    "    'covariance_type':'tied',\n",
    "    'init_params':'kmeans',\n",
    "    'max_iter':50\n",
    "}\n",
    "\n",
    "word_cluster_probability_matrix = culster_embedding_vectors(word_embedding_vectors, gmm_parameters)"
   ]
  },
  {
   "cell_type": "code",
   "execution_count": 56,
   "metadata": {},
   "outputs": [],
   "source": [
    "logger('word_cluster_probabilities.npy', word_cluster_probability_matrix)"
   ]
  },
  {
   "cell_type": "code",
   "execution_count": 57,
   "metadata": {},
   "outputs": [
    {
     "data": {
      "text/plain": [
       "(15353, 60)"
      ]
     },
     "execution_count": 57,
     "metadata": {},
     "output_type": "execute_result"
    }
   ],
   "source": [
    "timestamp = '20200213T135503Z'\n",
    "word_cluster_probability_matrix = load_log(timestamp,'word_cluster_probabilities.npy')\n",
    "word_cluster_probability_matrix.shape"
   ]
  },
  {
   "cell_type": "code",
   "execution_count": 58,
   "metadata": {},
   "outputs": [],
   "source": [
    "tf, idf, tfidf = build_tfidf_selfmade(corpus_tokenized_ja_test, vocabulary)"
   ]
  },
  {
   "cell_type": "code",
   "execution_count": 59,
   "metadata": {},
   "outputs": [],
   "source": [
    "# logger = initialize_logger()\n",
    "logger('tf_matrix.npy', tf)\n",
    "logger('idf_vector.npy', idf)\n",
    "logger('tfidf_matrix.npy', tfidf)"
   ]
  },
  {
   "cell_type": "code",
   "execution_count": 60,
   "metadata": {},
   "outputs": [],
   "source": [
    "timestamp = '20200213T135503Z'\n",
    "tf_matrix = load_log(timestamp,'tf_matrix.npy')\n",
    "idf_vector = load_log(timestamp,'idf_vector.npy')\n",
    "tfidf_matrix = load_log(timestamp,'tfidf_matrix.npy')"
   ]
  },
  {
   "cell_type": "code",
   "execution_count": 61,
   "metadata": {},
   "outputs": [
    {
     "data": {
      "text/plain": [
       "((532, 15353), (15353,), (532, 15353))"
      ]
     },
     "execution_count": 61,
     "metadata": {},
     "output_type": "execute_result"
    }
   ],
   "source": [
    "tf_matrix.shape, idf_vector.shape, tfidf_matrix.shape"
   ]
  },
  {
   "cell_type": "code",
   "execution_count": 62,
   "metadata": {},
   "outputs": [],
   "source": [
    "word_topic_vectors = build_word_topic_vector(word_embedding_vectors, word_cluster_probability_matrix, idf_vector)\n",
    "document_vectors = build_document_vectors(vocabulary, corpus_tokenized_ja_test, word_topic_vectors)\n",
    "param = 0.04\n",
    "scdv = make_sparse(document_vectors, param)"
   ]
  },
  {
   "cell_type": "code",
   "execution_count": 63,
   "metadata": {},
   "outputs": [],
   "source": [
    "# logger = initialize_logger()\n",
    "logger('scdv.npy', scdv)"
   ]
  },
  {
   "cell_type": "code",
   "execution_count": 59,
   "metadata": {},
   "outputs": [
    {
     "data": {
      "text/plain": [
       "(532, 12000)"
      ]
     },
     "execution_count": 59,
     "metadata": {},
     "output_type": "execute_result"
    }
   ],
   "source": [
    "timestamp = '20200213T135503Z'\n",
    "scdv = load_log(timestamp,'scdv.npy')\n",
    "scdv.shape"
   ]
  },
  {
   "cell_type": "code",
   "execution_count": 60,
   "metadata": {},
   "outputs": [],
   "source": [
    "X_test = scdv"
   ]
  },
  {
   "cell_type": "code",
   "execution_count": null,
   "metadata": {},
   "outputs": [],
   "source": []
  },
  {
   "cell_type": "markdown",
   "metadata": {},
   "source": [
    "### train classifier with training data"
   ]
  },
  {
   "cell_type": "code",
   "execution_count": 40,
   "metadata": {},
   "outputs": [
    {
     "data": {
      "text/plain": [
       "(1589, 12000)"
      ]
     },
     "execution_count": 40,
     "metadata": {},
     "output_type": "execute_result"
    }
   ],
   "source": [
    "timestamp = '20200211T065328Z'\n",
    "X_train = load_log(timestamp,'scdv.npy')\n",
    "X_train.shape"
   ]
  },
  {
   "cell_type": "code",
   "execution_count": 41,
   "metadata": {},
   "outputs": [],
   "source": [
    "y_train = y"
   ]
  },
  {
   "cell_type": "code",
   "execution_count": 42,
   "metadata": {},
   "outputs": [
    {
     "data": {
      "text/plain": [
       "(1589,)"
      ]
     },
     "execution_count": 42,
     "metadata": {},
     "output_type": "execute_result"
    }
   ],
   "source": [
    "y_train.shape"
   ]
  },
  {
   "cell_type": "code",
   "execution_count": 45,
   "metadata": {},
   "outputs": [
    {
     "data": {
      "text/plain": [
       "<BarContainer object of 17 artists>"
      ]
     },
     "execution_count": 45,
     "metadata": {},
     "output_type": "execute_result"
    },
    {
     "data": {
      "image/png": "[encoded data removed]",
      "text/plain": [
       "<Figure size 432x288 with 1 Axes>"
      ]
     },
     "metadata": {
      "needs_background": "light"
     },
     "output_type": "display_data"
    }
   ],
   "source": [
    "u, counts = np.unique(y_train, return_counts=True)\n",
    "plt.bar(u, counts)"
   ]
  },
  {
   "cell_type": "code",
   "execution_count": 130,
   "metadata": {},
   "outputs": [],
   "source": [
    "from sklearn.ensemble import RandomForestClassifier\n",
    "from sklearn.metrics import balanced_accuracy_score\n",
    "\n",
    "clf = RandomForestClassifier(random_state=0, max_depth=5, max_features='sqrt',\n",
    "                             class_weight='balanced', n_jobs=-1)"
   ]
  },
  {
   "cell_type": "code",
   "execution_count": 131,
   "metadata": {},
   "outputs": [
    {
     "data": {
      "text/plain": [
       "RandomForestClassifier(bootstrap=True, ccp_alpha=0.0, class_weight='balanced',\n",
       "                       criterion='gini', max_depth=5, max_features='sqrt',\n",
       "                       max_leaf_nodes=None, max_samples=None,\n",
       "                       min_impurity_decrease=0.0, min_impurity_split=None,\n",
       "                       min_samples_leaf=1, min_samples_split=2,\n",
       "                       min_weight_fraction_leaf=0.0, n_estimators=100,\n",
       "                       n_jobs=-1, oob_score=False, random_state=0, verbose=0,\n",
       "                       warm_start=False)"
      ]
     },
     "execution_count": 131,
     "metadata": {},
     "output_type": "execute_result"
    }
   ],
   "source": [
    "clf.fit(X_train, y_train)"
   ]
  },
  {
   "cell_type": "code",
   "execution_count": 132,
   "metadata": {},
   "outputs": [],
   "source": [
    "def kfold_splitter(n_samples, n_folds, rng):\n",
    "    shuffled_fold_indices = rng.permutation(np.arange(n_samples) % n_folds)\n",
    "    for k in range(n_folds):\n",
    "        mask = shuffled_fold_indices == k\n",
    "        yield tuple(map(np.flatnonzero, (mask, ~mask)))"
   ]
  },
  {
   "cell_type": "code",
   "execution_count": 133,
   "metadata": {},
   "outputs": [
    {
     "name": "stdout",
     "output_type": "stream",
     "text": [
      "0.9063431672967143\n",
      "0.7449781475733034\n"
     ]
    }
   ],
   "source": [
    "# inspect prediction for validation sets\n",
    "\n",
    "X, y = X_train, y_train\n",
    "\n",
    "n_fold = 5\n",
    "n_samples = y.size\n",
    "rng = np.random.RandomState(42)\n",
    "\n",
    "accuracy_train = []\n",
    "accuracy_test = []\n",
    "\n",
    "for val_idx, train_idx in kfold_splitter(n_samples, n_fold, rng):\n",
    "    y_val = y[val_idx]\n",
    "    y_train = y[train_idx]\n",
    "    X_val = X[val_idx]\n",
    "    X_train = X[train_idx]\n",
    "    \n",
    "    clf.fit(X_train, y_train)\n",
    "    \n",
    "    y_pred_train = clf.predict(X_train)\n",
    "    bas = balanced_accuracy_score(y_train, y_pred_train)\n",
    "    print(bas)\n",
    "    \n",
    "    y_pred_val = clf.predict(X_val)\n",
    "    bas = balanced_accuracy_score(y_val, y_pred_val)\n",
    "    print(bas)\n",
    "    \n",
    "    break"
   ]
  },
  {
   "cell_type": "code",
   "execution_count": 134,
   "metadata": {},
   "outputs": [
    {
     "data": {
      "text/plain": [
       "<BarContainer object of 17 artists>"
      ]
     },
     "execution_count": 134,
     "metadata": {},
     "output_type": "execute_result"
    },
    {
     "data": {
      "image/png": "[encoded data removed]",
      "text/plain": [
       "<Figure size 432x288 with 1 Axes>"
      ]
     },
     "metadata": {
      "needs_background": "light"
     },
     "output_type": "display_data"
    }
   ],
   "source": [
    "u, counts = np.unique(y_pred_val, return_counts=True)\n",
    "plt.bar(u, counts)"
   ]
  },
  {
   "cell_type": "markdown",
   "metadata": {},
   "source": [
    "### predict test label and set author names"
   ]
  },
  {
   "cell_type": "code",
   "execution_count": 135,
   "metadata": {},
   "outputs": [
    {
     "data": {
      "text/plain": [
       "(array([382.,  51.,  30.,  13.,   9.,  11.,  15.,   4.,   7.,   3.,   0.,\n",
       "          2.,   1.,   0.,   0.,   2.,   0.,   0.,   1.,   1.]),\n",
       " array([0.08960149, 0.09772012, 0.10583874, 0.11395737, 0.12207599,\n",
       "        0.13019462, 0.13831324, 0.14643187, 0.15455049, 0.16266912,\n",
       "        0.17078774, 0.17890637, 0.18702499, 0.19514362, 0.20326224,\n",
       "        0.21138087, 0.21949949, 0.22761812, 0.23573675, 0.24385537,\n",
       "        0.251974  ]),\n",
       " <a list of 20 Patch objects>)"
      ]
     },
     "execution_count": 135,
     "metadata": {},
     "output_type": "execute_result"
    },
    {
     "data": {
      "image/png": "[encoded data removed]",
      "text/plain": [
       "<Figure size 432x288 with 1 Axes>"
      ]
     },
     "metadata": {
      "needs_background": "light"
     },
     "output_type": "display_data"
    }
   ],
   "source": [
    "y_pred_proba = clf.predict_proba(X_test)\n",
    "plt.hist(list(map(max, y_pred_proba)), bins=20)\n",
    "# plt.hist(y_pred_proba.max(axis=1), bins=20)"
   ]
  },
  {
   "cell_type": "code",
   "execution_count": 139,
   "metadata": {},
   "outputs": [],
   "source": [
    "y_pred = y_pred_proba.argmax(axis=1)"
   ]
  },
  {
   "cell_type": "code",
   "execution_count": 141,
   "metadata": {
    "collapsed": true
   },
   "outputs": [
    {
     "data": {
      "text/plain": [
       "array([0, 9, 0, 0, 3, 0, 0, 0, 0, 0, 0, 0, 3, 9, 0, 2, 9, 1, 0, 0, 0, 0,\n",
       "       0, 3, 0, 0, 0, 0, 0, 0, 0, 0, 0, 0, 0, 0, 0, 0, 0, 0, 0, 0, 0, 9,\n",
       "       0, 1, 0, 0, 0, 3, 0, 0, 0, 3, 0, 0, 0, 0, 3, 0, 0, 0, 0, 0, 0, 0,\n",
       "       0, 9, 1, 0, 0, 0, 0, 0, 0, 0, 0, 0, 0, 0, 0, 0, 0, 0, 0, 0, 0, 0,\n",
       "       0, 0, 0, 0, 0, 2, 0, 1, 0, 9, 0, 0, 0, 0, 0, 2, 0, 0, 0, 0, 0, 9,\n",
       "       0, 0, 0, 0, 0, 0, 0, 0, 0, 0, 0, 0, 0, 3, 0, 0, 0, 0, 0, 0, 0, 0,\n",
       "       0, 0, 0, 0, 0, 0, 0, 0, 2, 0, 0, 0, 9, 0, 0, 0, 0, 3, 0, 0, 0, 0,\n",
       "       0, 0, 0, 0, 1, 3, 9, 0, 0, 0, 3, 3, 0, 0, 0, 0, 0, 0, 0, 0, 0, 3,\n",
       "       0, 3, 3, 0, 0, 0, 0, 0, 0, 0, 3, 0, 0, 0, 0, 3, 0, 0, 0, 3, 0, 0,\n",
       "       0, 0, 0, 0, 0, 0, 0, 0, 0, 3, 0, 0, 0, 0, 0, 0, 0, 0, 0, 3, 0, 0,\n",
       "       0, 0, 0, 0, 2, 0, 9, 3, 0, 3, 0, 0, 0, 0, 3, 0, 0, 0, 0, 0, 0, 0,\n",
       "       3, 3, 0, 3, 3, 1, 0, 0, 0, 0, 3, 0, 0, 0, 0, 0, 0, 0, 0, 0, 0, 0,\n",
       "       0, 3, 0, 1, 0, 0, 0, 0, 3, 3, 1, 0, 3, 0, 0, 0, 3, 0, 0, 0, 0, 0,\n",
       "       2, 0, 0, 0, 0, 0, 0, 0, 0, 0, 2, 0, 1, 0, 0, 0, 0, 0, 0, 0, 0, 0,\n",
       "       0, 0, 0, 0, 0, 9, 0, 0, 1, 0, 0, 0, 0, 0, 0, 0, 3, 0, 0, 0, 0, 0,\n",
       "       1, 0, 3, 0, 0, 0, 1, 0, 3, 0, 0, 3, 0, 0, 3, 0, 0, 0, 0, 0, 0, 0,\n",
       "       0, 0, 0, 0, 0, 0, 0, 3, 0, 0, 3, 0, 3, 0, 0, 0, 0, 0, 0, 0, 0, 0,\n",
       "       0, 9, 0, 3, 0, 0, 3, 0, 0, 1, 0, 0, 0, 0, 2, 0, 0, 0, 0, 0, 0, 0,\n",
       "       0, 0, 0, 0, 3, 0, 0, 0, 0, 0, 3, 0, 3, 0, 0, 0, 0, 0, 9, 0, 0, 0,\n",
       "       0, 0, 0, 3, 0, 0, 2, 0, 0, 0, 2, 1, 0, 9, 1, 0, 0, 0, 3, 0, 0, 0,\n",
       "       0, 0, 0, 0, 0, 0, 0, 0, 0, 1, 0, 0, 0, 0, 0, 1, 0, 0, 0, 3, 0, 0,\n",
       "       0, 0, 1, 0, 0, 0, 0, 0, 3, 0, 0, 0, 0, 0, 0, 0, 3, 0, 3, 0, 0, 0,\n",
       "       3, 0, 0, 3, 3, 0, 0, 0, 0, 0, 3, 2, 0, 0, 0, 0, 0, 0, 0, 0, 0, 3,\n",
       "       0, 3, 0, 0, 0, 0, 0, 0, 0, 0, 0, 0, 0, 9, 0, 3, 0, 0, 9, 0, 0, 0,\n",
       "       0, 3, 1, 0])"
      ]
     },
     "execution_count": 141,
     "metadata": {},
     "output_type": "execute_result"
    }
   ],
   "source": [
    "y_pred"
   ]
  },
  {
   "cell_type": "code",
   "execution_count": 140,
   "metadata": {
    "scrolled": true
   },
   "outputs": [
    {
     "data": {
      "text/plain": [
       "<BarContainer object of 5 artists>"
      ]
     },
     "execution_count": 140,
     "metadata": {},
     "output_type": "execute_result"
    },
    {
     "data": {
      "image/png": "[encoded data removed]",
      "text/plain": [
       "<Figure size 432x288 with 1 Axes>"
      ]
     },
     "metadata": {
      "needs_background": "light"
     },
     "output_type": "display_data"
    }
   ],
   "source": [
    "u, counts = np.unique(y_pred, return_counts=True)\n",
    "plt.bar(u, counts)"
   ]
  },
  {
   "cell_type": "code",
   "execution_count": null,
   "metadata": {},
   "outputs": [],
   "source": []
  },
  {
   "cell_type": "code",
   "execution_count": 129,
   "metadata": {},
   "outputs": [
    {
     "data": {
      "text/plain": [
       "[0, 1, 2, 3, 4, 5, 6, 7, 8, 9, 10, 11, 12, 13, 14, 15, 16]"
      ]
     },
     "execution_count": 129,
     "metadata": {},
     "output_type": "execute_result"
    }
   ],
   "source": [
    "list(range(17))"
   ]
  },
  {
   "cell_type": "code",
   "execution_count": 61,
   "metadata": {},
   "outputs": [],
   "source": [
    "y_pred = clf.predict(X_test)"
   ]
  },
  {
   "cell_type": "code",
   "execution_count": 63,
   "metadata": {},
   "outputs": [
    {
     "data": {
      "text/plain": [
       "(532, 532)"
      ]
     },
     "execution_count": 63,
     "metadata": {},
     "output_type": "execute_result"
    }
   ],
   "source": [
    "len(y_pred), len(X_test)"
   ]
  },
  {
   "cell_type": "code",
   "execution_count": 64,
   "metadata": {},
   "outputs": [
    {
     "data": {
      "text/plain": [
       "<BarContainer object of 13 artists>"
      ]
     },
     "execution_count": 64,
     "metadata": {},
     "output_type": "execute_result"
    },
    {
     "data": {
      "image/png": "[encoded data removed]",
      "text/plain": [
       "<Figure size 432x288 with 1 Axes>"
      ]
     },
     "metadata": {
      "needs_background": "light"
     },
     "output_type": "display_data"
    }
   ],
   "source": [
    "u, counts = np.unique(y_pred, return_counts=True)\n",
    "plt.bar(u, counts)"
   ]
  },
  {
   "cell_type": "code",
   "execution_count": 65,
   "metadata": {},
   "outputs": [
    {
     "data": {
      "text/plain": [
       "array([ 6,  3,  6,  3,  3,  0,  3, 15,  3,  6,  3,  0,  3, 16, 11,  2,  0,\n",
       "        3,  3, 16,  0, 16,  6,  3,  3,  3,  6,  5, 16,  3, 16,  6,  0,  0,\n",
       "        0,  0,  0,  3,  3, 16,  0,  3,  5,  8,  0,  3,  3,  5,  3,  3,  3,\n",
       "        3,  6,  3,  5,  0,  3,  0,  3,  3,  3,  3,  3,  3,  5,  6,  6,  5,\n",
       "        1,  0,  6,  6,  3,  3,  5,  3,  0,  5, 16,  6, 16,  6,  6,  3, 16,\n",
       "        3,  0, 11,  5,  6,  6,  3,  3,  2,  3,  1, 16,  9,  0,  0, 16,  0,\n",
       "        3,  2,  5,  3, 11,  6,  3, 11,  0,  3,  0,  6,  6,  3,  0,  6,  3,\n",
       "        6,  5,  3,  3,  3,  0,  6,  4,  3,  3,  0, 16,  0,  3,  0,  3,  5,\n",
       "        5,  5,  6,  3,  0,  3,  3,  6,  9,  3,  0,  0,  0,  3,  0,  5, 16,\n",
       "        5,  0,  3,  3,  0,  1,  3,  9,  3, 16,  3,  3,  3,  3, 11,  0,  5,\n",
       "        6,  6,  0, 16, 14,  3, 16,  3,  3,  0,  6,  0, 11,  3,  3,  6,  3,\n",
       "        6,  0,  3, 16,  9,  5,  6,  0,  3,  6,  6, 16, 16,  3,  3,  6,  3,\n",
       "        3,  6,  3,  3,  0,  3,  6, 16,  0,  3,  6,  0,  3,  3, 16, 16,  0,\n",
       "        0,  6,  0,  0,  0,  9,  3,  0,  3,  0,  5,  0,  3,  3,  0,  5,  3,\n",
       "       11,  0,  3,  0,  3,  3,  3,  3,  3,  1, 16,  5,  6,  3,  3,  0,  0,\n",
       "        5,  3, 16,  0,  3,  6,  0, 16,  5,  3,  3,  3,  1,  6,  3,  3,  0,\n",
       "        3,  3,  1,  0,  3,  3,  5,  3,  3,  3,  5,  3,  0,  5,  2, 16, 16,\n",
       "        3,  3,  3,  0,  6,  5,  6,  2,  0,  1, 16,  6,  0,  0,  3,  3,  3,\n",
       "        5,  6,  5,  5, 15,  3, 16,  9,  6,  3,  1,  0,  3,  0,  6, 11,  0,\n",
       "        6,  3,  5, 11,  3,  3,  6,  1,  3,  3,  0,  3,  6,  1,  0,  3,  0,\n",
       "        3,  3,  3,  6, 11,  3,  3,  5,  0,  0,  5,  3, 16,  5,  0,  6,  6,\n",
       "        3,  5,  3,  6,  3,  3,  3,  3,  0, 11,  0,  6,  0, 16, 16,  0,  6,\n",
       "        6,  3,  6,  3, 16,  3,  3,  0,  5,  1,  3, 16,  0,  5,  2, 16, 16,\n",
       "        6,  3,  3,  0,  6, 15,  0,  0, 16,  3,  3,  6,  5, 16,  5,  3,  3,\n",
       "        3,  6,  5,  6,  0,  6,  9,  0,  6,  6, 16,  3,  8,  3,  0,  3,  2,\n",
       "        3,  0,  0,  2,  1,  3,  3,  1,  3,  0,  3,  3, 16, 16,  3,  6,  3,\n",
       "       16,  5,  6, 16,  5,  5,  5,  1,  0,  0,  3,  6,  6,  1, 16, 11,  6,\n",
       "        3,  0,  5, 16, 16,  3,  6,  3,  5,  3,  0,  3,  3,  0,  5,  3, 16,\n",
       "       11,  3,  3,  5, 11,  3,  0,  5,  3,  0,  3, 11,  3, 16,  3,  3, 16,\n",
       "        6,  3,  5,  0,  0,  6,  3,  5,  3, 16,  6,  3,  3,  5,  3,  6,  6,\n",
       "        3,  3,  3,  0, 16,  6,  3,  3,  0,  9,  5,  3, 16,  0,  9, 16,  3,\n",
       "       16,  0,  3,  1,  5])"
      ]
     },
     "execution_count": 65,
     "metadata": {},
     "output_type": "execute_result"
    }
   ],
   "source": [
    "y_pred"
   ]
  },
  {
   "cell_type": "code",
   "execution_count": 66,
   "metadata": {
    "scrolled": true
   },
   "outputs": [],
   "source": [
    "label_author_map = dict([(v,k) for k,v in author_label_map.items()])"
   ]
  },
  {
   "cell_type": "code",
   "execution_count": 67,
   "metadata": {},
   "outputs": [],
   "source": [
    "author_pred = list(map(label_author_map.get, y_pred))"
   ]
  },
  {
   "cell_type": "code",
   "execution_count": 68,
   "metadata": {
    "scrolled": true
   },
   "outputs": [
    {
     "data": {
      "text/html": [
       "<div>\n",
       "<style scoped>\n",
       "    .dataframe tbody tr th:only-of-type {\n",
       "        vertical-align: middle;\n",
       "    }\n",
       "\n",
       "    .dataframe tbody tr th {\n",
       "        vertical-align: top;\n",
       "    }\n",
       "\n",
       "    .dataframe thead th {\n",
       "        text-align: right;\n",
       "    }\n",
       "</style>\n",
       "<table border=\"1\" class=\"dataframe\">\n",
       "  <thead>\n",
       "    <tr style=\"text-align: right;\">\n",
       "      <th></th>\n",
       "      <th>filename</th>\n",
       "      <th>tokens</th>\n",
       "      <th>predicted label</th>\n",
       "      <th>predicted author</th>\n",
       "    </tr>\n",
       "  </thead>\n",
       "  <tbody>\n",
       "    <tr>\n",
       "      <th>0</th>\n",
       "      <td>54740.txt</td>\n",
       "      <td>[９, 字, 下げ, 一, 一, は, 中, 見出し, 日本一, の, 面白い, 話, が,...</td>\n",
       "      <td>6</td>\n",
       "      <td>高村 光雲</td>\n",
       "    </tr>\n",
       "    <tr>\n",
       "      <th>1</th>\n",
       "      <td>56321.txt</td>\n",
       "      <td>[５, 字, 下げ, 一, 一, は, 中, 見出し, 捕物, 小説, という, もの, を...</td>\n",
       "      <td>3</td>\n",
       "      <td>野村 胡堂</td>\n",
       "    </tr>\n",
       "    <tr>\n",
       "      <th>2</th>\n",
       "      <td>56201.txt</td>\n",
       "      <td>[５, 字, 下げ, 一, 一, は, 中, 見出し, おや, 八, 五, 郎, 親分, も...</td>\n",
       "      <td>6</td>\n",
       "      <td>高村 光雲</td>\n",
       "    </tr>\n",
       "    <tr>\n",
       "      <th>3</th>\n",
       "      <td>51417.txt</td>\n",
       "      <td>[先刻, 御, 面, 遠い, 遠い, に, 倒, の, 注記, 御, 頼, 申, 上, 候,...</td>\n",
       "      <td>3</td>\n",
       "      <td>野村 胡堂</td>\n",
       "    </tr>\n",
       "    <tr>\n",
       "      <th>4</th>\n",
       "      <td>49540.txt</td>\n",
       "      <td>[何, と, いう, て, も, この, 頃, は, 読書, 子, に, 取る, て, は,...</td>\n",
       "      <td>3</td>\n",
       "      <td>野村 胡堂</td>\n",
       "    </tr>\n",
       "    <tr>\n",
       "      <th>...</th>\n",
       "      <td>...</td>\n",
       "      <td>...</td>\n",
       "      <td>...</td>\n",
       "      <td>...</td>\n",
       "    </tr>\n",
       "    <tr>\n",
       "      <th>527</th>\n",
       "      <td>476.txt</td>\n",
       "      <td>[一, 次郎左衛門, じ, ろ, ざえもん, が, 野, 州, や, しゅう, 佐野, の,...</td>\n",
       "      <td>16</td>\n",
       "      <td>中谷 宇吉郎</td>\n",
       "    </tr>\n",
       "    <tr>\n",
       "      <th>528</th>\n",
       "      <td>57308.txt</td>\n",
       "      <td>[今年, の, 六月, 本土, 爆撃, が, いよいよ, 苛烈, に, なる, て, 東京,...</td>\n",
       "      <td>0</td>\n",
       "      <td>折口 信夫</td>\n",
       "    </tr>\n",
       "    <tr>\n",
       "      <th>529</th>\n",
       "      <td>1710.txt</td>\n",
       "      <td>[序, 思想, という, もの, は, その, 持ち主, の, 身, に, つく, ば, そ...</td>\n",
       "      <td>3</td>\n",
       "      <td>野村 胡堂</td>\n",
       "    </tr>\n",
       "    <tr>\n",
       "      <th>530</th>\n",
       "      <td>53489.txt</td>\n",
       "      <td>[もう, 十, 年, 以上, も, 前, の, こと, だ, ある, が, まだ, 私, が...</td>\n",
       "      <td>1</td>\n",
       "      <td>種田 山頭火</td>\n",
       "    </tr>\n",
       "    <tr>\n",
       "      <th>531</th>\n",
       "      <td>4588.txt</td>\n",
       "      <td>[８, 字, 下げ, 上, 上, は, 中, 見出し, こ, ゝ, に, 信州, しん, す...</td>\n",
       "      <td>5</td>\n",
       "      <td>戸坂 潤</td>\n",
       "    </tr>\n",
       "  </tbody>\n",
       "</table>\n",
       "<p>532 rows × 4 columns</p>\n",
       "</div>"
      ],
      "text/plain": [
       "      filename                                             tokens  \\\n",
       "0    54740.txt  [９, 字, 下げ, 一, 一, は, 中, 見出し, 日本一, の, 面白い, 話, が,...   \n",
       "1    56321.txt  [５, 字, 下げ, 一, 一, は, 中, 見出し, 捕物, 小説, という, もの, を...   \n",
       "2    56201.txt  [５, 字, 下げ, 一, 一, は, 中, 見出し, おや, 八, 五, 郎, 親分, も...   \n",
       "3    51417.txt  [先刻, 御, 面, 遠い, 遠い, に, 倒, の, 注記, 御, 頼, 申, 上, 候,...   \n",
       "4    49540.txt  [何, と, いう, て, も, この, 頃, は, 読書, 子, に, 取る, て, は,...   \n",
       "..         ...                                                ...   \n",
       "527    476.txt  [一, 次郎左衛門, じ, ろ, ざえもん, が, 野, 州, や, しゅう, 佐野, の,...   \n",
       "528  57308.txt  [今年, の, 六月, 本土, 爆撃, が, いよいよ, 苛烈, に, なる, て, 東京,...   \n",
       "529   1710.txt  [序, 思想, という, もの, は, その, 持ち主, の, 身, に, つく, ば, そ...   \n",
       "530  53489.txt  [もう, 十, 年, 以上, も, 前, の, こと, だ, ある, が, まだ, 私, が...   \n",
       "531   4588.txt  [８, 字, 下げ, 上, 上, は, 中, 見出し, こ, ゝ, に, 信州, しん, す...   \n",
       "\n",
       "     predicted label predicted author  \n",
       "0                  6            高村 光雲  \n",
       "1                  3            野村 胡堂  \n",
       "2                  6            高村 光雲  \n",
       "3                  3            野村 胡堂  \n",
       "4                  3            野村 胡堂  \n",
       "..               ...              ...  \n",
       "527               16           中谷 宇吉郎  \n",
       "528                0            折口 信夫  \n",
       "529                3            野村 胡堂  \n",
       "530                1           種田 山頭火  \n",
       "531                5             戸坂 潤  \n",
       "\n",
       "[532 rows x 4 columns]"
      ]
     },
     "execution_count": 68,
     "metadata": {},
     "output_type": "execute_result"
    }
   ],
   "source": [
    "data_test['predicted label'] = y_pred\n",
    "data_test['predicted author'] = author_pred\n",
    "data_test"
   ]
  },
  {
   "cell_type": "code",
   "execution_count": 101,
   "metadata": {},
   "outputs": [
    {
     "data": {
      "text/plain": [
       "'岡本 綺堂'"
      ]
     },
     "execution_count": 101,
     "metadata": {},
     "output_type": "execute_result"
    }
   ],
   "source": [
    "filename_author_map.get('49541.txt')"
   ]
  },
  {
   "cell_type": "code",
   "execution_count": 98,
   "metadata": {},
   "outputs": [],
   "source": [
    "testfilename_author_map = dict(zip(data_test['filename'], data_test['predicted author']))"
   ]
  },
  {
   "cell_type": "code",
   "execution_count": 94,
   "metadata": {},
   "outputs": [],
   "source": [
    "testfilename_author_map.get('56319.txt')"
   ]
  },
  {
   "cell_type": "code",
   "execution_count": 142,
   "metadata": {
    "scrolled": true
   },
   "outputs": [
    {
     "data": {
      "text/html": [
       "<div>\n",
       "<style scoped>\n",
       "    .dataframe tbody tr th:only-of-type {\n",
       "        vertical-align: middle;\n",
       "    }\n",
       "\n",
       "    .dataframe tbody tr th {\n",
       "        vertical-align: top;\n",
       "    }\n",
       "\n",
       "    .dataframe thead th {\n",
       "        text-align: right;\n",
       "    }\n",
       "</style>\n",
       "<table border=\"1\" class=\"dataframe\">\n",
       "  <thead>\n",
       "    <tr style=\"text-align: right;\">\n",
       "      <th></th>\n",
       "      <th>novel_id</th>\n",
       "      <th>filename</th>\n",
       "    </tr>\n",
       "  </thead>\n",
       "  <tbody>\n",
       "    <tr>\n",
       "      <th>0</th>\n",
       "      <td>2198</td>\n",
       "      <td>2198.txt</td>\n",
       "    </tr>\n",
       "    <tr>\n",
       "      <th>1</th>\n",
       "      <td>2213</td>\n",
       "      <td>2213.txt</td>\n",
       "    </tr>\n",
       "    <tr>\n",
       "      <th>2</th>\n",
       "      <td>2627</td>\n",
       "      <td>2627.txt</td>\n",
       "    </tr>\n",
       "    <tr>\n",
       "      <th>3</th>\n",
       "      <td>2618</td>\n",
       "      <td>2618.txt</td>\n",
       "    </tr>\n",
       "    <tr>\n",
       "      <th>4</th>\n",
       "      <td>2621</td>\n",
       "      <td>2621.txt</td>\n",
       "    </tr>\n",
       "    <tr>\n",
       "      <th>...</th>\n",
       "      <td>...</td>\n",
       "      <td>...</td>\n",
       "    </tr>\n",
       "    <tr>\n",
       "      <th>527</th>\n",
       "      <td>48367</td>\n",
       "      <td>48367.txt</td>\n",
       "    </tr>\n",
       "    <tr>\n",
       "      <th>528</th>\n",
       "      <td>48163</td>\n",
       "      <td>48163.txt</td>\n",
       "    </tr>\n",
       "    <tr>\n",
       "      <th>529</th>\n",
       "      <td>48151</td>\n",
       "      <td>48151.txt</td>\n",
       "    </tr>\n",
       "    <tr>\n",
       "      <th>530</th>\n",
       "      <td>48152</td>\n",
       "      <td>48152.txt</td>\n",
       "    </tr>\n",
       "    <tr>\n",
       "      <th>531</th>\n",
       "      <td>4699</td>\n",
       "      <td>4699.txt</td>\n",
       "    </tr>\n",
       "  </tbody>\n",
       "</table>\n",
       "<p>532 rows × 2 columns</p>\n",
       "</div>"
      ],
      "text/plain": [
       "     novel_id   filename\n",
       "0        2198   2198.txt\n",
       "1        2213   2213.txt\n",
       "2        2627   2627.txt\n",
       "3        2618   2618.txt\n",
       "4        2621   2621.txt\n",
       "..        ...        ...\n",
       "527     48367  48367.txt\n",
       "528     48163  48163.txt\n",
       "529     48151  48151.txt\n",
       "530     48152  48152.txt\n",
       "531      4699   4699.txt\n",
       "\n",
       "[532 rows x 2 columns]"
      ]
     },
     "execution_count": 142,
     "metadata": {},
     "output_type": "execute_result"
    }
   ],
   "source": [
    "# TODO: align filenames\n",
    "\n",
    "import pandas as pd\n",
    "\n",
    "\n",
    "input_test='./aozora_datasets_min/test_author_novel.csv'\n",
    "df_test = pd.read_csv(input_test)\n",
    "df_test"
   ]
  },
  {
   "cell_type": "code",
   "execution_count": 147,
   "metadata": {},
   "outputs": [],
   "source": [
    "df_test['author'] = list(map(testfilename_author_map.get, df_test['filename']))"
   ]
  },
  {
   "cell_type": "code",
   "execution_count": 149,
   "metadata": {},
   "outputs": [
    {
     "data": {
      "text/html": [
       "<div>\n",
       "<style scoped>\n",
       "    .dataframe tbody tr th:only-of-type {\n",
       "        vertical-align: middle;\n",
       "    }\n",
       "\n",
       "    .dataframe tbody tr th {\n",
       "        vertical-align: top;\n",
       "    }\n",
       "\n",
       "    .dataframe thead th {\n",
       "        text-align: right;\n",
       "    }\n",
       "</style>\n",
       "<table border=\"1\" class=\"dataframe\">\n",
       "  <thead>\n",
       "    <tr style=\"text-align: right;\">\n",
       "      <th></th>\n",
       "      <th>novel_id</th>\n",
       "      <th>filename</th>\n",
       "      <th>author</th>\n",
       "    </tr>\n",
       "  </thead>\n",
       "  <tbody>\n",
       "    <tr>\n",
       "      <th>0</th>\n",
       "      <td>2198</td>\n",
       "      <td>2198.txt</td>\n",
       "      <td>戸坂 潤</td>\n",
       "    </tr>\n",
       "    <tr>\n",
       "      <th>1</th>\n",
       "      <td>2213</td>\n",
       "      <td>2213.txt</td>\n",
       "      <td>戸坂 潤</td>\n",
       "    </tr>\n",
       "    <tr>\n",
       "      <th>2</th>\n",
       "      <td>2627</td>\n",
       "      <td>2627.txt</td>\n",
       "      <td>石川 啄木</td>\n",
       "    </tr>\n",
       "    <tr>\n",
       "      <th>3</th>\n",
       "      <td>2618</td>\n",
       "      <td>2618.txt</td>\n",
       "      <td>正岡 子規</td>\n",
       "    </tr>\n",
       "    <tr>\n",
       "      <th>4</th>\n",
       "      <td>2621</td>\n",
       "      <td>2621.txt</td>\n",
       "      <td>野村 胡堂</td>\n",
       "    </tr>\n",
       "    <tr>\n",
       "      <th>5</th>\n",
       "      <td>3409</td>\n",
       "      <td>3409.txt</td>\n",
       "      <td>野村 胡堂</td>\n",
       "    </tr>\n",
       "    <tr>\n",
       "      <th>6</th>\n",
       "      <td>2620</td>\n",
       "      <td>2620.txt</td>\n",
       "      <td>戸坂 潤</td>\n",
       "    </tr>\n",
       "    <tr>\n",
       "      <th>7</th>\n",
       "      <td>2216</td>\n",
       "      <td>2216.txt</td>\n",
       "      <td>戸坂 潤</td>\n",
       "    </tr>\n",
       "    <tr>\n",
       "      <th>8</th>\n",
       "      <td>2221</td>\n",
       "      <td>2221.txt</td>\n",
       "      <td>野村 胡堂</td>\n",
       "    </tr>\n",
       "    <tr>\n",
       "      <th>9</th>\n",
       "      <td>2630</td>\n",
       "      <td>2630.txt</td>\n",
       "      <td>野村 胡堂</td>\n",
       "    </tr>\n",
       "    <tr>\n",
       "      <th>10</th>\n",
       "      <td>2634</td>\n",
       "      <td>2634.txt</td>\n",
       "      <td>戸坂 潤</td>\n",
       "    </tr>\n",
       "    <tr>\n",
       "      <th>11</th>\n",
       "      <td>2635</td>\n",
       "      <td>2635.txt</td>\n",
       "      <td>野村 胡堂</td>\n",
       "    </tr>\n",
       "    <tr>\n",
       "      <th>12</th>\n",
       "      <td>2203</td>\n",
       "      <td>2203.txt</td>\n",
       "      <td>野村 胡堂</td>\n",
       "    </tr>\n",
       "    <tr>\n",
       "      <th>13</th>\n",
       "      <td>2209</td>\n",
       "      <td>2209.txt</td>\n",
       "      <td>野村 胡堂</td>\n",
       "    </tr>\n",
       "    <tr>\n",
       "      <th>14</th>\n",
       "      <td>2202</td>\n",
       "      <td>2202.txt</td>\n",
       "      <td>野村 胡堂</td>\n",
       "    </tr>\n",
       "    <tr>\n",
       "      <th>15</th>\n",
       "      <td>43447</td>\n",
       "      <td>43447.txt</td>\n",
       "      <td>吉川 英治</td>\n",
       "    </tr>\n",
       "    <tr>\n",
       "      <th>16</th>\n",
       "      <td>56071</td>\n",
       "      <td>56071.txt</td>\n",
       "      <td>野村 胡堂</td>\n",
       "    </tr>\n",
       "    <tr>\n",
       "      <th>17</th>\n",
       "      <td>56068</td>\n",
       "      <td>56068.txt</td>\n",
       "      <td>折口 信夫</td>\n",
       "    </tr>\n",
       "    <tr>\n",
       "      <th>18</th>\n",
       "      <td>56066</td>\n",
       "      <td>56066.txt</td>\n",
       "      <td>野村 胡堂</td>\n",
       "    </tr>\n",
       "    <tr>\n",
       "      <th>19</th>\n",
       "      <td>55095</td>\n",
       "      <td>55095.txt</td>\n",
       "      <td>野村 胡堂</td>\n",
       "    </tr>\n",
       "    <tr>\n",
       "      <th>20</th>\n",
       "      <td>52444</td>\n",
       "      <td>52444.txt</td>\n",
       "      <td>折口 信夫</td>\n",
       "    </tr>\n",
       "    <tr>\n",
       "      <th>21</th>\n",
       "      <td>52411</td>\n",
       "      <td>52411.txt</td>\n",
       "      <td>折口 信夫</td>\n",
       "    </tr>\n",
       "    <tr>\n",
       "      <th>22</th>\n",
       "      <td>52412</td>\n",
       "      <td>52412.txt</td>\n",
       "      <td>折口 信夫</td>\n",
       "    </tr>\n",
       "    <tr>\n",
       "      <th>23</th>\n",
       "      <td>52413</td>\n",
       "      <td>52413.txt</td>\n",
       "      <td>折口 信夫</td>\n",
       "    </tr>\n",
       "    <tr>\n",
       "      <th>24</th>\n",
       "      <td>52416</td>\n",
       "      <td>52416.txt</td>\n",
       "      <td>折口 信夫</td>\n",
       "    </tr>\n",
       "    <tr>\n",
       "      <th>25</th>\n",
       "      <td>52419</td>\n",
       "      <td>52419.txt</td>\n",
       "      <td>折口 信夫</td>\n",
       "    </tr>\n",
       "    <tr>\n",
       "      <th>26</th>\n",
       "      <td>55270</td>\n",
       "      <td>55270.txt</td>\n",
       "      <td>野村 胡堂</td>\n",
       "    </tr>\n",
       "    <tr>\n",
       "      <th>27</th>\n",
       "      <td>52421</td>\n",
       "      <td>52421.txt</td>\n",
       "      <td>折口 信夫</td>\n",
       "    </tr>\n",
       "    <tr>\n",
       "      <th>28</th>\n",
       "      <td>52424</td>\n",
       "      <td>52424.txt</td>\n",
       "      <td>折口 信夫</td>\n",
       "    </tr>\n",
       "    <tr>\n",
       "      <th>29</th>\n",
       "      <td>52425</td>\n",
       "      <td>52425.txt</td>\n",
       "      <td>折口 信夫</td>\n",
       "    </tr>\n",
       "  </tbody>\n",
       "</table>\n",
       "</div>"
      ],
      "text/plain": [
       "    novel_id   filename author\n",
       "0       2198   2198.txt   戸坂 潤\n",
       "1       2213   2213.txt   戸坂 潤\n",
       "2       2627   2627.txt  石川 啄木\n",
       "3       2618   2618.txt  正岡 子規\n",
       "4       2621   2621.txt  野村 胡堂\n",
       "5       3409   3409.txt  野村 胡堂\n",
       "6       2620   2620.txt   戸坂 潤\n",
       "7       2216   2216.txt   戸坂 潤\n",
       "8       2221   2221.txt  野村 胡堂\n",
       "9       2630   2630.txt  野村 胡堂\n",
       "10      2634   2634.txt   戸坂 潤\n",
       "11      2635   2635.txt  野村 胡堂\n",
       "12      2203   2203.txt  野村 胡堂\n",
       "13      2209   2209.txt  野村 胡堂\n",
       "14      2202   2202.txt  野村 胡堂\n",
       "15     43447  43447.txt  吉川 英治\n",
       "16     56071  56071.txt  野村 胡堂\n",
       "17     56068  56068.txt  折口 信夫\n",
       "18     56066  56066.txt  野村 胡堂\n",
       "19     55095  55095.txt  野村 胡堂\n",
       "20     52444  52444.txt  折口 信夫\n",
       "21     52411  52411.txt  折口 信夫\n",
       "22     52412  52412.txt  折口 信夫\n",
       "23     52413  52413.txt  折口 信夫\n",
       "24     52416  52416.txt  折口 信夫\n",
       "25     52419  52419.txt  折口 信夫\n",
       "26     55270  55270.txt  野村 胡堂\n",
       "27     52421  52421.txt  折口 信夫\n",
       "28     52424  52424.txt  折口 信夫\n",
       "29     52425  52425.txt  折口 信夫"
      ]
     },
     "execution_count": 149,
     "metadata": {},
     "output_type": "execute_result"
    }
   ],
   "source": [
    "df_test.head(30)"
   ]
  },
  {
   "cell_type": "code",
   "execution_count": 145,
   "metadata": {},
   "outputs": [],
   "source": [
    "output_test='./aozora_datasets_min/test_author_novel_predicted.csv'\n",
    "df_test.to_csv(output_test)"
   ]
  },
  {
   "cell_type": "code",
   "execution_count": 146,
   "metadata": {},
   "outputs": [
    {
     "data": {
      "text/plain": [
       "{0: '折口 信夫',\n",
       " 1: '種田 山頭火',\n",
       " 2: '木暮 理太郎',\n",
       " 3: '野村 胡堂',\n",
       " 4: '江戸川 乱歩',\n",
       " 5: '戸坂 潤',\n",
       " 6: '高村 光雲',\n",
       " 7: '久生 十蘭',\n",
       " 8: '石川 啄木',\n",
       " 9: '坂本 竜馬',\n",
       " 10: '紫式部 ',\n",
       " 11: '正岡 子規',\n",
       " 12: '泉 鏡花',\n",
       " 13: '若山 牧水',\n",
       " 14: '岡本 綺堂',\n",
       " 15: '吉川 英治',\n",
       " 16: '中谷 宇吉郎'}"
      ]
     },
     "execution_count": 146,
     "metadata": {},
     "output_type": "execute_result"
    }
   ],
   "source": [
    "label_author_map"
   ]
  },
  {
   "cell_type": "code",
   "execution_count": null,
   "metadata": {},
   "outputs": [],
   "source": []
  }
 ],
 "metadata": {
  "kernelspec": {
   "display_name": "Python 3",
   "language": "python",
   "name": "python3"
  },
  "language_info": {
   "codemirror_mode": {
    "name": "ipython",
    "version": 3
   },
   "file_extension": ".py",
   "mimetype": "text/x-python",
   "name": "python",
   "nbconvert_exporter": "python",
   "pygments_lexer": "ipython3",
   "version": "3.7.5"
  }
 },
 "nbformat": 4,
 "nbformat_minor": 2
}
