{
 "cells": [
  {
   "cell_type": "markdown",
   "metadata": {},
   "source": [
    "This code vectorize documents and then classify them.  \n",
    "livedoor corpus is used."
   ]
  },
  {
   "cell_type": "markdown",
   "metadata": {},
   "source": [
    "## logger and loader"
   ]
  },
  {
   "cell_type": "markdown",
   "metadata": {},
   "source": [
    "We prepare logger and loader to save intermmediate files.  \n",
    "It may takes long time to make SCDV."
   ]
  },
  {
   "cell_type": "code",
   "execution_count": 1,
   "metadata": {},
   "outputs": [],
   "source": [
    "import datetime\n",
    "import glob\n",
    "import os\n",
    "import json\n",
    "\n",
    "\n",
    "# logger\n",
    "def initialize_logger(dirpath='../data'):\n",
    "    dirname = datetime.datetime.utcnow().strftime('%Y%m%dT%H%M%SZ')\n",
    "    os.makedirs(os.path.join(dirpath, dirname), exist_ok=True)\n",
    "    \n",
    "    def logger(filename, obj):    \n",
    "        filepath = os.path.join(dirpath, dirname, filename)\n",
    "        _, ext = os.path.splitext(filename)\n",
    "        if ext == '.npy':\n",
    "            np.save(filepath, obj)\n",
    "        elif ext == '.json':\n",
    "            json.dump(obj, open(filepath, 'w'), indent=4, ensure_ascii=False)\n",
    "        else :\n",
    "            raise Exception\n",
    "\n",
    "    return logger\n",
    "\n",
    "\n",
    "# loader\n",
    "def load_log(timestamp, filename, dirpath='../data'):\n",
    "    filepath = os.path.join(dirpath, timestamp, filename)\n",
    "    \n",
    "    _, ext = os.path.splitext(filename)\n",
    "    if ext == '.npy':\n",
    "        return np.load(filepath)\n",
    "    elif ext == '.json':\n",
    "        return json.load(open(filepath, 'r'))\n",
    "    else :\n",
    "        raise Exception"
   ]
  },
  {
   "cell_type": "markdown",
   "metadata": {},
   "source": [
    "## preprocessing"
   ]
  },
  {
   "cell_type": "markdown",
   "metadata": {},
   "source": [
    "Japanese is not separated. We separate into token and preprocess them. Then we get list of  tokens for each documents."
   ]
  },
  {
   "cell_type": "code",
   "execution_count": 33,
   "metadata": {},
   "outputs": [],
   "source": [
    "import re\n",
    "import pandas as pd\n",
    "import numpy as np\n",
    "import glob, os\n",
    "from itertools import count\n",
    "from functools import partial\n",
    "from itertools import count, filterfalse"
   ]
  },
  {
   "cell_type": "code",
   "execution_count": 34,
   "metadata": {},
   "outputs": [
    {
     "data": {
      "text/html": [
       "<div>\n",
       "<style scoped>\n",
       "    .dataframe tbody tr th:only-of-type {\n",
       "        vertical-align: middle;\n",
       "    }\n",
       "\n",
       "    .dataframe tbody tr th {\n",
       "        vertical-align: top;\n",
       "    }\n",
       "\n",
       "    .dataframe thead th {\n",
       "        text-align: right;\n",
       "    }\n",
       "</style>\n",
       "<table border=\"1\" class=\"dataframe\">\n",
       "  <thead>\n",
       "    <tr style=\"text-align: right;\">\n",
       "      <th></th>\n",
       "      <th>author_id</th>\n",
       "      <th>author_name</th>\n",
       "      <th>novel_id</th>\n",
       "      <th>novel_title</th>\n",
       "      <th>filename</th>\n",
       "    </tr>\n",
       "  </thead>\n",
       "  <tbody>\n",
       "    <tr>\n",
       "      <th>0</th>\n",
       "      <td>162</td>\n",
       "      <td>若山 牧水</td>\n",
       "      <td>885</td>\n",
       "      <td>秋草と虫の音</td>\n",
       "      <td>885.txt</td>\n",
       "    </tr>\n",
       "    <tr>\n",
       "      <th>1</th>\n",
       "      <td>162</td>\n",
       "      <td>若山 牧水</td>\n",
       "      <td>2208</td>\n",
       "      <td>鮎釣に過した夏休み</td>\n",
       "      <td>2208.txt</td>\n",
       "    </tr>\n",
       "    <tr>\n",
       "      <th>2</th>\n",
       "      <td>162</td>\n",
       "      <td>若山 牧水</td>\n",
       "      <td>4393</td>\n",
       "      <td>一家</td>\n",
       "      <td>4393.txt</td>\n",
       "    </tr>\n",
       "    <tr>\n",
       "      <th>3</th>\n",
       "      <td>162</td>\n",
       "      <td>若山 牧水</td>\n",
       "      <td>2204</td>\n",
       "      <td>鴉と正覚坊</td>\n",
       "      <td>2204.txt</td>\n",
       "    </tr>\n",
       "    <tr>\n",
       "      <th>4</th>\n",
       "      <td>162</td>\n",
       "      <td>若山 牧水</td>\n",
       "      <td>43507</td>\n",
       "      <td>熊野奈智山</td>\n",
       "      <td>43507.txt</td>\n",
       "    </tr>\n",
       "    <tr>\n",
       "      <th>...</th>\n",
       "      <td>...</td>\n",
       "      <td>...</td>\n",
       "      <td>...</td>\n",
       "      <td>...</td>\n",
       "      <td>...</td>\n",
       "    </tr>\n",
       "    <tr>\n",
       "      <th>1584</th>\n",
       "      <td>153</td>\n",
       "      <td>石川 啄木</td>\n",
       "      <td>48150</td>\n",
       "      <td>無名会の一夕</td>\n",
       "      <td>48150.txt</td>\n",
       "    </tr>\n",
       "    <tr>\n",
       "      <th>1585</th>\n",
       "      <td>153</td>\n",
       "      <td>石川 啄木</td>\n",
       "      <td>49679</td>\n",
       "      <td>弓町より</td>\n",
       "      <td>49679.txt</td>\n",
       "    </tr>\n",
       "    <tr>\n",
       "      <th>1586</th>\n",
       "      <td>153</td>\n",
       "      <td>石川 啄木</td>\n",
       "      <td>818</td>\n",
       "      <td>弓町より</td>\n",
       "      <td>818.txt</td>\n",
       "    </tr>\n",
       "    <tr>\n",
       "      <th>1587</th>\n",
       "      <td>153</td>\n",
       "      <td>石川 啄木</td>\n",
       "      <td>47892</td>\n",
       "      <td>呼子と口笛</td>\n",
       "      <td>47892.txt</td>\n",
       "    </tr>\n",
       "    <tr>\n",
       "      <th>1588</th>\n",
       "      <td>153</td>\n",
       "      <td>石川 啄木</td>\n",
       "      <td>48145</td>\n",
       "      <td>我が最近の興味</td>\n",
       "      <td>48145.txt</td>\n",
       "    </tr>\n",
       "  </tbody>\n",
       "</table>\n",
       "<p>1589 rows × 5 columns</p>\n",
       "</div>"
      ],
      "text/plain": [
       "      author_id author_name  novel_id novel_title   filename\n",
       "0           162       若山 牧水       885      秋草と虫の音    885.txt\n",
       "1           162       若山 牧水      2208   鮎釣に過した夏休み   2208.txt\n",
       "2           162       若山 牧水      4393          一家   4393.txt\n",
       "3           162       若山 牧水      2204       鴉と正覚坊   2204.txt\n",
       "4           162       若山 牧水     43507       熊野奈智山  43507.txt\n",
       "...         ...         ...       ...         ...        ...\n",
       "1584        153       石川 啄木     48150      無名会の一夕  48150.txt\n",
       "1585        153       石川 啄木     49679        弓町より  49679.txt\n",
       "1586        153       石川 啄木       818        弓町より    818.txt\n",
       "1587        153       石川 啄木     47892       呼子と口笛  47892.txt\n",
       "1588        153       石川 啄木     48145     我が最近の興味  48145.txt\n",
       "\n",
       "[1589 rows x 5 columns]"
      ]
     },
     "execution_count": 34,
     "metadata": {},
     "output_type": "execute_result"
    }
   ],
   "source": [
    "input_train='../data/aozora_datasets_min/train_author_novel.csv'\n",
    "df_train = pd.read_csv(input_train)\n",
    "df_train"
   ]
  },
  {
   "cell_type": "code",
   "execution_count": 35,
   "metadata": {},
   "outputs": [
    {
     "data": {
      "text/html": [
       "<div>\n",
       "<style scoped>\n",
       "    .dataframe tbody tr th:only-of-type {\n",
       "        vertical-align: middle;\n",
       "    }\n",
       "\n",
       "    .dataframe tbody tr th {\n",
       "        vertical-align: top;\n",
       "    }\n",
       "\n",
       "    .dataframe thead th {\n",
       "        text-align: right;\n",
       "    }\n",
       "</style>\n",
       "<table border=\"1\" class=\"dataframe\">\n",
       "  <thead>\n",
       "    <tr style=\"text-align: right;\">\n",
       "      <th></th>\n",
       "      <th>novel_title</th>\n",
       "      <th>author_name</th>\n",
       "    </tr>\n",
       "  </thead>\n",
       "  <tbody>\n",
       "    <tr>\n",
       "      <th>中谷 宇吉郎</th>\n",
       "      <td>89</td>\n",
       "      <td>89</td>\n",
       "    </tr>\n",
       "    <tr>\n",
       "      <th>久生 十蘭</th>\n",
       "      <td>28</td>\n",
       "      <td>58</td>\n",
       "    </tr>\n",
       "    <tr>\n",
       "      <th>吉川 英治</th>\n",
       "      <td>57</td>\n",
       "      <td>94</td>\n",
       "    </tr>\n",
       "    <tr>\n",
       "      <th>坂本 竜馬</th>\n",
       "      <td>8</td>\n",
       "      <td>113</td>\n",
       "    </tr>\n",
       "    <tr>\n",
       "      <th>岡本 綺堂</th>\n",
       "      <td>105</td>\n",
       "      <td>182</td>\n",
       "    </tr>\n",
       "    <tr>\n",
       "      <th>戸坂 潤</th>\n",
       "      <td>47</td>\n",
       "      <td>47</td>\n",
       "    </tr>\n",
       "    <tr>\n",
       "      <th>折口 信夫</th>\n",
       "      <td>119</td>\n",
       "      <td>127</td>\n",
       "    </tr>\n",
       "    <tr>\n",
       "      <th>木暮 理太郎</th>\n",
       "      <td>40</td>\n",
       "      <td>40</td>\n",
       "    </tr>\n",
       "    <tr>\n",
       "      <th>正岡 子規</th>\n",
       "      <td>48</td>\n",
       "      <td>51</td>\n",
       "    </tr>\n",
       "    <tr>\n",
       "      <th>江戸川 乱歩</th>\n",
       "      <td>57</td>\n",
       "      <td>58</td>\n",
       "    </tr>\n",
       "    <tr>\n",
       "      <th>泉 鏡花</th>\n",
       "      <td>148</td>\n",
       "      <td>154</td>\n",
       "    </tr>\n",
       "    <tr>\n",
       "      <th>石川 啄木</th>\n",
       "      <td>51</td>\n",
       "      <td>58</td>\n",
       "    </tr>\n",
       "    <tr>\n",
       "      <th>種田 山頭火</th>\n",
       "      <td>27</td>\n",
       "      <td>51</td>\n",
       "    </tr>\n",
       "    <tr>\n",
       "      <th>紫式部</th>\n",
       "      <td>1</td>\n",
       "      <td>42</td>\n",
       "    </tr>\n",
       "    <tr>\n",
       "      <th>若山 牧水</th>\n",
       "      <td>23</td>\n",
       "      <td>49</td>\n",
       "    </tr>\n",
       "    <tr>\n",
       "      <th>野村 胡堂</th>\n",
       "      <td>39</td>\n",
       "      <td>316</td>\n",
       "    </tr>\n",
       "    <tr>\n",
       "      <th>高村 光雲</th>\n",
       "      <td>2</td>\n",
       "      <td>60</td>\n",
       "    </tr>\n",
       "  </tbody>\n",
       "</table>\n",
       "</div>"
      ],
      "text/plain": [
       "        novel_title  author_name\n",
       "中谷 宇吉郎           89           89\n",
       "久生 十蘭            28           58\n",
       "吉川 英治            57           94\n",
       "坂本 竜馬             8          113\n",
       "岡本 綺堂           105          182\n",
       "戸坂 潤             47           47\n",
       "折口 信夫           119          127\n",
       "木暮 理太郎           40           40\n",
       "正岡 子規            48           51\n",
       "江戸川 乱歩           57           58\n",
       "泉 鏡花            148          154\n",
       "石川 啄木            51           58\n",
       "種田 山頭火           27           51\n",
       "紫式部               1           42\n",
       "若山 牧水            23           49\n",
       "野村 胡堂            39          316\n",
       "高村 光雲             2           60"
      ]
     },
     "execution_count": 35,
     "metadata": {},
     "output_type": "execute_result"
    }
   ],
   "source": [
    "pd.concat([df_train.groupby('author_name').novel_title.nunique(),\n",
    "           df_train.author_name.value_counts()], axis=1, sort=False)"
   ]
  },
  {
   "cell_type": "code",
   "execution_count": 69,
   "metadata": {},
   "outputs": [
    {
     "data": {
      "text/plain": [
       "(array([9, 2, 4, ..., 7, 0, 0]), (1589,))"
      ]
     },
     "execution_count": 69,
     "metadata": {},
     "output_type": "execute_result"
    }
   ],
   "source": [
    "filename_author_map = dict(zip(df_train.filename, df_train.author_name))\n",
    "author_label_map = dict(zip(set(df_train.author_name), count())) \n",
    "\n",
    "train_files = glob.glob('../data/aozora_datasets_min/train_datasets/*.txt')\n",
    "train_filenames = list(map(os.path.basename, train_files))\n",
    "train_authors = list(map(filename_author_map.get, train_filenames))\n",
    "\n",
    "y_train = np.array(list(map(author_label_map.get, train_authors)))\n",
    "y_train, y_train.shape"
   ]
  },
  {
   "cell_type": "code",
   "execution_count": 37,
   "metadata": {},
   "outputs": [],
   "source": [
    "import numpy as np\n",
    "import pandas as pd\n",
    "from sklearn.datasets import fetch_20newsgroups\n",
    "from gensim.models import word2vec\n",
    "from sklearn.mixture import GaussianMixture\n",
    "from sklearn.feature_extraction.text import TfidfVectorizer"
   ]
  },
  {
   "cell_type": "code",
   "execution_count": 56,
   "metadata": {},
   "outputs": [],
   "source": [
    "import MeCab\n",
    "import pandas as pd\n",
    "import re\n",
    "# from mojimoji import han_to_zen, zen_to_han\n",
    "import numpy as np\n",
    "from collections import Counter\n",
    "from functools import partial, reduce\n",
    "from itertools import chain, count, filterfalse, repeat\n",
    "from operator import countOf, itemgetter, methodcaller\n",
    "\n",
    "compose = lambda *funcs: reduce(lambda f, g: lambda *args, **kwargs: f(g(*args, **kwargs)), funcs)\n",
    "flip = lambda f: lambda *args: f(*args[::-1])\n",
    "pipe = flip(compose)\n",
    "\n",
    "\n",
    "# str -> list\n",
    "split_text_into_lines = methodcaller('splitlines')\n",
    "# str -> str\n",
    "convert_text_to_lowercase = methodcaller('lower')\n",
    "# str -> str\n",
    "replace_whitespace_with_blank_char = partial(re.sub, \"\\s\", \" \")\n",
    "# str -> str\n",
    "remove_whitespace = partial(re.sub, \"\\s\", \"\")\n",
    "# str -> str\n",
    "strip_multiple_blank_chars_to_one = partial(re.sub, \" +\", \" \")\n",
    "# str -> str\n",
    "strip_consecutive_chars_to_one = lambda char='ー': partial(re.sub, '{}+'.format(char), '{}'.format(char))\n",
    "\n",
    "# str -> str\n",
    "def insert_text_between_blank_chars(text, patterns):\n",
    "    repls = map(\" {} \".format, patterns)\n",
    "    for pattern, repl in zip(patterns, repls):\n",
    "        text = text.replace(pattern, repl)\n",
    "    return text\n",
    "\n",
    "# str -> str\n",
    "def remove_whitespace_between_japanese_chars(text):\n",
    "    \"\"\"\n",
    "    \"\"\"\n",
    "    chars = \"[、。〃々〆〇ぁ-んゔゝゞァ-ンヴヵヶ・ーヽヾ一-龥]\"\n",
    "    pattern = \"(?<={chars})\\s+(?={chars})\".format(chars=chars)\n",
    "    repl = \"\"\n",
    "    return re.sub(pattern, repl, text)\n",
    "\n",
    "# str -> list\n",
    "parse_tab_separated_text = re.compile(\"\\t\").split\n",
    "noisy_symbols = list('!\"#$%&\\'()*+,-./:;<=>?@[]^_`{|}¢£¥§¨¬°±´¶×÷‐―‖\"†‡‥…‰′″※℃Å←↑→↓⇒⇔∀∂∃∇∈∋−√∝∞∠∧∨∩∪∫∬∴∵∽≒≠≡≦≧≪≫⊂⊃⊆⊇⊥⌒─━│┃┌┏┐┓└┗┘┛├┝┠┣┤┥┨┫┬┯┰┳┴┷┸┻┼┿╂╋■□▲△▼▽◆◇○◎●◯★☆♀♂♪♭♯＃〈〉《》「」『』【】〒〓〔〕〜゛゜・＼／｀￣（）。、”’｀？！［］')\n",
    "\n",
    "def maybe_lemmatize(mecab_node):\n",
    "    for surface, feature in map(re.compile('\\t').split, mecab_node.splitlines()[:-1]):\n",
    "        if len(feature.split(',')) == 7:\n",
    "            yield surface\n",
    "        else:\n",
    "            yield feature.split(',')[6]\n",
    "\n",
    "def remove_noisy_symbols(raw_tokens):\n",
    "    remove = dict.fromkeys(noisy_symbols, True).get\n",
    "    return filterfalse(remove, raw_tokens)\n",
    "\n",
    "preprocess = pipe(\n",
    "    str,\n",
    "#     han_to_zen,\n",
    "#     partial(zen_to_han, kana=False),\n",
    "    convert_text_to_lowercase,\n",
    "    replace_whitespace_with_blank_char,\n",
    "    remove_whitespace_between_japanese_chars,\n",
    "    strip_consecutive_chars_to_one(),\n",
    "    partial(insert_text_between_blank_chars, patterns=noisy_symbols),\n",
    "    strip_multiple_blank_chars_to_one,\n",
    "#     partial(re.sub, '\\d', '0'),\n",
    "    MeCab.Tagger().parse,\n",
    "    maybe_lemmatize,\n",
    "    remove_noisy_symbols,\n",
    "    list\n",
    ")\n",
    "\n",
    "\n",
    "def tokenize_ja(path):\n",
    "    with open(path) as f:\n",
    "        lines = f.readlines()\n",
    "        lines = [preprocess(line) for line in lines] \n",
    "        return list(chain.from_iterable(lines))"
   ]
  },
  {
   "cell_type": "code",
   "execution_count": 17,
   "metadata": {},
   "outputs": [
    {
     "data": {
      "text/html": [
       "<div>\n",
       "<style scoped>\n",
       "    .dataframe tbody tr th:only-of-type {\n",
       "        vertical-align: middle;\n",
       "    }\n",
       "\n",
       "    .dataframe tbody tr th {\n",
       "        vertical-align: top;\n",
       "    }\n",
       "\n",
       "    .dataframe thead th {\n",
       "        text-align: right;\n",
       "    }\n",
       "</style>\n",
       "<table border=\"1\" class=\"dataframe\">\n",
       "  <thead>\n",
       "    <tr style=\"text-align: right;\">\n",
       "      <th></th>\n",
       "      <th>author</th>\n",
       "      <th>tokens</th>\n",
       "    </tr>\n",
       "  </thead>\n",
       "  <tbody>\n",
       "    <tr>\n",
       "      <th>0</th>\n",
       "      <td>江戸川 乱歩</td>\n",
       "      <td>[空, とぶ, 円盤, 空, とぶ, 円盤, は, 中, 見出し, 空, とぶ, 円盤, は...</td>\n",
       "    </tr>\n",
       "    <tr>\n",
       "      <th>1</th>\n",
       "      <td>折口 信夫</td>\n",
       "      <td>[一, 飛鳥, の, 都, 以後, 奈良, 朝, 以前, の, 感情, 生活, の, 記録,...</td>\n",
       "    </tr>\n",
       "    <tr>\n",
       "      <th>2</th>\n",
       "      <td>中谷 宇吉郎</td>\n",
       "      <td>[六, 華, 豊年, の, 兆, という, 言葉, が, ある, 位, 雪, の, 結晶, ...</td>\n",
       "    </tr>\n",
       "    <tr>\n",
       "      <th>3</th>\n",
       "      <td>坂本 竜馬</td>\n",
       "      <td>[扨, も, 人間, の, 一世, ひと, よ, ハ, がてん, がてん, に, 合点, の...</td>\n",
       "    </tr>\n",
       "    <tr>\n",
       "      <th>4</th>\n",
       "      <td>岡本 綺堂</td>\n",
       "      <td>[一, 秋, の, 夜, の, 長い, 頃, だ, ある, た, わたし, が, 例, の,...</td>\n",
       "    </tr>\n",
       "    <tr>\n",
       "      <th>5</th>\n",
       "      <td>高村 光雲</td>\n",
       "      <td>[御徒, 町, お, かつ, まち, に, 転宅, ひる, くる, する, ます, て, 病...</td>\n",
       "    </tr>\n",
       "    <tr>\n",
       "      <th>6</th>\n",
       "      <td>野村 胡堂</td>\n",
       "      <td>[９, 字, 下げ, 一, 一, は, 中, 見出し, 親分, お, 早い, やう, 飛込む...</td>\n",
       "    </tr>\n",
       "    <tr>\n",
       "      <th>7</th>\n",
       "      <td>泉 鏡花</td>\n",
       "      <td>[一, 紫, の, 幕, 紅, くれる, ない, の, 旗, 空, の, 色, の, 青い,...</td>\n",
       "    </tr>\n",
       "    <tr>\n",
       "      <th>8</th>\n",
       "      <td>野村 胡堂</td>\n",
       "      <td>[９, 字, 下げ, 一, 一, は, 中, 見出し, 江戸, 八, 百, 八, 丁, が,...</td>\n",
       "    </tr>\n",
       "    <tr>\n",
       "      <th>9</th>\n",
       "      <td>久生 十蘭</td>\n",
       "      <td>[一, まだ, 十, 時, ごろ, だ, ので, 水, が, きれい, だ, 明るい, 海底...</td>\n",
       "    </tr>\n",
       "    <tr>\n",
       "      <th>10</th>\n",
       "      <td>木暮 理太郎</td>\n",
       "      <td>[ここ, から, 地, から, ２, 字, 上げ, ここ, から, １, 段階, 小さな, ...</td>\n",
       "    </tr>\n",
       "    <tr>\n",
       "      <th>11</th>\n",
       "      <td>中谷 宇吉郎</td>\n",
       "      <td>[加賀, の, 蟹, は, 東京, など, に, も, よく, 知る, れる, て, いる,...</td>\n",
       "    </tr>\n",
       "    <tr>\n",
       "      <th>12</th>\n",
       "      <td>久生 十蘭</td>\n",
       "      <td>[5, 字, 下げ, 一, 一, は, 中, 見出し, しばらく, ね, という, かわり,...</td>\n",
       "    </tr>\n",
       "    <tr>\n",
       "      <th>13</th>\n",
       "      <td>野村 胡堂</td>\n",
       "      <td>[９, 字, 下げ, 一, 一, は, 中, 見出し, 親分, 良い, お, 天, 氣, で...</td>\n",
       "    </tr>\n",
       "    <tr>\n",
       "      <th>14</th>\n",
       "      <td>折口 信夫</td>\n",
       "      <td>[一, 田遊び, 田, にる, べ, ん, ＋, 舞, 第, 4, 水準, 2, 3, 4,...</td>\n",
       "    </tr>\n",
       "  </tbody>\n",
       "</table>\n",
       "</div>"
      ],
      "text/plain": [
       "    author                                             tokens\n",
       "0   江戸川 乱歩  [空, とぶ, 円盤, 空, とぶ, 円盤, は, 中, 見出し, 空, とぶ, 円盤, は...\n",
       "1    折口 信夫  [一, 飛鳥, の, 都, 以後, 奈良, 朝, 以前, の, 感情, 生活, の, 記録,...\n",
       "2   中谷 宇吉郎  [六, 華, 豊年, の, 兆, という, 言葉, が, ある, 位, 雪, の, 結晶, ...\n",
       "3    坂本 竜馬  [扨, も, 人間, の, 一世, ひと, よ, ハ, がてん, がてん, に, 合点, の...\n",
       "4    岡本 綺堂  [一, 秋, の, 夜, の, 長い, 頃, だ, ある, た, わたし, が, 例, の,...\n",
       "5    高村 光雲  [御徒, 町, お, かつ, まち, に, 転宅, ひる, くる, する, ます, て, 病...\n",
       "6    野村 胡堂  [９, 字, 下げ, 一, 一, は, 中, 見出し, 親分, お, 早い, やう, 飛込む...\n",
       "7     泉 鏡花  [一, 紫, の, 幕, 紅, くれる, ない, の, 旗, 空, の, 色, の, 青い,...\n",
       "8    野村 胡堂  [９, 字, 下げ, 一, 一, は, 中, 見出し, 江戸, 八, 百, 八, 丁, が,...\n",
       "9    久生 十蘭  [一, まだ, 十, 時, ごろ, だ, ので, 水, が, きれい, だ, 明るい, 海底...\n",
       "10  木暮 理太郎  [ここ, から, 地, から, ２, 字, 上げ, ここ, から, １, 段階, 小さな, ...\n",
       "11  中谷 宇吉郎  [加賀, の, 蟹, は, 東京, など, に, も, よく, 知る, れる, て, いる,...\n",
       "12   久生 十蘭  [5, 字, 下げ, 一, 一, は, 中, 見出し, しばらく, ね, という, かわり,...\n",
       "13   野村 胡堂  [９, 字, 下げ, 一, 一, は, 中, 見出し, 親分, 良い, お, 天, 氣, で...\n",
       "14   折口 信夫  [一, 田遊び, 田, にる, べ, ん, ＋, 舞, 第, 4, 水準, 2, 3, 4,..."
      ]
     },
     "execution_count": 17,
     "metadata": {},
     "output_type": "execute_result"
    }
   ],
   "source": [
    "data = pd.DataFrame(columns=['author', 'tokens'])\n",
    "data['author'] = train_authors\n",
    "data['tokens'] = [tokenize_ja(path) for path in train_files]\n",
    "data.head(15)"
   ]
  },
  {
   "cell_type": "code",
   "execution_count": 19,
   "metadata": {},
   "outputs": [
    {
     "data": {
      "text/html": [
       "<div>\n",
       "<style scoped>\n",
       "    .dataframe tbody tr th:only-of-type {\n",
       "        vertical-align: middle;\n",
       "    }\n",
       "\n",
       "    .dataframe tbody tr th {\n",
       "        vertical-align: top;\n",
       "    }\n",
       "\n",
       "    .dataframe thead th {\n",
       "        text-align: right;\n",
       "    }\n",
       "</style>\n",
       "<table border=\"1\" class=\"dataframe\">\n",
       "  <thead>\n",
       "    <tr style=\"text-align: right;\">\n",
       "      <th></th>\n",
       "      <th>author</th>\n",
       "      <th>tokens</th>\n",
       "    </tr>\n",
       "  </thead>\n",
       "  <tbody>\n",
       "  </tbody>\n",
       "</table>\n",
       "</div>"
      ],
      "text/plain": [
       "Empty DataFrame\n",
       "Columns: [author, tokens]\n",
       "Index: []"
      ]
     },
     "execution_count": 19,
     "metadata": {},
     "output_type": "execute_result"
    }
   ],
   "source": [
    "data.loc[data.isnull().any(axis=1)]"
   ]
  },
  {
   "cell_type": "code",
   "execution_count": 22,
   "metadata": {},
   "outputs": [],
   "source": [
    "# dump preprocessed Japanese corpus\n",
    "\n",
    "corpus_tokenized_ja = data['tokens'].tolist()\n",
    "logger = initialize_logger()\n",
    "logger('corpus_tokenized_ja.json', corpus_tokenized_ja)"
   ]
  },
  {
   "cell_type": "code",
   "execution_count": 4,
   "metadata": {},
   "outputs": [
    {
     "data": {
      "image/png": "[encoded data removed]",
      "text/plain": [
       "<Figure size 432x288 with 1 Axes>"
      ]
     },
     "metadata": {
      "needs_background": "light"
     },
     "output_type": "display_data"
    }
   ],
   "source": [
    "# overview Japanese corpus on histgram\n",
    "import matplotlib.pyplot as plt\n",
    "\n",
    "corpus_tokenized_ja = load_log('20200411T092421Z','corpus_tokenized_ja.json')\n",
    "len_tokens_ja = list(map(len, corpus_tokenized_ja))\n",
    "plt.hist(len_tokens_ja, bins=40)\n",
    "plt.yscale('log')"
   ]
  },
  {
   "cell_type": "code",
   "execution_count": 5,
   "metadata": {
    "scrolled": true
   },
   "outputs": [
    {
     "data": {
      "text/plain": [
       "1589"
      ]
     },
     "execution_count": 5,
     "metadata": {},
     "output_type": "execute_result"
    }
   ],
   "source": [
    "#check the number of the corpus\n",
    "len(corpus_tokenized_ja)"
   ]
  },
  {
   "cell_type": "markdown",
   "metadata": {},
   "source": [
    "## vectorize"
   ]
  },
  {
   "cell_type": "markdown",
   "metadata": {},
   "source": [
    "For document vectorization, we use [SCDV](https://arxiv.org/pdf/1612.06778.pdf).  \n",
    "Refer to the blogs \\[[1](https://qiita.com/fufufukakaka/items/a7316273908a7c400868), [2](https://qiita.com/nishiba/items/40449df6c931cca38abe)\\] for Japanese explanatinon."
   ]
  },
  {
   "cell_type": "code",
   "execution_count": 6,
   "metadata": {},
   "outputs": [],
   "source": [
    "# get word vectors by gensim\n",
    "def build_word_embedding_vectors(corpus_tokenized, word2vec_parameters):\n",
    "    model = word2vec.Word2Vec(corpus_tokenized, **word2vec_parameters)\n",
    "    return model, model.wv.vectors, model.wv.index2word"
   ]
  },
  {
   "cell_type": "code",
   "execution_count": 27,
   "metadata": {},
   "outputs": [],
   "source": [
    "# culster word vectors by GMM\n",
    "def culster_embedding_vectors(word_embeddings, gmm_parameters) -> np.ndarray:\n",
    "    X = word_embeddings\n",
    "    gm = GaussianMixture(**gmm_parameters)\n",
    "    gm.fit(X)\n",
    "    return gm.predict_proba(X)"
   ]
  },
  {
   "cell_type": "code",
   "execution_count": 8,
   "metadata": {},
   "outputs": [],
   "source": [
    "# TF-IDF takes 20 min\n",
    "# Use for Japanese\n",
    "from collections import Counter\n",
    "from itertools import chain, repeat\n",
    "from operator import countOf\n",
    "\n",
    "\n",
    "def build_tfidf_selfmade(corpus, vocab):\n",
    "    countup = lambda doc: list(map(countOf, repeat(doc), vocab))\n",
    "    tf = np.array(list(map(countup, corpus)))\n",
    "    idf = np.log(len(corpus) / (tf > 0).sum(axis=0)) + 1\n",
    "    return tf, idf, tf*idf"
   ]
  },
  {
   "cell_type": "code",
   "execution_count": 9,
   "metadata": {},
   "outputs": [],
   "source": [
    "# TF-IDF\n",
    "# cannot be used for JApanese\n",
    "from sklearn.feature_extraction.text import TfidfVectorizer\n",
    "\n",
    "def build_tfidf_sklearn(corpus_tokenized, vocab):\n",
    "    tfv = TfidfVectorizer(token_pattern='(?u)\\\\b\\\\w+\\\\b', strip_accents='unicode', dtype=np.float64)\n",
    "    tfv.fit(list(map(' '.join, corpus_tokenized)))\n",
    "    feature_names = tfv.get_feature_names()\n",
    "    idf = tfv._tfidf.idf_\n",
    "    print(len(feature_names), len(idf), len(vocab))\n",
    "    return np.fromiter(map(dict(zip(feature_names, idf)).get, vocab), dtype='f8')    "
   ]
  },
  {
   "cell_type": "code",
   "execution_count": 10,
   "metadata": {},
   "outputs": [],
   "source": [
    "def build_word_topic_vector(word_embedding_vectors, word_cluster_probabilities, idf_vector):\n",
    "    wcv = np.einsum('ij,ik->ijk', word_embedding_vectors, word_cluster_probabilities).reshape(word_embedding_vectors.shape[0], -1)\n",
    "    return np.einsum('i,ij->ij', idf_vector, wcv)"
   ]
  },
  {
   "cell_type": "code",
   "execution_count": 15,
   "metadata": {},
   "outputs": [],
   "source": [
    "# document vectors\n",
    "def count(i=0):\n",
    "    while True:\n",
    "        yield i\n",
    "        i+=1\n",
    "\n",
    "def normalize_document_vectors(dv: np.ndarray) -> np.ndarray:\n",
    "    dv_sum = np.square(dv).sum(axis=1)\n",
    "    dv_l2norm = np.sqrt(dv_sum)\n",
    "    return np.einsum('ij,i->ij', dv, 1.0/dv_l2norm)\n",
    "\n",
    "def build_document_vectors(vocabulary, corpus_tokenized, word_topic_vectors):\n",
    "    vocabulary_idx_map = dict(zip(vocabulary, count()))\n",
    "    \n",
    "    document_vecotrs = []\n",
    "    for doc in corpus_tokenized:\n",
    "        doc_idx = list(filter(lambda idx: idx is not None, map(vocabulary_idx_map.get, doc)))\n",
    "        document_vecotrs.append(np.einsum('ij->j',word_topic_vectors[doc_idx]))\n",
    "    \n",
    "    return normalize_document_vectors(np.array(document_vecotrs))"
   ]
  },
  {
   "cell_type": "code",
   "execution_count": 16,
   "metadata": {},
   "outputs": [],
   "source": [
    "# SCDV\n",
    "def make_sparse(document_vectors, param):\n",
    "    t = 0.5 * (np.abs(np.min(document_vectors, axis=1).mean()) + np.abs(np.max(document_vectors, axis=1).mean()))\n",
    "    sparsity_threshold = param * t\n",
    "    mask = np.abs(document_vectors) < sparsity_threshold\n",
    "    return np.where(mask, 0.0, document_vectors)"
   ]
  },
  {
   "cell_type": "code",
   "execution_count": 18,
   "metadata": {},
   "outputs": [],
   "source": [
    "corpus_tokenized = corpus_tokenized_ja"
   ]
  },
  {
   "cell_type": "code",
   "execution_count": 42,
   "metadata": {},
   "outputs": [],
   "source": [
    "word2vec_parameters = {\n",
    "    'size':200,   # Word vector dimensionality\n",
    "    'min_count':20,    # Minimum word count\n",
    "    'workers':40,    # Number of threads to run in parallel\n",
    "    'window':10,    # Context window size\n",
    "    'sample':1e-3,    # Downsample setting for frequent words\n",
    "    'hs':0,\n",
    "    'sg':1,\n",
    "    'negative':10,\n",
    "    'iter':25,\n",
    "    'seed':1\n",
    "}\n",
    "\n",
    "word_embedding_model, word_embedding_vectors, vocabulary = build_word_embedding_vectors(corpus_tokenized, word2vec_parameters)"
   ]
  },
  {
   "cell_type": "code",
   "execution_count": 45,
   "metadata": {},
   "outputs": [],
   "source": [
    "logger = initialize_logger()\n",
    "logger('word_embedding_vectors.npy', word_embedding_vectors)\n",
    "logger('vocabulary.json', vocabulary)\n",
    "word_embedding_model.save('word_embedding_model.model')"
   ]
  },
  {
   "cell_type": "code",
   "execution_count": 17,
   "metadata": {},
   "outputs": [
    {
     "data": {
      "text/plain": [
       "((30639, 200), 30639)"
      ]
     },
     "execution_count": 17,
     "metadata": {},
     "output_type": "execute_result"
    }
   ],
   "source": [
    "timestamp = '20200411T140408Z'\n",
    "word_embedding_vectors = load_log(timestamp,'word_embedding_vectors.npy')\n",
    "vocabulary = load_log(timestamp,'vocabulary.json')\n",
    "word_embedding_vectors.shape, len(vocabulary)"
   ]
  },
  {
   "cell_type": "code",
   "execution_count": 47,
   "metadata": {},
   "outputs": [],
   "source": [
    "gmm_parameters = {\n",
    "    'n_components':60,\n",
    "    'random_state':42,\n",
    "    'covariance_type':'tied',\n",
    "    'init_params':'kmeans',\n",
    "    'max_iter':50\n",
    "}\n",
    "\n",
    "word_cluster_probability_matrix = culster_embedding_vectors(word_embedding_vectors, gmm_parameters)"
   ]
  },
  {
   "cell_type": "code",
   "execution_count": 48,
   "metadata": {},
   "outputs": [],
   "source": [
    "logger('word_cluster_probabilities.npy', word_cluster_probability_matrix)"
   ]
  },
  {
   "cell_type": "code",
   "execution_count": 20,
   "metadata": {},
   "outputs": [
    {
     "data": {
      "text/plain": [
       "(30639, 60)"
      ]
     },
     "execution_count": 20,
     "metadata": {},
     "output_type": "execute_result"
    }
   ],
   "source": [
    "timestamp = '20200411T140408Z'\n",
    "word_cluster_probability_matrix = load_log(timestamp,'word_cluster_probabilities.npy')\n",
    "word_cluster_probability_matrix.shape"
   ]
  },
  {
   "cell_type": "code",
   "execution_count": 21,
   "metadata": {},
   "outputs": [],
   "source": [
    "tf, idf, tfidf = build_tfidf_selfmade(corpus_tokenized, vocabulary)"
   ]
  },
  {
   "cell_type": "code",
   "execution_count": 22,
   "metadata": {},
   "outputs": [],
   "source": [
    "logger = initialize_logger()\n",
    "logger('tf_matrix.npy', tf)\n",
    "logger('idf_vector.npy', idf)\n",
    "logger('tfidf_matrix.npy', tfidf)"
   ]
  },
  {
   "cell_type": "code",
   "execution_count": 23,
   "metadata": {},
   "outputs": [
    {
     "data": {
      "text/plain": [
       "((1589, 30639), (30639,), (1589, 30639))"
      ]
     },
     "execution_count": 23,
     "metadata": {},
     "output_type": "execute_result"
    }
   ],
   "source": [
    "timestamp = '20200412T080115Z'\n",
    "tf_matrix = load_log(timestamp,'tf_matrix.npy')\n",
    "idf_vector = load_log(timestamp,'idf_vector.npy')\n",
    "tfidf_matrix = load_log(timestamp,'tfidf_matrix.npy')\n",
    "tf_matrix.shape, idf_vector.shape, tfidf_matrix.shape"
   ]
  },
  {
   "cell_type": "code",
   "execution_count": null,
   "metadata": {},
   "outputs": [],
   "source": [
    "word_topic_vectors = build_word_topic_vector(word_embedding_vectors, word_cluster_probability_matrix, idf_vector)"
   ]
  },
  {
   "cell_type": "code",
   "execution_count": 24,
   "metadata": {},
   "outputs": [],
   "source": [
    "document_vectors = build_document_vectors(vocabulary, corpus_tokenized_ja, word_topic_vectors)\n",
    "param = 0.04\n",
    "scdv = make_sparse(document_vectors, param)"
   ]
  },
  {
   "cell_type": "code",
   "execution_count": 25,
   "metadata": {},
   "outputs": [],
   "source": [
    "# logger = initialize_logger()\n",
    "logger('scdv.npy', scdv)"
   ]
  },
  {
   "cell_type": "code",
   "execution_count": 26,
   "metadata": {},
   "outputs": [
    {
     "data": {
      "text/plain": [
       "(1589, 12000)"
      ]
     },
     "execution_count": 26,
     "metadata": {},
     "output_type": "execute_result"
    }
   ],
   "source": [
    "timestamp = '20200412T080115Z'\n",
    "scdv = load_log(timestamp,'scdv.npy')\n",
    "scdv.shape"
   ]
  },
  {
   "cell_type": "code",
   "execution_count": null,
   "metadata": {},
   "outputs": [],
   "source": []
  },
  {
   "cell_type": "markdown",
   "metadata": {},
   "source": [
    "## Validate with SCDV"
   ]
  },
  {
   "cell_type": "code",
   "execution_count": 70,
   "metadata": {},
   "outputs": [
    {
     "data": {
      "text/plain": [
       "((1589, 12000), (1589,))"
      ]
     },
     "execution_count": 70,
     "metadata": {},
     "output_type": "execute_result"
    }
   ],
   "source": [
    "X = scdv\n",
    "y = y_train\n",
    "X.shape, y.shape"
   ]
  },
  {
   "cell_type": "code",
   "execution_count": 71,
   "metadata": {},
   "outputs": [],
   "source": [
    "def kfold_splitter(n_samples, n_folds, rng):\n",
    "    shuffled_fold_indices = rng.permutation(np.arange(n_samples) % n_folds)\n",
    "    for k in range(n_folds):\n",
    "        mask = shuffled_fold_indices == k\n",
    "        yield tuple(map(np.flatnonzero, (mask, ~mask)))"
   ]
  },
  {
   "cell_type": "code",
   "execution_count": 72,
   "metadata": {},
   "outputs": [],
   "source": [
    "from sklearn.ensemble import RandomForestClassifier\n",
    "from sklearn.metrics import balanced_accuracy_score\n",
    "\n",
    "clf = RandomForestClassifier(random_state=0, max_depth=None, max_features='sqrt',\n",
    "                             class_weight='balanced', n_jobs=-1)"
   ]
  },
  {
   "cell_type": "code",
   "execution_count": 73,
   "metadata": {},
   "outputs": [],
   "source": [
    "n_fold = 5\n",
    "n_samples = y.size\n",
    "rng = np.random.RandomState(42)\n",
    "\n",
    "accuracy_train = []\n",
    "accuracy_test = []\n",
    "\n",
    "for test_idx, train_idx in kfold_splitter(n_samples, n_fold, rng):\n",
    "    y_test = y[test_idx]\n",
    "    y_train = y[train_idx]\n",
    "    X_test = X[test_idx]\n",
    "    X_train = X[train_idx]\n",
    "    \n",
    "    clf.fit(X_train, y_train)\n",
    "    \n",
    "    y_pred = clf.predict(X_train)\n",
    "    bas = balanced_accuracy_score(y_train, y_pred)\n",
    "    accuracy_train.append(bas)\n",
    "    \n",
    "    y_pred = clf.predict(X_test)\n",
    "    bas = balanced_accuracy_score(y_test, y_pred)\n",
    "    accuracy_test.append(bas)\n",
    "\n",
    "accuracy_train = np.array(accuracy_train)\n",
    "accuracy_test = np.array(accuracy_test)"
   ]
  },
  {
   "cell_type": "code",
   "execution_count": 74,
   "metadata": {},
   "outputs": [
    {
     "data": {
      "text/plain": [
       "array([1., 1., 1., 1., 1.])"
      ]
     },
     "execution_count": 74,
     "metadata": {},
     "output_type": "execute_result"
    }
   ],
   "source": [
    "accuracy_train"
   ]
  },
  {
   "cell_type": "code",
   "execution_count": 75,
   "metadata": {},
   "outputs": [
    {
     "data": {
      "text/plain": [
       "array([0.9014695 , 0.91936822, 0.88398   , 0.88541975, 0.94583701])"
      ]
     },
     "execution_count": 75,
     "metadata": {},
     "output_type": "execute_result"
    }
   ],
   "source": [
    "accuracy_test"
   ]
  },
  {
   "cell_type": "code",
   "execution_count": 76,
   "metadata": {},
   "outputs": [
    {
     "data": {
      "text/plain": [
       "0.9072148963964748"
      ]
     },
     "execution_count": 76,
     "metadata": {},
     "output_type": "execute_result"
    }
   ],
   "source": [
    "np.average(accuracy_test)"
   ]
  },
  {
   "cell_type": "code",
   "execution_count": null,
   "metadata": {},
   "outputs": [],
   "source": []
  },
  {
   "cell_type": "markdown",
   "metadata": {},
   "source": [
    "## Validate with TF-IDF"
   ]
  },
  {
   "cell_type": "code",
   "execution_count": 46,
   "metadata": {},
   "outputs": [
    {
     "data": {
      "text/plain": [
       "((1589, 30639), (1589,))"
      ]
     },
     "execution_count": 46,
     "metadata": {},
     "output_type": "execute_result"
    }
   ],
   "source": [
    "X = tfidf_matrix\n",
    "X.shape, y.shape"
   ]
  },
  {
   "cell_type": "code",
   "execution_count": 47,
   "metadata": {},
   "outputs": [],
   "source": [
    "def kfold_splitter(n_samples, n_folds, rng):\n",
    "    shuffled_fold_indices = rng.permutation(np.arange(n_samples) % n_folds)\n",
    "    for k in range(n_folds):\n",
    "        mask = shuffled_fold_indices == k\n",
    "        yield tuple(map(np.flatnonzero, (mask, ~mask)))"
   ]
  },
  {
   "cell_type": "code",
   "execution_count": 48,
   "metadata": {},
   "outputs": [],
   "source": [
    "from sklearn.ensemble import RandomForestClassifier\n",
    "from sklearn.metrics import balanced_accuracy_score\n",
    "\n",
    "clf = RandomForestClassifier(random_state=0, max_depth=None, max_features='sqrt',\n",
    "                             class_weight='balanced', n_jobs=-1)"
   ]
  },
  {
   "cell_type": "code",
   "execution_count": 49,
   "metadata": {},
   "outputs": [],
   "source": [
    "n_fold = 5\n",
    "n_samples = y.size\n",
    "rng = np.random.RandomState(42)\n",
    "\n",
    "accuracy_train = []\n",
    "accuracy_test = []\n",
    "\n",
    "for test_idx, train_idx in kfold_splitter(n_samples, n_fold, rng):\n",
    "    y_test = y[test_idx]\n",
    "    y_train = y[train_idx]\n",
    "    X_test = X[test_idx]\n",
    "    X_train = X[train_idx]\n",
    "    \n",
    "    clf.fit(X_train, y_train)\n",
    "    \n",
    "    y_pred = clf.predict(X_train)\n",
    "    bas = balanced_accuracy_score(y_train, y_pred)\n",
    "    accuracy_train.append(bas)\n",
    "    \n",
    "    y_pred = clf.predict(X_test)\n",
    "    bas = balanced_accuracy_score(y_test, y_pred)\n",
    "    accuracy_test.append(bas)\n",
    "\n",
    "accuracy_train = np.array(accuracy_train)\n",
    "accuracy_test = np.array(accuracy_test)"
   ]
  },
  {
   "cell_type": "code",
   "execution_count": 50,
   "metadata": {},
   "outputs": [
    {
     "data": {
      "text/plain": [
       "array([1., 1., 1., 1., 1.])"
      ]
     },
     "execution_count": 50,
     "metadata": {},
     "output_type": "execute_result"
    }
   ],
   "source": [
    "accuracy_train"
   ]
  },
  {
   "cell_type": "code",
   "execution_count": 51,
   "metadata": {},
   "outputs": [
    {
     "data": {
      "text/plain": [
       "array([0.88501032, 0.88269083, 0.85700199, 0.88438033, 0.87580956])"
      ]
     },
     "execution_count": 51,
     "metadata": {},
     "output_type": "execute_result"
    }
   ],
   "source": [
    "accuracy_test"
   ]
  },
  {
   "cell_type": "code",
   "execution_count": 52,
   "metadata": {},
   "outputs": [
    {
     "data": {
      "text/plain": [
       "0.8769786074675944"
      ]
     },
     "execution_count": 52,
     "metadata": {},
     "output_type": "execute_result"
    }
   ],
   "source": [
    "np.average(accuracy_test)"
   ]
  },
  {
   "cell_type": "code",
   "execution_count": null,
   "metadata": {},
   "outputs": [],
   "source": []
  },
  {
   "cell_type": "markdown",
   "metadata": {},
   "source": [
    "## predict test data"
   ]
  },
  {
   "cell_type": "markdown",
   "metadata": {},
   "source": [
    "### preprocess"
   ]
  },
  {
   "cell_type": "code",
   "execution_count": 54,
   "metadata": {},
   "outputs": [
    {
     "data": {
      "text/plain": [
       "532"
      ]
     },
     "execution_count": 54,
     "metadata": {},
     "output_type": "execute_result"
    }
   ],
   "source": [
    "import glob, os\n",
    "\n",
    "\n",
    "test_files = glob.glob('../data/aozora_datasets_min/test_datasets/*.txt')\n",
    "len(test_files)"
   ]
  },
  {
   "cell_type": "code",
   "execution_count": 60,
   "metadata": {},
   "outputs": [
    {
     "data": {
      "text/html": [
       "<div>\n",
       "<style scoped>\n",
       "    .dataframe tbody tr th:only-of-type {\n",
       "        vertical-align: middle;\n",
       "    }\n",
       "\n",
       "    .dataframe tbody tr th {\n",
       "        vertical-align: top;\n",
       "    }\n",
       "\n",
       "    .dataframe thead th {\n",
       "        text-align: right;\n",
       "    }\n",
       "</style>\n",
       "<table border=\"1\" class=\"dataframe\">\n",
       "  <thead>\n",
       "    <tr style=\"text-align: right;\">\n",
       "      <th></th>\n",
       "      <th>filename</th>\n",
       "      <th>tokens</th>\n",
       "    </tr>\n",
       "  </thead>\n",
       "  <tbody>\n",
       "    <tr>\n",
       "      <th>0</th>\n",
       "      <td>54740.txt</td>\n",
       "      <td>[９, 字, 下げ, 一, 一, は, 中, 見出し, 日本一, の, 面白い, 話, が,...</td>\n",
       "    </tr>\n",
       "    <tr>\n",
       "      <th>1</th>\n",
       "      <td>56321.txt</td>\n",
       "      <td>[５, 字, 下げ, 一, 一, は, 中, 見出し, 捕物, 小説, という, もの, を...</td>\n",
       "    </tr>\n",
       "    <tr>\n",
       "      <th>2</th>\n",
       "      <td>56201.txt</td>\n",
       "      <td>[５, 字, 下げ, 一, 一, は, 中, 見出し, おや, 八, 五, 郎, 親分, も...</td>\n",
       "    </tr>\n",
       "    <tr>\n",
       "      <th>3</th>\n",
       "      <td>51417.txt</td>\n",
       "      <td>[先刻, 御, 面, 遠い, 遠い, に, 倒, の, 注記, 御, 頼, 申, 上, 候,...</td>\n",
       "    </tr>\n",
       "    <tr>\n",
       "      <th>4</th>\n",
       "      <td>49540.txt</td>\n",
       "      <td>[何, と, いう, て, も, この, 頃, は, 読書, 子, に, 取る, て, は,...</td>\n",
       "    </tr>\n",
       "    <tr>\n",
       "      <th>5</th>\n",
       "      <td>46139.txt</td>\n",
       "      <td>[府中, ふち, ゅう, すみません, ねえ, これ, じゃ, 冥利, に, つきる, よう...</td>\n",
       "    </tr>\n",
       "    <tr>\n",
       "      <th>6</th>\n",
       "      <td>1711.txt</td>\n",
       "      <td>[第, 一, 章, 道徳, に関する, 通俗, 常識, 的, 観念, 道徳, の, 問題, ...</td>\n",
       "    </tr>\n",
       "    <tr>\n",
       "      <th>7</th>\n",
       "      <td>3578.txt</td>\n",
       "      <td>[湯島, の, 境内, 婦, 系図, 戯曲, 一齣, ここ, から, １, 字, 下げ, 歌...</td>\n",
       "    </tr>\n",
       "    <tr>\n",
       "      <th>8</th>\n",
       "      <td>51959.txt</td>\n",
       "      <td>[参上, 仕る, 候, よい, ｜, 被, 二, 仰る, 聞, 一, お, ほする, きかす...</td>\n",
       "    </tr>\n",
       "    <tr>\n",
       "      <th>9</th>\n",
       "      <td>56210.txt</td>\n",
       "      <td>[５, 字, 下げ, 一, 一, は, 中, 見出し, 江戸, の, 大通, だい, つう,...</td>\n",
       "    </tr>\n",
       "    <tr>\n",
       "      <th>10</th>\n",
       "      <td>42172.txt</td>\n",
       "      <td>[ここ, から, ２, 字, 下げ, 時, は, 明治, 卅, 二, 年, 七月, 十, 二...</td>\n",
       "    </tr>\n",
       "    <tr>\n",
       "      <th>11</th>\n",
       "      <td>46630.txt</td>\n",
       "      <td>[朱, 房, 銀, 木, ＋, 霸, 第, 3, 水準, 1, 86, 28, する, ゅぶ...</td>\n",
       "    </tr>\n",
       "    <tr>\n",
       "      <th>12</th>\n",
       "      <td>46331.txt</td>\n",
       "      <td>[一昨々年, の, 初春, に, は, 苦しい, 目, を, 見る, た, 信州, 下伊那,...</td>\n",
       "    </tr>\n",
       "    <tr>\n",
       "      <th>13</th>\n",
       "      <td>43473.txt</td>\n",
       "      <td>[ジョン, ヒンクマン, 氏, の, 田園, 住宅, は, いろいろ, の, 理由, から,...</td>\n",
       "    </tr>\n",
       "    <tr>\n",
       "      <th>14</th>\n",
       "      <td>57350.txt</td>\n",
       "      <td>[ここ, から, ２, 字, 下げ, ここ, に, 花山, かざる, と, いる, へる, ...</td>\n",
       "    </tr>\n",
       "  </tbody>\n",
       "</table>\n",
       "</div>"
      ],
      "text/plain": [
       "     filename                                             tokens\n",
       "0   54740.txt  [９, 字, 下げ, 一, 一, は, 中, 見出し, 日本一, の, 面白い, 話, が,...\n",
       "1   56321.txt  [５, 字, 下げ, 一, 一, は, 中, 見出し, 捕物, 小説, という, もの, を...\n",
       "2   56201.txt  [５, 字, 下げ, 一, 一, は, 中, 見出し, おや, 八, 五, 郎, 親分, も...\n",
       "3   51417.txt  [先刻, 御, 面, 遠い, 遠い, に, 倒, の, 注記, 御, 頼, 申, 上, 候,...\n",
       "4   49540.txt  [何, と, いう, て, も, この, 頃, は, 読書, 子, に, 取る, て, は,...\n",
       "5   46139.txt  [府中, ふち, ゅう, すみません, ねえ, これ, じゃ, 冥利, に, つきる, よう...\n",
       "6    1711.txt  [第, 一, 章, 道徳, に関する, 通俗, 常識, 的, 観念, 道徳, の, 問題, ...\n",
       "7    3578.txt  [湯島, の, 境内, 婦, 系図, 戯曲, 一齣, ここ, から, １, 字, 下げ, 歌...\n",
       "8   51959.txt  [参上, 仕る, 候, よい, ｜, 被, 二, 仰る, 聞, 一, お, ほする, きかす...\n",
       "9   56210.txt  [５, 字, 下げ, 一, 一, は, 中, 見出し, 江戸, の, 大通, だい, つう,...\n",
       "10  42172.txt  [ここ, から, ２, 字, 下げ, 時, は, 明治, 卅, 二, 年, 七月, 十, 二...\n",
       "11  46630.txt  [朱, 房, 銀, 木, ＋, 霸, 第, 3, 水準, 1, 86, 28, する, ゅぶ...\n",
       "12  46331.txt  [一昨々年, の, 初春, に, は, 苦しい, 目, を, 見る, た, 信州, 下伊那,...\n",
       "13  43473.txt  [ジョン, ヒンクマン, 氏, の, 田園, 住宅, は, いろいろ, の, 理由, から,...\n",
       "14  57350.txt  [ここ, から, ２, 字, 下げ, ここ, に, 花山, かざる, と, いる, へる, ..."
      ]
     },
     "execution_count": 60,
     "metadata": {},
     "output_type": "execute_result"
    }
   ],
   "source": [
    "data_test = pd.DataFrame(columns=['filename','tokens'])\n",
    "data_test['filename'] = list(map(os.path.basename, test_files))\n",
    "data_test['tokens'] = [tokenize_ja(path) for path in test_files]\n",
    "data_test.head(15)"
   ]
  },
  {
   "cell_type": "code",
   "execution_count": 62,
   "metadata": {},
   "outputs": [
    {
     "data": {
      "text/html": [
       "<div>\n",
       "<style scoped>\n",
       "    .dataframe tbody tr th:only-of-type {\n",
       "        vertical-align: middle;\n",
       "    }\n",
       "\n",
       "    .dataframe tbody tr th {\n",
       "        vertical-align: top;\n",
       "    }\n",
       "\n",
       "    .dataframe thead th {\n",
       "        text-align: right;\n",
       "    }\n",
       "</style>\n",
       "<table border=\"1\" class=\"dataframe\">\n",
       "  <thead>\n",
       "    <tr style=\"text-align: right;\">\n",
       "      <th></th>\n",
       "      <th>filename</th>\n",
       "      <th>tokens</th>\n",
       "    </tr>\n",
       "  </thead>\n",
       "  <tbody>\n",
       "  </tbody>\n",
       "</table>\n",
       "</div>"
      ],
      "text/plain": [
       "Empty DataFrame\n",
       "Columns: [filename, tokens]\n",
       "Index: []"
      ]
     },
     "execution_count": 62,
     "metadata": {},
     "output_type": "execute_result"
    }
   ],
   "source": [
    "data_test.loc[data_test.isnull().any(axis=1)]"
   ]
  },
  {
   "cell_type": "code",
   "execution_count": 63,
   "metadata": {},
   "outputs": [],
   "source": [
    "# dump preprocessed data\n",
    "corpus_tokenized_ja_test = data_test['tokens'].tolist()\n",
    "logger('corpus_tokenized_ja_test.json', corpus_tokenized_ja_test)"
   ]
  },
  {
   "cell_type": "code",
   "execution_count": 64,
   "metadata": {},
   "outputs": [
    {
     "data": {
      "image/png": "[encoded data removed]",
      "text/plain": [
       "<Figure size 432x288 with 1 Axes>"
      ]
     },
     "metadata": {
      "needs_background": "light"
     },
     "output_type": "display_data"
    }
   ],
   "source": [
    "# overview japanese corpus\n",
    "import matplotlib.pyplot as plt\n",
    "\n",
    "timestamp = '20200412T080115Z'\n",
    "corpus_tokenized_ja_test = load_log(timestamp,'corpus_tokenized_ja_test.json')\n",
    "len_tokens_ja = list(map(len, corpus_tokenized_ja_test))\n",
    "plt.hist(len_tokens_ja, bins=40)\n",
    "plt.yscale('log')"
   ]
  },
  {
   "cell_type": "markdown",
   "metadata": {},
   "source": [
    "### vectorize test corpus"
   ]
  },
  {
   "cell_type": "code",
   "execution_count": 65,
   "metadata": {},
   "outputs": [
    {
     "data": {
      "text/plain": [
       "(532, 12000)"
      ]
     },
     "execution_count": 65,
     "metadata": {},
     "output_type": "execute_result"
    }
   ],
   "source": [
    "# scdv ignoring unknown tokens\n",
    "document_vectors = build_document_vectors(vocabulary, corpus_tokenized_ja_test, word_topic_vectors)\n",
    "param = 0.04\n",
    "scdv_ignr_unk = make_sparse(document_vectors, param)\n",
    "scdv_ignr_unk.shape"
   ]
  },
  {
   "cell_type": "markdown",
   "metadata": {},
   "source": [
    "### predict test data"
   ]
  },
  {
   "cell_type": "code",
   "execution_count": 77,
   "metadata": {
    "scrolled": true
   },
   "outputs": [
    {
     "data": {
      "text/plain": [
       "(532, 12000)"
      ]
     },
     "execution_count": 77,
     "metadata": {},
     "output_type": "execute_result"
    }
   ],
   "source": [
    "X_test = scdv_ignr_unk\n",
    "X_test.shape"
   ]
  },
  {
   "cell_type": "code",
   "execution_count": 78,
   "metadata": {},
   "outputs": [],
   "source": [
    "y_pred_proba = clf.predict_proba(X_test)"
   ]
  },
  {
   "cell_type": "code",
   "execution_count": 82,
   "metadata": {},
   "outputs": [
    {
     "data": {
      "text/plain": [
       "(532, 17)"
      ]
     },
     "execution_count": 82,
     "metadata": {},
     "output_type": "execute_result"
    }
   ],
   "source": [
    "y_pred_proba.shape"
   ]
  },
  {
   "cell_type": "code",
   "execution_count": 79,
   "metadata": {},
   "outputs": [
    {
     "data": {
      "text/plain": [
       "(array([  4.,  10.,   6.,  18.,   6.,  19.,  11.,  13.,  17.,  15.,  16.,\n",
       "         18.,  19.,  12.,  15.,  18.,  23.,  35.,  54., 203.]),\n",
       " array([0.13  , 0.1735, 0.217 , 0.2605, 0.304 , 0.3475, 0.391 , 0.4345,\n",
       "        0.478 , 0.5215, 0.565 , 0.6085, 0.652 , 0.6955, 0.739 , 0.7825,\n",
       "        0.826 , 0.8695, 0.913 , 0.9565, 1.    ]),\n",
       " <a list of 20 Patch objects>)"
      ]
     },
     "execution_count": 79,
     "metadata": {},
     "output_type": "execute_result"
    },
    {
     "data": {
      "image/png": "[encoded data removed]",
      "text/plain": [
       "<Figure size 432x288 with 1 Axes>"
      ]
     },
     "metadata": {
      "needs_background": "light"
     },
     "output_type": "display_data"
    }
   ],
   "source": [
    "plt.hist(list(map(max, y_pred_proba)), bins=20)\n",
    "# plt.hist(y_pred_proba.max(axis=1), bins=20)"
   ]
  },
  {
   "cell_type": "code",
   "execution_count": 80,
   "metadata": {
    "scrolled": true
   },
   "outputs": [
    {
     "data": {
      "image/png": "[encoded data removed]",
      "text/plain": [
       "<Figure size 432x288 with 1 Axes>"
      ]
     },
     "metadata": {
      "needs_background": "light"
     },
     "output_type": "display_data"
    }
   ],
   "source": [
    "y_pred = y_pred_proba.argmax(axis=1)\n",
    "u, counts = np.unique(y_pred, return_counts=True)\n",
    "plt.bar(u, counts)\n",
    "plt.xticks(u);"
   ]
  },
  {
   "cell_type": "markdown",
   "metadata": {},
   "source": [
    "### set authors"
   ]
  },
  {
   "cell_type": "code",
   "execution_count": 95,
   "metadata": {},
   "outputs": [],
   "source": [
    "label_author_map = dict([(v,k) for k,v in author_label_map.items()])\n",
    "author_pred = list(map(label_author_map.get, y_pred))"
   ]
  },
  {
   "cell_type": "code",
   "execution_count": 89,
   "metadata": {},
   "outputs": [
    {
     "data": {
      "text/html": [
       "<div>\n",
       "<style scoped>\n",
       "    .dataframe tbody tr th:only-of-type {\n",
       "        vertical-align: middle;\n",
       "    }\n",
       "\n",
       "    .dataframe tbody tr th {\n",
       "        vertical-align: top;\n",
       "    }\n",
       "\n",
       "    .dataframe thead th {\n",
       "        text-align: right;\n",
       "    }\n",
       "</style>\n",
       "<table border=\"1\" class=\"dataframe\">\n",
       "  <thead>\n",
       "    <tr style=\"text-align: right;\">\n",
       "      <th></th>\n",
       "      <th>filename</th>\n",
       "      <th>tokens</th>\n",
       "      <th>predicted_author</th>\n",
       "    </tr>\n",
       "  </thead>\n",
       "  <tbody>\n",
       "    <tr>\n",
       "      <th>0</th>\n",
       "      <td>54740.txt</td>\n",
       "      <td>[９, 字, 下げ, 一, 一, は, 中, 見出し, 日本一, の, 面白い, 話, が,...</td>\n",
       "      <td>野村 胡堂</td>\n",
       "    </tr>\n",
       "    <tr>\n",
       "      <th>1</th>\n",
       "      <td>56321.txt</td>\n",
       "      <td>[５, 字, 下げ, 一, 一, は, 中, 見出し, 捕物, 小説, という, もの, を...</td>\n",
       "      <td>野村 胡堂</td>\n",
       "    </tr>\n",
       "    <tr>\n",
       "      <th>2</th>\n",
       "      <td>56201.txt</td>\n",
       "      <td>[５, 字, 下げ, 一, 一, は, 中, 見出し, おや, 八, 五, 郎, 親分, も...</td>\n",
       "      <td>野村 胡堂</td>\n",
       "    </tr>\n",
       "    <tr>\n",
       "      <th>3</th>\n",
       "      <td>51417.txt</td>\n",
       "      <td>[先刻, 御, 面, 遠い, 遠い, に, 倒, の, 注記, 御, 頼, 申, 上, 候,...</td>\n",
       "      <td>坂本 竜馬</td>\n",
       "    </tr>\n",
       "    <tr>\n",
       "      <th>4</th>\n",
       "      <td>49540.txt</td>\n",
       "      <td>[何, と, いう, て, も, この, 頃, は, 読書, 子, に, 取る, て, は,...</td>\n",
       "      <td>岡本 綺堂</td>\n",
       "    </tr>\n",
       "    <tr>\n",
       "      <th>...</th>\n",
       "      <td>...</td>\n",
       "      <td>...</td>\n",
       "      <td>...</td>\n",
       "    </tr>\n",
       "    <tr>\n",
       "      <th>527</th>\n",
       "      <td>476.txt</td>\n",
       "      <td>[一, 次郎左衛門, じ, ろ, ざえもん, が, 野, 州, や, しゅう, 佐野, の,...</td>\n",
       "      <td>岡本 綺堂</td>\n",
       "    </tr>\n",
       "    <tr>\n",
       "      <th>528</th>\n",
       "      <td>57308.txt</td>\n",
       "      <td>[今年, の, 六月, 本土, 爆撃, が, いよいよ, 苛烈, に, なる, て, 東京,...</td>\n",
       "      <td>中谷 宇吉郎</td>\n",
       "    </tr>\n",
       "    <tr>\n",
       "      <th>529</th>\n",
       "      <td>1710.txt</td>\n",
       "      <td>[序, 思想, という, もの, は, その, 持ち主, の, 身, に, つく, ば, そ...</td>\n",
       "      <td>戸坂 潤</td>\n",
       "    </tr>\n",
       "    <tr>\n",
       "      <th>530</th>\n",
       "      <td>53489.txt</td>\n",
       "      <td>[もう, 十, 年, 以上, も, 前, の, こと, だ, ある, が, まだ, 私, が...</td>\n",
       "      <td>中谷 宇吉郎</td>\n",
       "    </tr>\n",
       "    <tr>\n",
       "      <th>531</th>\n",
       "      <td>4588.txt</td>\n",
       "      <td>[８, 字, 下げ, 上, 上, は, 中, 見出し, こ, ゝ, に, 信州, しん, す...</td>\n",
       "      <td>泉 鏡花</td>\n",
       "    </tr>\n",
       "  </tbody>\n",
       "</table>\n",
       "<p>532 rows × 3 columns</p>\n",
       "</div>"
      ],
      "text/plain": [
       "      filename                                             tokens  \\\n",
       "0    54740.txt  [９, 字, 下げ, 一, 一, は, 中, 見出し, 日本一, の, 面白い, 話, が,...   \n",
       "1    56321.txt  [５, 字, 下げ, 一, 一, は, 中, 見出し, 捕物, 小説, という, もの, を...   \n",
       "2    56201.txt  [５, 字, 下げ, 一, 一, は, 中, 見出し, おや, 八, 五, 郎, 親分, も...   \n",
       "3    51417.txt  [先刻, 御, 面, 遠い, 遠い, に, 倒, の, 注記, 御, 頼, 申, 上, 候,...   \n",
       "4    49540.txt  [何, と, いう, て, も, この, 頃, は, 読書, 子, に, 取る, て, は,...   \n",
       "..         ...                                                ...   \n",
       "527    476.txt  [一, 次郎左衛門, じ, ろ, ざえもん, が, 野, 州, や, しゅう, 佐野, の,...   \n",
       "528  57308.txt  [今年, の, 六月, 本土, 爆撃, が, いよいよ, 苛烈, に, なる, て, 東京,...   \n",
       "529   1710.txt  [序, 思想, という, もの, は, その, 持ち主, の, 身, に, つく, ば, そ...   \n",
       "530  53489.txt  [もう, 十, 年, 以上, も, 前, の, こと, だ, ある, が, まだ, 私, が...   \n",
       "531   4588.txt  [８, 字, 下げ, 上, 上, は, 中, 見出し, こ, ゝ, に, 信州, しん, す...   \n",
       "\n",
       "    predicted_author  \n",
       "0              野村 胡堂  \n",
       "1              野村 胡堂  \n",
       "2              野村 胡堂  \n",
       "3              坂本 竜馬  \n",
       "4              岡本 綺堂  \n",
       "..               ...  \n",
       "527            岡本 綺堂  \n",
       "528           中谷 宇吉郎  \n",
       "529             戸坂 潤  \n",
       "530           中谷 宇吉郎  \n",
       "531             泉 鏡花  \n",
       "\n",
       "[532 rows x 3 columns]"
      ]
     },
     "execution_count": 89,
     "metadata": {},
     "output_type": "execute_result"
    }
   ],
   "source": [
    "data_test.assign(predicted_author = author_pred)"
   ]
  },
  {
   "cell_type": "code",
   "execution_count": 90,
   "metadata": {},
   "outputs": [],
   "source": [
    "filename_author_map_test = dict(zip(data_test['filename'], data_test['predicted_author']))"
   ]
  },
  {
   "cell_type": "code",
   "execution_count": 107,
   "metadata": {},
   "outputs": [
    {
     "data": {
      "text/html": [
       "<div>\n",
       "<style scoped>\n",
       "    .dataframe tbody tr th:only-of-type {\n",
       "        vertical-align: middle;\n",
       "    }\n",
       "\n",
       "    .dataframe tbody tr th {\n",
       "        vertical-align: top;\n",
       "    }\n",
       "\n",
       "    .dataframe thead th {\n",
       "        text-align: right;\n",
       "    }\n",
       "</style>\n",
       "<table border=\"1\" class=\"dataframe\">\n",
       "  <thead>\n",
       "    <tr style=\"text-align: right;\">\n",
       "      <th></th>\n",
       "      <th>novel_id</th>\n",
       "      <th>filename</th>\n",
       "      <th>author</th>\n",
       "      <th>author_id</th>\n",
       "    </tr>\n",
       "  </thead>\n",
       "  <tbody>\n",
       "    <tr>\n",
       "      <th>0</th>\n",
       "      <td>2198</td>\n",
       "      <td>2198.txt</td>\n",
       "      <td>若山 牧水</td>\n",
       "      <td>162</td>\n",
       "    </tr>\n",
       "    <tr>\n",
       "      <th>1</th>\n",
       "      <td>2213</td>\n",
       "      <td>2213.txt</td>\n",
       "      <td>若山 牧水</td>\n",
       "      <td>162</td>\n",
       "    </tr>\n",
       "    <tr>\n",
       "      <th>2</th>\n",
       "      <td>2627</td>\n",
       "      <td>2627.txt</td>\n",
       "      <td>若山 牧水</td>\n",
       "      <td>162</td>\n",
       "    </tr>\n",
       "    <tr>\n",
       "      <th>3</th>\n",
       "      <td>2618</td>\n",
       "      <td>2618.txt</td>\n",
       "      <td>石川 啄木</td>\n",
       "      <td>153</td>\n",
       "    </tr>\n",
       "    <tr>\n",
       "      <th>4</th>\n",
       "      <td>2621</td>\n",
       "      <td>2621.txt</td>\n",
       "      <td>石川 啄木</td>\n",
       "      <td>153</td>\n",
       "    </tr>\n",
       "    <tr>\n",
       "      <th>...</th>\n",
       "      <td>...</td>\n",
       "      <td>...</td>\n",
       "      <td>...</td>\n",
       "      <td>...</td>\n",
       "    </tr>\n",
       "    <tr>\n",
       "      <th>527</th>\n",
       "      <td>48367</td>\n",
       "      <td>48367.txt</td>\n",
       "      <td>岡本 綺堂</td>\n",
       "      <td>82</td>\n",
       "    </tr>\n",
       "    <tr>\n",
       "      <th>528</th>\n",
       "      <td>48163</td>\n",
       "      <td>48163.txt</td>\n",
       "      <td>石川 啄木</td>\n",
       "      <td>153</td>\n",
       "    </tr>\n",
       "    <tr>\n",
       "      <th>529</th>\n",
       "      <td>48151</td>\n",
       "      <td>48151.txt</td>\n",
       "      <td>折口 信夫</td>\n",
       "      <td>933</td>\n",
       "    </tr>\n",
       "    <tr>\n",
       "      <th>530</th>\n",
       "      <td>48152</td>\n",
       "      <td>48152.txt</td>\n",
       "      <td>坂本 竜馬</td>\n",
       "      <td>908</td>\n",
       "    </tr>\n",
       "    <tr>\n",
       "      <th>531</th>\n",
       "      <td>4699</td>\n",
       "      <td>4699.txt</td>\n",
       "      <td>石川 啄木</td>\n",
       "      <td>153</td>\n",
       "    </tr>\n",
       "  </tbody>\n",
       "</table>\n",
       "<p>532 rows × 4 columns</p>\n",
       "</div>"
      ],
      "text/plain": [
       "     novel_id   filename author  author_id\n",
       "0        2198   2198.txt  若山 牧水        162\n",
       "1        2213   2213.txt  若山 牧水        162\n",
       "2        2627   2627.txt  若山 牧水        162\n",
       "3        2618   2618.txt  石川 啄木        153\n",
       "4        2621   2621.txt  石川 啄木        153\n",
       "..        ...        ...    ...        ...\n",
       "527     48367  48367.txt  岡本 綺堂         82\n",
       "528     48163  48163.txt  石川 啄木        153\n",
       "529     48151  48151.txt  折口 信夫        933\n",
       "530     48152  48152.txt  坂本 竜馬        908\n",
       "531      4699   4699.txt  石川 啄木        153\n",
       "\n",
       "[532 rows x 4 columns]"
      ]
     },
     "execution_count": 107,
     "metadata": {},
     "output_type": "execute_result"
    }
   ],
   "source": [
    "import pandas as pd\n",
    "\n",
    "input_test='../data/aozora_datasets_min/test_author_novel.csv'\n",
    "df_test = pd.read_csv(input_test)\n",
    "df_test['author'] = list(map(filename_author_map_test.get, df_test['filename']))\n",
    "df_test['author_id'] = list(map(\\\n",
    "            dict(zip(df_train['author_name'], df_train['author_id'])).get, df_test['author']\\\n",
    "            ))\n",
    "df_test"
   ]
  },
  {
   "cell_type": "code",
   "execution_count": 126,
   "metadata": {},
   "outputs": [],
   "source": [
    "df_test.to_csv('../data/test_author_novel_predicted.csv', index=False)"
   ]
  },
  {
   "cell_type": "code",
   "execution_count": null,
   "metadata": {},
   "outputs": [],
   "source": []
  },
  {
   "cell_type": "markdown",
   "metadata": {},
   "source": [
    "### check predicted results"
   ]
  },
  {
   "cell_type": "code",
   "execution_count": 109,
   "metadata": {},
   "outputs": [
    {
     "data": {
      "text/plain": [
       "novel_id         55744\n",
       "filename     55744.txt\n",
       "author           野村 胡堂\n",
       "author_id         1670\n",
       "Name: 200, dtype: object"
      ]
     },
     "execution_count": 109,
     "metadata": {},
     "output_type": "execute_result"
    }
   ],
   "source": [
    "df_test.loc[200,:]"
   ]
  },
  {
   "cell_type": "code",
   "execution_count": 110,
   "metadata": {},
   "outputs": [
    {
     "data": {
      "text/plain": [
       "RangeIndex(start=0, stop=532, step=1)"
      ]
     },
     "execution_count": 110,
     "metadata": {},
     "output_type": "execute_result"
    }
   ],
   "source": [
    "df_test.index"
   ]
  },
  {
   "cell_type": "code",
   "execution_count": 111,
   "metadata": {},
   "outputs": [],
   "source": [
    "rng = np.random.RandomState(0)"
   ]
  },
  {
   "cell_type": "code",
   "execution_count": 112,
   "metadata": {},
   "outputs": [
    {
     "data": {
      "text/html": [
       "<div>\n",
       "<style scoped>\n",
       "    .dataframe tbody tr th:only-of-type {\n",
       "        vertical-align: middle;\n",
       "    }\n",
       "\n",
       "    .dataframe tbody tr th {\n",
       "        vertical-align: top;\n",
       "    }\n",
       "\n",
       "    .dataframe thead th {\n",
       "        text-align: right;\n",
       "    }\n",
       "</style>\n",
       "<table border=\"1\" class=\"dataframe\">\n",
       "  <thead>\n",
       "    <tr style=\"text-align: right;\">\n",
       "      <th></th>\n",
       "      <th>novel_id</th>\n",
       "      <th>filename</th>\n",
       "      <th>author</th>\n",
       "      <th>author_id</th>\n",
       "    </tr>\n",
       "  </thead>\n",
       "  <tbody>\n",
       "    <tr>\n",
       "      <th>192</th>\n",
       "      <td>54587</td>\n",
       "      <td>54587.txt</td>\n",
       "      <td>野村 胡堂</td>\n",
       "      <td>1670</td>\n",
       "    </tr>\n",
       "    <tr>\n",
       "      <th>359</th>\n",
       "      <td>24436</td>\n",
       "      <td>24436.txt</td>\n",
       "      <td>折口 信夫</td>\n",
       "      <td>933</td>\n",
       "    </tr>\n",
       "    <tr>\n",
       "      <th>9</th>\n",
       "      <td>2630</td>\n",
       "      <td>2630.txt</td>\n",
       "      <td>若山 牧水</td>\n",
       "      <td>162</td>\n",
       "    </tr>\n",
       "    <tr>\n",
       "      <th>277</th>\n",
       "      <td>46197</td>\n",
       "      <td>46197.txt</td>\n",
       "      <td>高村 光雲</td>\n",
       "      <td>270</td>\n",
       "    </tr>\n",
       "    <tr>\n",
       "      <th>70</th>\n",
       "      <td>47985</td>\n",
       "      <td>47985.txt</td>\n",
       "      <td>正岡 子規</td>\n",
       "      <td>305</td>\n",
       "    </tr>\n",
       "    <tr>\n",
       "      <th>472</th>\n",
       "      <td>50786</td>\n",
       "      <td>50786.txt</td>\n",
       "      <td>泉 鏡花</td>\n",
       "      <td>50</td>\n",
       "    </tr>\n",
       "    <tr>\n",
       "      <th>396</th>\n",
       "      <td>49554</td>\n",
       "      <td>49554.txt</td>\n",
       "      <td>泉 鏡花</td>\n",
       "      <td>50</td>\n",
       "    </tr>\n",
       "    <tr>\n",
       "      <th>314</th>\n",
       "      <td>51789</td>\n",
       "      <td>51789.txt</td>\n",
       "      <td>坂本 竜馬</td>\n",
       "      <td>908</td>\n",
       "    </tr>\n",
       "    <tr>\n",
       "      <th>486</th>\n",
       "      <td>4997</td>\n",
       "      <td>4997.txt</td>\n",
       "      <td>泉 鏡花</td>\n",
       "      <td>50</td>\n",
       "    </tr>\n",
       "    <tr>\n",
       "      <th>87</th>\n",
       "      <td>46136</td>\n",
       "      <td>46136.txt</td>\n",
       "      <td>久生 十蘭</td>\n",
       "      <td>1224</td>\n",
       "    </tr>\n",
       "  </tbody>\n",
       "</table>\n",
       "</div>"
      ],
      "text/plain": [
       "     novel_id   filename author  author_id\n",
       "192     54587  54587.txt  野村 胡堂       1670\n",
       "359     24436  24436.txt  折口 信夫        933\n",
       "9        2630   2630.txt  若山 牧水        162\n",
       "277     46197  46197.txt  高村 光雲        270\n",
       "70      47985  47985.txt  正岡 子規        305\n",
       "472     50786  50786.txt   泉 鏡花         50\n",
       "396     49554  49554.txt   泉 鏡花         50\n",
       "314     51789  51789.txt  坂本 竜馬        908\n",
       "486      4997   4997.txt   泉 鏡花         50\n",
       "87      46136  46136.txt  久生 十蘭       1224"
      ]
     },
     "execution_count": 112,
     "metadata": {},
     "output_type": "execute_result"
    }
   ],
   "source": [
    "df_test.loc[rng.choice(df_test.index,10),:]"
   ]
  },
  {
   "cell_type": "code",
   "execution_count": 124,
   "metadata": {},
   "outputs": [
    {
     "data": {
      "text/plain": [
       "181    57200.txt\n",
       "Name: filename, dtype: object"
      ]
     },
     "execution_count": 124,
     "metadata": {},
     "output_type": "execute_result"
    }
   ],
   "source": [
    "path_test_samples = df_test.filename.sample(1, replace=False)\n",
    "path_test_samples"
   ]
  },
  {
   "cell_type": "code",
   "execution_count": 125,
   "metadata": {},
   "outputs": [
    {
     "data": {
      "text/plain": [
       "['野村 胡堂']"
      ]
     },
     "execution_count": 125,
     "metadata": {},
     "output_type": "execute_result"
    }
   ],
   "source": [
    "list(map(filename_author_map_test.get, path_test_samples))"
   ]
  },
  {
   "cell_type": "code",
   "execution_count": 120,
   "metadata": {},
   "outputs": [
    {
     "name": "stdout",
     "output_type": "stream",
     "text": [
      "\n",
      "［＃５字下げ］一［＃「一」は中見出し］\n",
      "\n",
      "　人間業では盗めそうもない物を盗んで、遅くとも三日以内には、元の持主に返すという不思議な盗賊が、江戸中を疾風のごとく荒し廻りました。\n",
      "「平次、御奉行｜朝倉石見守《あさくらいわみのかみ》様から厳《きつ》い御達しだ、――近頃府内を騒がす盗賊、盗んだ品を返せば罪はないようなものではあるが、あまりと言えばお上の御威光を蔑《ないがし》ろにする仕打だ。明日とも言わず、からめ取って来い――とおっしゃる、何とか良い工夫はあるまいか」\n",
      "　南町奉行付、与力筆頭《よりきひっとう》笹野新三郎、自分とは身分が違いながら、親身のように思っている捕物の名人銭形の平次に、こう打ち明けて頼み込みました。\n",
      "「ヘエ、――私も考えないじゃございません。盗んですぐ返すというやり方が第一気に入りません。恋の付け文、貧の盗みと言うくらいで、食うに困っての盗みなら、悪いながらも可哀想とも思います。盗んだ品を翌《あく》る日返すのは、盗みを道楽にしている人でなきゃア、私どもを翻弄《からか》っているに相違ございません、何とかしてあの野郎をフン捕まえなきゃア、銭形の平次も世間へ顔向けがなりません」\n",
      "　若い平次は、日頃の温厚な様子にも似ず、ツイ拳固《げんこ》で膝を叩きながら、縁側の敷居際までにじり［＃「にじり」に傍点］寄ります。\n",
      "「お前がその気なら、遠からず捉《つか》まえられるだろう――少しは心当りがあるだろうな」\n",
      "「恥ずかしながら、何の手掛りもございません」\n",
      "「女泥棒だというが、本当だろうな」\n",
      "「それも当にはなりません。盗んだ品を返しに来るのは、目の醒《さ》めるような美しい新造《しんぞ》だって言いますが、それが盗むにしちゃ、手際が良すぎます」\n",
      "「と言うと」\n",
      "「鍵や錠を苦もなく外すのはともかくとして一丈も一丈二尺もある塀を飛越したり、長押《なげし》を踏んで座敷へ忍び込んだり、とても女や子供に出来る芸当じゃございません」\n",
      "「フーム」\n",
      "　笹野新三郎も、銭形の平次も、近頃人も無気《なげ》に出没する怪盗――風のごとく去来するから世間では風太郎《かぜたろう》と言っておりますが――には全く手を焼いてしまいました。\n",
      "「たった一つ、仕残した手段《てだて》がございます」\n",
      "「どんな事だ」\n",
      "「謀事《はかりごと》は密なるを要すって申しましょう。もう二三日お待ち下さいまし」\n",
      "「ハッハハハハハ、平次は思いの外《ほか》学者だな」\n",
      "「ヘエ――」\n",
      "　苦味走った好《よ》い男の平次も、笹野新三郎にあっちゃ頭が上がりません。\n",
      "\n",
      "［＃５字下げ］二［＃「二」は中見出し］\n",
      "\n",
      "「親分」\n",
      "「何だガラッ八か、騒々しい」\n",
      "「ガラッ八は情けねえな、――御注進、御注進とおいでなすったんで」\n",
      "「気取るな、一体何がどうしたんだ」\n",
      "　平次は落着き払って、子分のガラッ八の顔を見上げました。\n",
      "「昨夜《ゆうべ》風太郎が入りましたよ」\n",
      "「どこへ」\n",
      "「浅草の隆興寺《りゅうこうじ》」\n",
      "「何を盗《と》った」\n",
      "「本堂の奥のお厨子《ずし》の中から三寸二分の黄金仏、大日如来」\n",
      "「罰当り奴《め》」\n",
      "「親分、あっしが盗ったんじゃありませんぜ」\n",
      "「手前《てめえ》に盗れる訳もねえやな、案内しろ」\n",
      "「親分が行って下さりゃ、ガラッ八も、心丈夫だ。こう来なせえ」\n",
      "「馬鹿にするな」\n",
      "　藍微塵《あいみじん》の素袷《すあわせ》、十手を懐に隠して、突っかけ草履、少し三枚目染みる子分のガラッ八を案内に、銭形の平次は浅草の隆興寺へ飛んで行きました。\n",
      "　三寸二分、金無垢《きんむく》の大日如来というのは、本堂の奥に安置した教祖の木像の胎内仏で、別にお厨子を作って見えるところに安置したのは、少しでも寺内を賑やかにしようという住職の商売気、そこを見込んで怪盗風太郎が、昨夜一と晩のうちに盗み出してしまったのです。\n",
      "　風太郎にあっては、鍵も錠も問題ではありません。\n",
      "　住職に逢って、愚痴やら繰り言やらを聞いた平次は、あとは調べるでも探すでもありません。ケロリとして、庭に出ると、寺男を捉まえて小半日植木の講釈などをした挙句、今度は本堂の中に入って、寺相応の彫刻やら額やら絵やらを眺めて、お厨子の方などは振り向いて見ようともしません。\n",
      "「親分、真気《ほんき》になって捜してやっておくんなさいまし。あの黄金仏がなくなりゃア、本山は申すに及ばず、檀家中へ申訳がないから、傘一本で寺を明け渡さなきゃアなるまいと、住職は萎《しお》れ返っておりますぜ――親分」\n",
      "「わかったよ、それより、どんな者がこの寺へ出入りするか、いちいち見張っていな」\n",
      "「ヘエ――？」\n",
      "「風太郎の仕業なら返すに極っている。どんな人間が持って来るか、俺はそれが知りてえ」\n",
      "「なア――る、親分は親分だけの勘考だ、返しに来た野郎が取りも直さず盗んだ野郎って事になりますね」\n",
      "「まアね」\n",
      "「ようし、こうなりゃ蟻《あり》の行列だって、見のがすこっちゃねえ」\n",
      "　ガラッ八は二つの眼玉を剥《む》いて見張りましたが、さて不審と思うような人間は一人も出入りしません。\n",
      "　無事に一日を過して、念のためにその辺中を探してみると、本堂の賽銭箱《さいせんばこ》の側に、紙に包んだお捻《ひね》りが一つありました。何の気もなく開けてみると、その中から現れたのは、金色燦爛《こんじきさんらん》たる三寸二分の胎内仏――大日如来です。\n",
      "「あッ」\n",
      "「いつの間に持って来やがったんだ」\n",
      "　さすが銭形の平次も驚き呆《あき》れるばかり、朝から多勢来た参詣の男女のうち、どれが怪盗風太郎なのか、全くもって見当も付きません。\n",
      "\n",
      "［＃５字下げ］三［＃「三」は中見出し］\n",
      "\n",
      "　翌晩襲われたのは、本郷春木町の質屋で上総屋重兵衛《かずさやじゅうべえ》、どうして八重《やえ》の締りを解いたか、表口の厳重な潜りを開けて、店格子を乗り越え、小僧達の頭の上を跨《また》いで、奥の一間に通り、主重兵衛の枕元に置いた用箪笥《ようだんす》の中から、これも錠前を綺麗に開けて、小判で三百両、切餅を十二ほど持出されてしまったのです。\n",
      "　当時三百両と言えば一と身代と言ってもよいほどの大金、上総屋重兵衛｜蒼《あお》くなって訴え出ました。\n",
      "「風太郎の仕業なら二三日のうちに返って来るだろう。その間俺を邪魔でも帳場へ置いちゃくれまいか」\n",
      "「ヘエ――、それはもう願ってもないことで、第一盗賊の入った後で、店の者もしばらくは怖がってなりません」\n",
      "　重兵衛は大乗気で引受けてしまいました。ガラッ八は用心のために外の路地を見張らせて、合図があったら飛出して貰うことにし、銭形の平次は、そのまま上総屋の帳場に坐って、来る客来る客に鋭い眼を配りました。\n",
      "　客は平常《へいぜい》の通りやって来ますが、さて風太郎らしいのは一人もありません。夕刻の立て込む真っ最中、至って粗末な様子をしておりますが、いかにも若くて美しそうな女が、店格子の前へすわり込んで、\n",
      "「お帳面を忘れて来ました。済みませんがこれをここへ置かして下さい、ちょいと取って来ますから」\n",
      "　一人言のように言って、ヒョイと暖簾《のれん》を潜ります。\n",
      "「あ、そこへ置いて行っては困ります」\n",
      "　と言ったが及びません。\n",
      "　番頭の注意を背に聞いて、外へ飛出してしまった若い女は、それっきり戻っては来なかったのです。\n",
      "「おや、可怪《おか》しいぜ。あの包みを持って来て見せな、風太郎というのはやっぱり女かな」\n",
      "　銭形の平次もまことに迂遠千万、このとき漸《ようや》く気が付いて、女が置いて行った包みを開いてみると、中からは小判が三百両、切餅の封も切らず、盗られた時のまんま、そっくり入って来たのです。\n",
      "「あッ」\n",
      "　驚きに驚きを重ねるばかり、怪盗風太郎一味には若くて美しい女が居るという事を確かめた以外には平次ほどの者も何にも掴《つか》んでいません。\n",
      "\n",
      "［＃５字下げ］四［＃「四」は中見出し］\n",
      "\n",
      "　それから三日目有名な茶人｜繁野友白《しげのゆうはく》のところへ忍び込んで、さる大名から預かった名物ものの茶碗を盗んだものがあります。名物ものと言っても、それは祖先の誰《たれ》某公が朝鮮役の功労で豊太閤《ほうたいこう》から貰ったという由緒付きのもの。伊達政宗がひどく羨《うらや》んで、岩代《いわしろ》半国と代えようと申込んだが、とうとう譲らなかったという、天下｜稀覯《きこう》の大名物です。\n",
      "　これを盗まれては、繁野友白首でも縊《くく》らなければ追っ付きません。唯一の頼みは、盗んだのが近頃府内を騒がす怪盗風太郎ならば、三日とたたない内にきっと返してくれるだろうという一事だけ、友白は萎《しお》れ返りながらも、それを心頼みに、二日まで空しく待ってみました。\n",
      "　今日は三日目となると、居てもたってもいられません。風太郎も名物の茶碗を惜しんだものか、三日の昼過ぎになっても返して来ず、友白はいよいよ土壇場に坐った心持で、日頃の落着きも失って、奥と門口《かどぐち》との間にお百度を踏んでおります。\n",
      "　銭形の平次も三日詰め切りましたが、さて何の役にも立ちません。風太郎の手口は百も承知ですから、風のごとく通って歩いた後を嗅いだところで何の匂いも残ってはいず、この上は、例の通り品物を返しに来るのを待ち伏せて、有無を言わさず縛り上げる外はなかったのです。\n",
      "　風太郎が、ここの門を入りさえすれば、どんなに姿を変えていても、平次の捕縄を免《のが》れようはありません。が三日目の昼過ぎまで待ち呆《ぼう》けを喰わして、何の音沙汰もないのはどうした事でしょう。いよいよ茶碗を返してくれなければ――と思うと繁野友白もはや生きた空もなかったのです。\n",
      "　未刻《やつ》（二時）下がり、やがて申刻《ななつ》（四時）にも近かろうと思う頃、お勝手口へフラリ人の影がさします。\n",
      "「それッ」\n",
      "　と行ってみると、見知り越しの隣の男の子、風太郎いかに神出鬼没の怪盗でも、こんなに小さくなれッこはありません。\n",
      "「叔母様、これ粗末なものですが、皆さんで召上がって下さいって――」\n",
      "　言いつかった口上通りを取次いで、友白の妻の前に出したのは丼《どんぶり》へ入れた饅頭《まんじゅう》。\n",
      "「それは御丁寧に有難うございました」\n",
      "　取り込んでいるので、気を利かしてお茶受けを持って来てくれたのだろう――そんな事を考えながらヒョイと見ると、饅頭を入れた丼と見たのは、三日前に盗まれた名物の茶碗。\n",
      "「あッ、これはどうだ」\n",
      "　そこへ来合せた友自は饅頭を投《ほう》り出して、茶碗を掻い抱くように、右から左から、ためつすかしつ、鵜《う》の毛で突いたほどの疵《きず》も見落さずと調べています。\n",
      "「坊っちゃん、ちょいと待った」\n",
      "　平次は飛付いて、危うく隣の子を押えました。\n",
      "「好《い》い子だ、あの饅頭はどこから持って来たか、教えておくれ」\n",
      "「おいらのせいじゃないや、放しておくれよう」\n",
      "　物々しさに怯《おび》えて泣き出しそう。\n",
      "　そこへ友白の妻やら、隣の主人やらが来て、宥《なだ》めすかしながら聞くと、路地の外で若く美しい女の人に頼まれたとだけは判りましたが、子供のことで、年頃も人相もはっきりした事は言えません。\n",
      "　人間業とは思えぬ巧妙｜精緻《せいち》な風太郎の手口を見ると、決して二人や三人の仕事ではなく、異常な頭脳《あたま》と体力を持ったたった一人の仕業に違いないということがよくわかります。してみると、盗んだ品物を返しに来る、あの若くて美しい女というのが、怪盗風太郎本人でなければなりません。\n",
      "　一体、何のために盗んで、何のために返すのでしょう。返って来た小判や茶碗を見ると、疑いもなく元のままの真物《ほんもの》で、贋物《にせもの》と摺り替えた形跡は少しもなく、あんなに骨を折って盗った癖に、鐚銭《びたせん》一枚身に着けないのですから、この泥捧の目的ばかりは全く見当も付かないのでした。\n",
      "　怪盗風太郎というのは、若くて美しい女だそうだ――という噂は、その日のうちに江戸中に拡がってしまいました。\n",
      "\n",
      "［＃５字下げ］五［＃「五」は中見出し］\n",
      "\n",
      "「平次、また風太郎だ」\n",
      "「ヘエー、今度はどこへ入りました」\n",
      "　与力笹野新三郎に喚《よ》び付けられた平次、面目次第もなく差し俯向《うつむ》きました。怪盗風太郎が江戸を荒し始めてからザット三月、江戸中の岡っ引が、腕に撚《より》を掛けて競いましたが、何としても捉まえることが出来ません。特に捕物の名人とか何とか言われている銭形の平次、与力筆頭笹野新三郎から特別の言葉があっただけに、穴があったら入りたいほど恥じ入っております。\n",
      "「今度は少し困った事になった」\n",
      "「とおっしゃると」\n",
      "「小日向《こびなた》に屋敷を持っておられる赤井左門殿、二千八百石を食《は》んで、旗本中でも屈指の家柄だ。知っているであろうな」\n",
      "「殿様は四十がらみの立派な方、なお上様の御覚えが目出たいという評判でございますな――よく存じております」\n",
      "「それなら話しよい。実は――その赤井左門殿のところへ風太郎が入った」\n",
      "「ヘエ――」\n",
      "「盗ったのは物もあろうに、上様お声掛りで勘定奉行から引渡された千両箱が二つ」\n",
      "「エ――ッ」\n",
      "　これには平次も驚きました。千両箱が二つと言うと、金の相場で今日（昭和六年当時）の四万円ぐらい、物価の比例で割り出すと四五十万円にも当る大金です。\n",
      "　それに、この千両箱は並大抵の品ではありません。なお上様家光公が、京都の空与上人《くうよしょうにん》をことの外御信心で、上人のため洛北《らくほく》に一宇の堂を建立するため、二千両の寄進に付きましたが、表沙汰になると、何かと手続きが面倒、そっと勘定奉行に内意を含め、日頃目を掛けている安祥《あんしょう》旗本中でも家柄の赤井左門を使者に立てて、別に家光公直々の祈願文を認《したた》め、二千両の大金と一緒に上方へ送ることになっていたのです。\n",
      "　赤井左門の出発は来月の一日、あと七八日の間、御墨付と二千両の大金を、奥の一と間に飾って、寝ずの番を付けるようにして守護したのですが、どこに隙《すき》があったものか、一と晩の内に、千両箱二つ煙のごとく消えてしまったのです。\n",
      "　御墨付が無事だったのは、不幸中の幸いですが、手元不如意の赤井左門が、八所借りをしたところで、二千両という大金の工面が付きません。出発の日までにこの金の工面が付かなければ、赤井左門腹を切っても申訳しなければならぬ仕儀、工夫に余って、日頃｜昵懇《じっこん》にしている笹野新三郎に相談をしてみました。町方与力は係りが違いますが、若年寄に訴え出たところで、どうにもなるものではなく下手に表沙汰にすると、腹切道具ですから、筋違いながら町方の新三郎に持ち込んできたのです。\n",
      "「こういうわけだ。平次、一と骨折ってみてはくれまいか」\n",
      "　笹野新三郎、改めて若い平次の顔を頼母《たのも》し気に見詰めるのでした。\n",
      "「それはお気の毒なことでございますが、風太郎の仕業と決れば、三日経たないうちに戻って参りましょう」\n",
      "「それがいけない」\n",
      "「とおっしゃいますと？」\n",
      "「盗られてから今日が五日目だ。さすが風太郎も、二千両という大金に眼がくれたと見えるな」\n",
      "「そんな事はございません」\n",
      "「お前はたいそう風太郎の肩を持つが、返って来る見込みでもあると言うのか」\n",
      "「とにかく、赤井様のお屋敷の中を拝見さして頂きたいものですが、お言葉添えを頂けますでございましょうか」\n",
      "「それは何でもない事だ。後刻平次という御用聞を遣わしましょうと、はっきり断ってある」\n",
      "「それでは一と走り」\n",
      "「あ、これこれ平次、赤井殿の出発の日取りはあと三日の後に迫っている。それまでに千両箱が二つ揃って返らないと、お気の毒ながら赤井殿は腹を召さなければならぬ。解ったろうな」\n",
      "「おっしゃるまでもございません。今度は平次も死物狂いで、キット風太郎を引っ捉まえて参りましょう」\n",
      "　銭形の平次は八丁堀から小日向へ、初夏の街を大汗になって駆け付けました。\n",
      "\n",
      "［＃５字下げ］六［＃「六」は中見出し］\n",
      "\n",
      "　旗本赤井左門は、この時四十二の厄年、家柄も人品も不足のない人物ですが、少し疳癖《かんぺき》の強いのが瑕《きず》で、若い時分には、それでいろいろ問題を起しましたが、四十を越すとさすがにそれも納まって、近頃はなお上様家光公の側近くに仕えて重宝がられております。\n",
      "「平次とか言ったな、とんだ手数を掛けるが、なにぶん宜しく頼むぞ」\n",
      "「ヘエ――」\n",
      "　二千八百石の殿様から、泥棒の手口を聴くわけにも行きません。平次は一度左門の前を滑って、用人の足尾喜内《あしおきない》から、何かとその日の様子を聴き取りました。\n",
      "　盗まれたのは小判で二千両、これは型の通り四方金具の厳重な箱に入れられて、御墨付と一緒に奥座敷の床の間に飾り、隣の間には足尾喜内や家中の若侍、若党などが交代で寝ずの番をしておりました。\n",
      "　箱一つの重さは中味の黄金《こがね》だけ四貫目、箱を加えると五貫目にもなりますから、二つ抱えると十貫目、余程の力がないと持ち出せません。\n",
      "　門も木戸も内から鎖《とざ》されたままになっていたといいますから、邸内に手引の者がない限り曲者《くせもの》は塀を越えて逃げたものと思わなければなりませんが、邸内に住んでいるのは、赤井左門の家の子郎党達ばかり、草履取りや仲間《ちゅうげん》まで、千葉の領地から呼んだ正直者ばかりですから、そんな大それた人間は居るはずもありません。\n",
      "　そうすると曲者は、五貫目の千両箱を二つ抱えて、一丈あまりの高塀を越して逃げたことになりますが、これはちょっと人間業では出来そうもない離れ業です。まして、世間の評判通り、風太郎が若くて美しい女だとしたら、一体どんな事になるでしょう。\n",
      "　平次は腕を拱《こまぬ》いて考えました。\n",
      "「ガラッ八、手前《てめえ》その塀へ這《は》い登ってみな」\n",
      "「ヘエ――」\n",
      "「身体も気も軽いのが自慢のお前じゃないか、それくらいの事は出来るだろう」\n",
      "「出来ねえことはありませんが、泥棒の真似は気がさすな」\n",
      "「何をつまらねえ、気取ったって褒《ほ》めちゃやらないよ」\n",
      "　ガラッ八とうとうあきらめて、塀へ飛び付きました。高いといっても板塀ですから、内側からなら這い登れないことはありません。\n",
      "「よしよし、塀の越しっぷりがいいと思って、悪い料簡《りょうけん》を起すな」\n",
      "「親分、冗談を言っちゃいけねえ」\n",
      "「待て待て、今度はこの石を二つ持って越すんだ、抱えても背負っても構わねえ」\n",
      "「こいつア無理だよ、親分」\n",
      "「まア、やってみな、無事に越せたら石は手前にやる。家へ持って帰って、沢庵《たくあん》の重しにでもするがいい」\n",
      "「からかっちゃいけねえ」\n",
      "　平次がこんな冗談を言ってる時は、一番真剣な事を百も承知のガラッ八は、素直に二つの石を背負って塀を越そうとしましたが、十貫目の荷物を背負っては、どう工夫してもこの塀を越せません。ガラッ八が危うくひっくり返りそうになるのを抱き止めて、\n",
      "「よしよしもう沢山だ、とんだ骨を折らせた。サアこっちへ来るがいい」\n",
      "　引揚げると縁側から見ている赤井左門の前へ小腰を屈《かが》めました。\n",
      "「殿様、千両箱はお屋敷から持出されちゃいません」\n",
      "「何？」\n",
      "　左門は今さら眼を見張ります。\n",
      "「三日経って返して来ないのも可怪《おか》しいが、――風太郎だって鬼神ではないでしょうから、あの塀を越すにはどうしても一度千両箱を下へ置くか、塀の上へ載せるか、向う側へ投《ほう》り出すかしなければなりませんが、風太郎が越したろうと思う辺には、そんな跡は一つもありません。下はあの通り土の柔かい畑で、重い箱を置けば形ぐらいはつきます」\n",
      "「フーム」\n",
      "「風太郎は恐ろしい早業ですが、女だろうと言われているくらいで、決して大力ではございません。二つの千両箱はお屋敷の外へ持出されていないと申すのは、こうしたわけでございます」\n",
      "「なるほど、そうもあろうな、餅は餅屋だ――ところでその箱はどこに隠してあるだろう。屋敷の中はたいてい探したつもりだが――」\n",
      "　赤井左門もすっかり乗気になりました。\n",
      "「あの泉水の中を御覧なさいましたか」\n",
      "「ウーム、それは気が付かなかった」\n",
      "　それッと言うと、待て暫《しば》しはありません。仲間《ちゅうげん》若党が水門を引っこ抜いて、水もろくに引かない内から飛込んで掻き廻すと、すっかり泥を冠っておりますが、間違いもなく二つの千両箱は、その中に沈められているのでした。\n",
      "\n",
      "［＃５字下げ］七［＃「七」は中見出し］\n",
      "\n",
      "　この喜びは長くは続きませんでした。千両箱を洗い清めて封印を直して、明日はいよいよ出発という晩、赤井左門の邸はもう一度怪盗に襲われたのです。\n",
      "　今度盗られたのは、空与上人《くうよしょうにん》に与えるはずの、将軍家光公の御墨付、これは千両箱と違って掛け替えがありませんから、赤井左門も全く弱ってしまいました。\n",
      "「二度まで赤井家を襲うというのは容易でない。これは怨《うら》みだな、平次」\n",
      "「私もそう気の付いたところでございました」\n",
      "「何しろ、御墨付は容易でない。御苦労だがもう一度行ってみてくれ」\n",
      "「ヘエ――」\n",
      "　そう言われなくてさえ、張り切った若駒のように飛出そうとしている平次、いよいよ怪盗風太郎と、人交えもせずに最後の腕比べをしてやろうと思うと、思わず武者顫《むしゃぶる》いが全身を走ります。\n",
      "　笹野新三郎に別れて、八丁堀の往来へ出ると、ポンと弾き上げたのは、例の銭占いの青銭、落ちて来るのを平掌《ひらて》に受けて開くと、それが形。\n",
      "「――吉と来やがる、しめ、しめ」\n",
      "　両袖を合せてポンと叩くと、そのまま弥造《やぞう》を拵《こしら》えて、小日向《こびなた》へ早足になります。\n",
      "　赤井の屋敷に着いて、足尾喜内に案内さして、邸内｜隈《くま》なく探しましたが、今度は千両箱と違って、泉水に沈めるはずもなし、全く見当が付きません。\n",
      "　主の左門に逢って、\n",
      "「人に怨みを受ける覚えは――？」\n",
      "　と聴くと、若い時は名代《なだい》の疳癖《かんぺき》で、ずいぶん横車を押し切っているから、どこから怨みを受けているか、見当も付かないという有様、今度は赤井左門も萎《しお》れ返って、口をきくのもおっくう［＃「おっくう」に傍点］そうです。\n",
      "「八、外へ出ろ」\n",
      "「ヘエ、喧嘩《けんか》が始まるんですか」\n",
      "「馬鹿ッ、そんな暢気《のんき》な話じゃねえ。いつぞやお茶の宗匠の饅頭でしくじった事を知ってるだろう。外を見張れ、家の中には用事がねえ」\n",
      "「なアる――親分はやはり親分だけの考えがあるね」\n",
      "「馬鹿にするな」\n",
      "　二人は表と裏に分れて、二つの入口を見張りました。平次は荒物屋の店先を借りて裏門を見張り、ガラッ八は草っ原に寝転んで表門を見張ることにしたのです。\n",
      "　それから何刻かたちました。平次は荒物屋の女房の好意で日蔭にも渋茶にも有り付きましたが、気のきかない野良犬のように、小日向の草原に潜り込んだガラッ八は、真上から初夏の陽《ひ》に照りつけられて、気が遠くなるほど干されてしまいました。\n",
      "　陽が漸《ようや》くかげり始めた頃、近所の悪戯《いたずら》ッ子らしいのがチョコチョコと赤井左門の裏門へかかりました。\n",
      "　ヒョイと見ると、手には何やら紙片《かみきれ》を持っている様子。\n",
      "「あッ」\n",
      "　平次は荒物屋の店を飛出すと、その子供には眼もくれず、街の左右に素早く眼を配りました。\n",
      "　右手、茗荷谷《みょうがだに》へ抜ける方に、一人の女が悪戯ッ子の姿をじっと見送っております。\n",
      "「あれだッ」\n",
      "　と思うと一足飛びに――\n",
      "　それを見た女は、ハッとした様子で曲り角から吸われるように姿を消してしまいました。\n",
      "「おのれ、逃してなるものか」\n",
      "　その間｜僅《わず》かに三十歩、平次が道の角へ飛付いた時は、逃げ行く女の姿はなくて反対に、近所の者らしい娘が一人、向うから来てハッと平次に鉢合せしそうになりました。\n",
      "「あッ」\n",
      "　二人は危うく飛退きました。\n",
      "「ちょいと伺いますが、今こちらから逃げて行った若い女を見ませんか」\n",
      "「いいえ」\n",
      "　女はニッコリしたようでした。狭い道を、平次とすれすれに通って、向うへ行こうとするのを、\n",
      "「待った」\n",
      "　平次は後ろから帯際を取って押えました。\n",
      "「あれッ」\n",
      "「騒ぐな、お前は風太郎と言われる曲者に相違あるまい」\n",
      "「エッ」\n",
      "「逃げる振りをして、逆に取って返した手際は、尋常の者には出来ない事だ、それに、お前の声に覚えがある」\n",
      "　春木町の上総屋の帳場で、平次はこの女の声を一度聞いているのでした。\n",
      "「いいえ違います」\n",
      "「神妙にしろ」\n",
      "　銀磨き朱房《しゅぶさ》の十手は、平次の手にキラリと光りました。\n",
      "「ガラッ八来い、捕ったぞ」\n",
      "「おッ、そいつは有難え。この上夜露に打たれると、人間のカキ［＃「カキ」に傍点］餅が出来そうだ」\n",
      "　ガラッ八は表の草叢《くさむら》の中から飛び出して、忠実な犬っころのように駆けて来ました。\n",
      "「いよう、こいつは大した代物だ、風太郎てえのはこの新造《しんぞ》ですかい」\n",
      "「そうだろうと思う」\n",
      "「泥棒さしておくのは勿体《もったい》ねえ」\n",
      "「馬鹿野郎、何を言う」\n",
      "　しかし、平次もガラッ八の言葉を承認しないわけには行きませんでした。後ろ手に縛られて、夕陽の中に立った娘の美しさは、眼も覚めるばかり。解き下げて無造作に束ねた髪、地模様の綸子《りんず》の帯、町家風の木綿物の小綺麗な袷《あわせ》も身に合って、何とはなしに清らかさと美しさが溢《あふ》れるのでした。\n",
      "\n",
      "［＃５字下げ］八［＃「八」は中見出し］\n",
      "\n",
      "　お墨付は返った――、曲者は捉まった。赤井左門の屋敷は夕陽に咲いた花のように陽気になりました。\n",
      "　しかし、それもほんのしばらく、女が子供に托して返した御墨付を受取った赤井左門、手を清めて改めると、御墨付に似せてはあるが、真っ赤な贋物《にせもの》の紙片だったのです。\n",
      "「おお平次を呼べ」\n",
      "　縄付の娘を仲間部屋に伴《つ》れ込んで、いろいろ責め問うている平次は、即刻《そっこく》赤井左門の前に呼出されました。\n",
      "「平次、御墨付は贋物だぞ」\n",
      "「エッ」\n",
      "「出発は明日に迫っている。この上手間取って、万一表沙汰になっては、過怠の罪は免《まぬか》れ難い。腹を切るのも易い事だが、上様御墨付を汚した上、赤井の家名を断絶さしては、何としても忍び難い。頼むぞ平次」\n",
      "　二千八百石取の殿様が、岡っ引風情に手を合せないばかり。\n",
      "「…………」\n",
      "　平次は黙然として考えました。\n",
      "「明朝までに御墨付が返らなければ、生きてお前に逢うのもこれ限りだ、――その娘とやらを拷問にかけても、御墨付の在処《ありか》を訊《ただ》してくれ」\n",
      "　少し乱暴なようですが、事件を表沙汰にして、町奉行所へ持って行かれないとすると、これも一つの考えようでしょう。\n",
      "「宜しゅうございます殿様、お庭先を拝借して、あの娘を拷問にかけましょう。どうぞお立ち合い下さいまし」\n",
      "　平次は退《さが》って娘を庭先に引出しました。赤井左門から命令があったものか、庭先には高張提灯《たかはりぢょうちん》をかかげ、番手桶《ばんておけ》を積み荒筵《あらむしろ》を敷き、俄《にわ》か事ながらすべてお白洲《しらす》そのままに作って、往来に向いた庭木戸を真一文字に開かせました。\n",
      "　表沙汰になるのを極端に嫌いながら、これはまた何とした事でしょう。もっとも町内へは屋敷へ女賊が入って、大事の品を盗んで隠したので、その在処《ありか》を白状させるためという触れ込み。退屈し切っていた、山の手特有の有閑階級人は、「そいつは面白い」と庭木戸から一パイに雪崩《なだ》れ込みました。二千八百石取の旗本のすることで、その上有名な御用聞の銭形の平次が付いているのですから、こんな不法の折檻《せっかん》をとがめ立てる人もありません。\n",
      "　娘は庭の真ん中に敷いた荒筵の上に引据えられて荒筵を突き破って打ち込んだ青竹に、半身裸のまま荒縄で縛り上げられました。\n",
      "　沓脱《くつぬぎ》には赤井左門、沓脱の下には銭形の平次、ガラッ八と仲間《ちゅうげん》が責手で、この残酷な見物が幕を切って落されたのです。\n",
      "「娘、その方は近頃世上を騒がす風太郎という盗賊に相違あるまい。この屋敷から盗んだ品をどこへ匿《かく》した。いずれは町方与力の手に引渡して、仕置を願うその方だが、その前に、この屋敷から盗み取った品だけは取り上げなければならぬ。サア、真っ直ぐに白状せえ」\n",
      "　用人の足尾喜内、少し屈《まが》った腰を延して、娘を縛った青竹の後ろを、竹刀《しない》で力任せに引っ叩きます。\n",
      "　娘は猿轡《さるぐつわ》をはめられて、悲鳴も絶叫も漏らさせないようにしてあります。が一つ竹刀で打たれる毎に、半裸体の上半身の白い肉がピクピクと顫《ふる》えて、荒縄に食い込まれた肩から胸をねじ曲げます。\n",
      "「手ぬるいぞ喜内、もっと打て」\n",
      "　と赤井左門。\n",
      "「私が代ってやりましょう。さア、娘」\n",
      "　平次は竹刀を取って立ち上がりました。この岡っ引にしては珍しく人間味のある男、「縮尻《しくじり》平次」とまで綽名《あだな》される男が、縛った娘の若々しい肉を、自分から進んで打ち据えようとはなんとした事でしょう。\n",
      "　高張提灯の薄暗い灯《あかり》の下に、五六十人も押し重なった町内の人達も、あまりの苛酷な情景《シーン》に眼を反《そむ》けて、非難の囁《ささや》きを波打たせます。\n",
      "「さア、言え、言う気があったら、首を三つ縦に振れ、そうしたら、猿轡を外してやる、大事の品をどこに隠した」\n",
      "　平次の竹刀は続けざまに娘の背に鳴りましたが、娘は身もだえして苦しみながら、どうしても在処《ありか》を言おうとはしません。\n",
      "「この上は殿様、この娘を五分試し一寸試しに斬ってやって下さい。そうでもしなければ口を開くような女じゃございません」\n",
      "「よし」\n",
      "　赤井左門は庭下駄を突っかけて降り立ちました。右手には新身《あらみ》の一刀、灯を受けて焼き金のごとく凄まじく光ります。\n",
      "\n",
      "［＃５字下げ］九［＃「九」は中見出し］\n",
      "\n",
      "「待った」\n",
      "　見物の中から飛出した男。\n",
      "　ガラッ八と仲間を突き飛ばして、娘の前に大手を拡げて立ちはだかりました。\n",
      "「何者？」\n",
      "　赤井左門の叱咤《しった》をまともに受けて、\n",
      "「世間で言う怪盗風太郎とは俺の事だ」\n",
      "　臆《おく》れた色もなく言ってのけて、赤井左門と銭形の平次を屹《きっ》と見据えました。年の頃四十五六、小作りで少し華奢《きゃしゃ》な身体ですが、妙に抜け目のない身のこなし、商人風とも遊び人風ともつかぬ身装《みなり》のうちにも、何かしら一脈の怪奇さがあります。\n",
      "「曲者ッ、御用ッ」\n",
      "　飛付こうとするガラッ八を尻目に、\n",
      "「騒ぐなガラクタ、名乗って出たくれえだ、逃げも隠れもしねえ」\n",
      "　落着き払って懐へ手を入れます。\n",
      "「風太郎とはお前だったのか、珊五郎《さんごろう》、言い分があるなら聞いてやろう」\n",
      "「お、さすがは平次、よく言った。下手《へた》にあがくと俺の懐の中で御墨付はズタズタになるぞ」\n",
      "　兇賊と御用聞は、ピタリと見合ったまま、お互の呼吸を測っております。赤井左門も足尾喜内も、ガラッ八も、もう二人の眼中にはありません。珊五郎というのは、お蔵前で少しは名を売った遊び人、これが怪盗風太郎の正体とは、さすがに平次も予想外だったのでしょう。\n",
      "「なア平次、お前なら話がわかるだろう、聞いてくれ、こういうわけだ――」\n",
      "「…………」\n",
      "　娘を後ろに庇《かば》いながら、珊五郎の風太郎は声を落しました。\n",
      "「何の因果か、俺には物を盗まずにいられねえ病気があるんだ。身体も軽く、智恵も人並にあるのが身の仇《あだ》で、人間業で盗めそうもないものを見るとどうしても盗まずにいられねえ。これが持って生れた俺の弱気だ。――女房が生きている内はまだよかったが、三年前に女房に死に別れてから、どうしても盗み癖を直されねえ、知っての通り俺は暮しに困るわけじゃなし、金が欲しくて盗みをするわけじゃねえ、――今まで盗んだ金や品を、たった一つも身につけないのはそのためだ。娘は俺のこの癖を心配して、いろいろ意見をしたがどうしても直されねえ、お仕舞にはあきらめて、俺の盗んだものを、自分で元の持主に返して歩いた始末だ。――風太郎というのは女泥棒だなどという噂を聞いて、俺はどんなに気を揉んだことか、平次察してくれ」\n",
      "　あまりの不思議な物語に、平次も左門も口がきけません。珊五郎はそれに構わず、悲痛に顔をふり仰いで続けました。\n",
      "「ところが、たった一つ返されねえ品物があった。それはこの屋敷から盗った千両箱と御墨付だ。わけを話せば長いが、一口に言ってしまえば、ここに居る赤井左門は、若いとき酒の上で、少しばかりの粗相を楯《たて》に、隅田堤の花見の最中、俺を無礼討にしかけた事がある。幸い危ういところで命だけは助かったが、そのとき受けたのがこの疵《きず》だ」\n",
      "　顔をヌッと出すと、横疵《よこきず》の珊五郎と綽名《あだな》にまで言われた刃《やいば》の跡が、四十男の額口から頬へかけて、斜めに赤い線を引いております。\n",
      "「俺が赤井左門に腹を切らせようと目論んだわけが解ったろう。――千両箱は重いから泉水へ沈めたが、それを見付けられたので、御墨付を盗んだまでの事だ。娘がまた後生気《ごしょうぎ》を出して、元の持主に返そうとするのは解り切っているから、わざと偽物の御墨付を拵《こさ》えて娘につかましたのだ。――それが仇になって、娘はお前達にこんな目にあわされる事になったのは珊五郎一生の失策よ、解ったか平次。――それにしても、縮尻《しくじり》平次と言われる人気者のお前が、若い娘をこんなムゴイ［＃「ムゴイ」に傍点］目にあわせるのはどうしたわけだ。今までお前を買いかぶった俺が癪《しゃく》にさわる、この――怨みはきっと返してやるぞ、平次」\n",
      "「珊五郎、よくその娘を見ろ。鵜の毛で突いたほどの傷でもあったら、この平次は大地に手を突いて詫《わび》をする」\n",
      "「何？」\n",
      "「みんなお前をおびき寄せる細工だ。娘が捉まったと聞いたらお前はどうせここへ来ずにはいられまい」\n",
      "「畜生ッ」\n",
      "「さア、それで話は済んだ、御墨付を置いて、娘を伴《つ》れて帰れ。赤井の殿様は、あの通り若い時の過ちを詫びていらっしゃる」\n",
      "　そう言われて振り向くと、なるほど赤井左門は恥じ入る様子で珊五郎の方へ黙礼しておりました。\n",
      "「本当なら縄を打って引立てる所だが、平次の目の届かねえところへ行くなら許してやる。解ったか珊五郎」\n",
      "「ウーム」\n",
      "　珊五郎はしばらく黙り込んで、青竹に縛られた娘の恙無《つつがな》い顔と、左門と平次の敵意のない顔を見比べました。\n",
      "\n",
      "　　　　　＊\n",
      "\n",
      "　銭形平次は、こうしてまた縮尻《しくじり》を一つ重ねました。風太郎と言われた怪盗珊五郎は、その場から行方知れず、赤井左門は翌る日都へ旅路に上りました。\n",
      "「平次、また盗賊を逃したそうだな、お前の道楽にも困ったものだ」\n",
      "　そう言う笹野新三郎の小言は、何という甘いなつかしいものだったでしょう。\n",
      "「ヘエ――」\n",
      "　平次はその前にひれ伏して、一言もありません。\n",
      "\n",
      "\n",
      "\n",
      "\n"
     ]
    }
   ],
   "source": [
    "path = '56314.txt'\n",
    "path_test = '../data/aozora_datasets_min/test_datasets/{}'.format(path)\n",
    "with open(path_test) as f:\n",
    "    print(f.read())"
   ]
  },
  {
   "cell_type": "code",
   "execution_count": 121,
   "metadata": {},
   "outputs": [
    {
     "name": "stdout",
     "output_type": "stream",
     "text": [
      "\n",
      "［＃５字下げ］一［＃「一」は中見出し］\n",
      "\n",
      "「八、たいそう手前《てめえ》は粋になったな」\n",
      "「からかっちゃいけません、親分」\n",
      "　八五郎のガラッ八は、あわてて、膝《ひざ》っ小僧を隠しました。柄にない狭い単衣《ひとえ》、尻をまくるには便利ですが、真面目に坐り直すと、帆立《ほった》て尻《じり》にならなければ、どう工面をしても膝っ小僧がハミ出します。\n",
      "「隠すな、八、ネタはちゃんと挙がってるぜ」\n",
      "　銭形平次は構わずに続けました。\n",
      "「へッ、へッ、どの口のネタで？」\n",
      "「いやな野郎だな、顎《あご》なんか撫《な》でて、――近頃手前、遠吠えの稽古《けいこ》をするってえ話じゃないか」\n",
      "「遠吠えは情けねえ。誰がそんな事を親分に言い付けたんで」\n",
      "　ガラッ八は少しばかり意気込みました。\n",
      "「手前の伯母さんだよ。――今朝お勝手口へ顔を出して、お静に愚痴を聞かせていたぜ――酒や女の道楽と違って、若い者の稽古所入りが悪いではありませんが、家へ帰って来て唸《うな》られると気が滅入ります。糠味噌《ぬかみそ》は蓋《ふた》に仔細《しさい》はございませんが、あんな調子っ外れの遠吠えを聞かされたら、どんな気の強い娘も寄り付かないだろうと思うと、可哀想でなりません。御存じの通り、あれはまだ独り者ですから――だとさ。どうだい八、伯母さんは苦労人だろう。あんまり心配さしちゃならねえよ」\n",
      "「チェッ、憚《はばか》りながら娘っ子｜除《よ》けの禁呪《まじない》に小唄をやっているんだ。心配して貰いたくねえ」\n",
      "　ガラッ八はそう言いながらも、耳の後ろをポリポリ掻いております。\n",
      "「そうだろうとも、だから俺は言ってやってよ。――伯母さんの若い時と違って、この節はあんなのが流行《はや》るんだ――てね、小唄一つ歌うんだって、鼻っ先や喉《のど》で転がすんじゃねえ。八の野郎は胆っ玉で歌うに違《ちげ》えねえ。――」\n",
      "　銭形平次に悪気があるわけでなかったのですが、伯母の口吻《こうふん》から察して、ガラッ八の八五郎が小唄の師匠に気がありそうにも取れたので、それとはなしに脈を引いて、意見をするものなら、今のうちに意見をしようと思ったのです。\n",
      "「親分、本当のことを言うと、こいつにはワケがありますよ」\n",
      "「そうだろうとも。二日も行かなきゃ、師匠の小唄お政《まさ》が、迎えをよこすほどだって言うから、ワケだって大ありだろうよ」\n",
      "「嫌だね。伯母さんが、そんな事までブチまけたんですかい」\n",
      "「人に意見などをする歳じゃねえが、小唄お政じゃお職《しょく》すぎる。止《よ》す方が無事だぜ、八」\n",
      "　銭形平次は漸《ようや》く真顔を取戻しました。からかったり、ふざけたり、叱ったりするうちにも、子分の八五郎を思う真情が、行き渡らぬ隈《くま》なき心持だったのです。もっとも、親分子分といっても、歳からいえば、幾つも違わない二人です。時々真剣さが顔を出してくれなければ、際限もなく洒落《しゃれ》のめして、隔ても見境もなくなりそうな仲でもあったのでした。\n",
      "「それは心得ていますよ、親分。芝居小唄の千之介《せんのすけ》、六郎兵衛《ろくろうべえ》はともかく、江戸じゃ、お寿《ひさ》とお政は女師匠の両大関だ。吉原から浅草一円、柳橋へかけての弟子だけでも、千人ずつはあると言われるお政が、下っ引のあっし［＃「あっし」に傍点］なんかには、洟《はな》も引っかける道理はありませんがね」\n",
      "　八五郎の話は妙に筋が通ります。\n",
      "「…………」\n",
      "　平次はうさんな顔を挙げました。伯母から聞くと、馬道《うまみち》のお政の稽古所へ、日参しているほど取上気《とりのぼ》せた八五郎に、こんな分別があろうとは思われなかったのです。\n",
      "「仔細あって命が危ない、――お願いだから、毎日来てみてくれ――って言うんで、まさか十手を懐中《ふところ》に突っ張らかして稽古所を見張ってるわけにはいかねえ。親分の前だが、この八五郎も馬鹿になったつもりで、毎日馬道に通っちゃ、精一杯のドラ声を張り上げているんですぜ、へッ」\n",
      "　八五郎はこう言って変なところに苦笑を漏らしました。こうは言い切ったものの、少しは後ろめたさもあったのでしょう。\n",
      "「そうかい、そいつは知らなかった。お政の顔を見ながら間の抜けた小唄なんか唸《うな》って、実は大望《たいもう》があったわけだね。いや、恐れ入ったよ、八」\n",
      "「親分、まだ、そんな事を」\n",
      "「だから、その大望を聞こうじゃないか。江戸二人師匠と言われた小唄お政が、命にかかわるほど思い詰めたなら、さぞ口舌《くぜつ》にも節が付くだろう」\n",
      "　平次はまだ本気にはなり切っていない様子です。\n",
      "「だがね親分、お政が二度も殺されかけているんですぜ」\n",
      "「何だと？」\n",
      "　話はそれでも、次第に軌道に乗って行きます。\n",
      "\n",
      "［＃５字下げ］二［＃「二」は中見出し］\n",
      "\n",
      "　その頃は隆達《りゅうたつ》小唄や、平九節《ひらくぶし》小唄の勃興期で、江戸にも漸《ようや》く名人と言われた、女師匠が現われるようになっていました。\n",
      "　山谷《さんや》のお寿と、馬道のお政は、その中でも有名で、どららも若く、どちらも美しく、芸妓《げいしゃ》、素人《しろうと》の隔てなく、男弟子も、女弟子も取って、多勢の狼連《おおかみれん》と、少数の有力な旦那衆《パトロン》に取巻かれ、少なくとも表面だけは、派手で陽気で、この上もなく結構な暮しをしているのでした。\n",
      "　二人の間には、自然に競争が起りました。同じ芸道にいそしむ仲で、他所眼《よそめ》には、至極打ち解けて見えましたが、腹の中では鎬《しのぎ》を削り合って、一人でも弟子を多くし、少しでも評判をよくしようといった、両雄並び立たぬ心持でいたに相違ありません。\n",
      "　その間の消息を八五郎はこう説明するのです。\n",
      "「お政は打ち明けてお寿のせいとは言やしませんが、去年の暮には、大さらい［＃「さらい」に傍点］の晩、危うく水銀《みずかね》を呑まされるところを、弟子の浜名屋又次郎《はまなやまたじろう》さんに助けられ、今年の夏は涼み船から突き落されたのを、船頭に引上げられたと言いますぜ」\n",
      "「なるほど、そいつは物騒だ。――それで、用心棒の代りに手前《てめえ》を呼んで、伯母さん困らせな小唄を仕込んでいると言ったわけか」\n",
      "「早く言えばそうなんで」\n",
      "「気取って遅くなんか言うから解らなくなるじゃないか」\n",
      "　平次もここまで聞かされると、江戸名物の小唄お政の命が心配になります。\n",
      "「親分、お政は可哀想じゃありませんか。こうしているうちにも、どこから、どんな術《て》で相手が来るか毎日ビクビクもので暮していますよ」\n",
      "「お政の命を狙うのは――まさか、お寿じゃあるまい」\n",
      "　平次はまだこんな事を言うのでした。\n",
      "　若くて美しくて、ともすれば、先輩のお政の人気を奪いそうにするお寿は当面の仮想敵には相違ありませんが、この市井《しせい》の芸術家お寿の、なよなよとした夕顔のような淋しい美しさと気品のある芸を知っているだけに、平次も急には疑う気にならなかったのです。\n",
      "「大さらい［＃「さらい」に傍点］の時は、お政とお寿が一緒でしたよ。お政が一とくさり歌って、薄暗い楽屋へ帰って、湯呑の湯を呑もうとすると、そこに居た浜名屋の次男坊の又次郎が、師匠の手を押えて止めたそうです。――その湯は変だから、止《よ》す方がいいって――」\n",
      "「…………」\n",
      "「縁側へ持って行って見ると、中にはギラギラと水銀が沈んでいるんだそうじゃありませんか。懐中鏡の裏の紙を剥《は》がして、その水銀を湯呑へ入れたに違いありません。ところでギヤマンの和蘭鏡《オランダかがみ》を持っている者は、そこにはたった二人しか居なかったと言います。一人はお政で、一人はお寿――お政は自分の湯呑へ自分の鏡の水銀を入れるはずはありません」\n",
      "「…………」\n",
      "　平次は大きくうなずき［＃「うなずき」に傍点］ました。\n",
      "　硝子《ガラス》製の鏡は非常に珍しい時代ですから、水銀の貼り方も至って粗末で今日のようにエナメルで固めたものでなく、鏡の裏へ紙に延して当て、わずかに枠で押えたものだったのです。水銀を呑めば、声が潰《つぶ》れると一般に信じた時代、小唄の師匠に致命的な打撃を与えるためには、そんな事をする者もあったのでしょう。\n",
      "「大さらい［＃「さらい」に傍点］の場所は？」\n",
      "「山谷の清松《きよまつ》の二階を打《ぶ》っこ抜いたそうですよ」\n",
      "「それから、涼み船の一件は？」\n",
      "　平次の探求慾は活溌に働き始めました。\n",
      "「この時もお寿と一緒で、――お蔵前の山口屋が、二人を伴《つ》れて柳橋から船を出しました。両国の下へ舫《もや》って、歌う、飲む、踊るの大騒ぎです」\n",
      "「手前も一緒かい」\n",
      "「とんでもない。岡っ引きが一緒だった日にゃ灘《なだ》の生一本《きいっぽん》が、大川の水みたいになる」\n",
      "「たいそう物事に遠慮するんだね」\n",
      "「とにかく、さんざん騒いだ揚句無理強いの酒が廻って苦しくてたまらないから、お寿を誘って、お政は舳《みよし》へ出たそうです」\n",
      "「お政の方が誘ったんだね」\n",
      "「おかしいのはそこだけですが、誘われたお寿がはっきり言うんだから嘘じゃないでしょう。お政は何とも言いません、が、舳で風に吹かれているうちに、川へ落っこった事だけは確かで」\n",
      "「落っこったのか、お政が？」\n",
      "「それもお寿の言い草で、――たぶん酔った顔を風に吹かれて目が廻ったんだろう。お政さんはフラフラッとすると、真っ黒な水の中へ落ちた――とこうなんだそうですよ。もっとも、お政に言わせると、呑んだと言っても、川へ落ちるほど酔ってはいなかった。好《い》い心持で夜風に吹かれていると、いきなり後ろからドンと突かれたような気がする――とこうです」\n",
      "「そこにはお寿とお政の外には誰も居なかったのかい」\n",
      "「山口屋と取巻きの連中は屋根の中で、お燗番《かんばん》と船頭は艫《とも》でさ」\n",
      "「なるほどな」\n",
      "「お寿はあんまりびっくり［＃「びっくり」に傍点］して声も出なかった。ア、ア、と言ううちに、五六間流されたお政が、幸い通り掛った他の涼み船の船頭に引上げられて、さんざん水は呑んだが、命だけは助かったそうですよ」\n",
      "「それは危ないな、お政は水心がなかったのか」\n",
      "「小唄の師匠が泳ぎを知っているわけはありません。もっとも、突き落されると、前｜以《もっ》て解っていれば、泳ぎの稽古ぐらいはしたかも知れませんが――」\n",
      "「皮肉を言うな、八」\n",
      "「ところで親分、これがあべこべだと話になりませんよ。お寿は佃《つくだ》で育って、あんな華奢《きゃしゃ》に見えるくせに、泳ぎは河童《かっぱ》の雌ほどうまいそうですよ」\n",
      "「河童に雌があるのかい」\n",
      "「雄がありゃ雌だってありますよ」\n",
      "　無駄は入りますが、ガラッ八の話は次第に面白くなります。\n",
      "「それから、八五郎さんの弟子入りとなって、一日顔を見せなきゃア、呼出しが来るというわけか」\n",
      "「へッ」\n",
      "「満更《まんざら》じゃねえな、八。小唄お政に呼出しをかけられるのは、一千人という弟子の中でも、手前一人だろう」\n",
      "「まだありますよ」\n",
      "「誰だ」\n",
      "「浜名屋の冷飯食いで――」\n",
      "「又次郎か」\n",
      "「それから山口屋の旦那」\n",
      "「たいそう気が多いんだな、それがお政の情夫《いろ》と旦那《だんな》か」\n",
      "「だからあっし［＃「あっし」に傍点］なんか、本当の用心棒で」\n",
      "「気が弱いじゃないか、――今日もこれから行くんだろう」\n",
      "「へッ、行かなきゃア、また呼出しだ」\n",
      "　八五郎は少しばかり脂下《やにさ》がりました。\n",
      "「厭《いや》な野郎だな――まアいい、お政に逢ったら、そう言ってくれ。平次も弟子入りをしたいが、どうだろう、今日明日はいけないが、明後日《あさって》あたり行ってみるから――って」\n",
      "「本当ですかい、親分、それは」\n",
      "　ガラッ八の鼻の下は長くなりました。\n",
      "「誰が嘘を言うものか、放っておくと、大変な事が起りそうだ。用事が一応片付いたら、きっと行って、この平次が見張ってやる。口幅ったい言い草だが、大船に乗ったつもりで待っているように――って言うんだよ」\n",
      "「驚いたな」\n",
      "　ガラッ八は呆気《あっけ》に取られました。大きな口を利くのを、馬鹿みたいに思っている平次が、こんな自惚《うぬぼ》れ切った事を言う真意が呑込み兼ねたのです。\n",
      "\n",
      "［＃５字下げ］三［＃「三」は中見出し］\n",
      "\n",
      "「大変ッ、親分」\n",
      "　ガラッ八は、翌《あく》る日の晩、鉄砲玉のように飛込んで来ました。\n",
      "「何が始まったんだ。相変らず騒々しい」\n",
      "　平次はそう言いながらも、充分期待していたらしい顔を挙げたのです。\n",
      "「お政がやられましたよ、親分」\n",
      "「引っ掻かれるか、髪でも毟《むし》られたんだろう」\n",
      "「それどころじゃねえ、親分――あ苦しい、浅草からここまで駆けて来たら、物が言えねえ」\n",
      "「馬鹿、それだけ口が立ちゃ沢山だ。早く言ってしまいな――まさかお政が殺されたんじゃあるまいな」\n",
      "「殺されましたよ」\n",
      "「何だと」\n",
      "「この眼で見て来たんだ。間違いっこはねえ、もう三輪《みのわ》の万七親分がやって来て、お寿を調べていますぜ――あんなにお政に頼まれたのに、少しの油断でやられましたよ。三輪の親分に下手人を挙げられちゃ、この八五郎の男が立たねえ、親分、お願いだから行ってみて下さい」\n",
      "　八五郎はもう、銭形の袖を引いて、力ずくでも引張り出そうとしているのです。\n",
      "「三輪の兄哥《あにき》の縄張だ。そいつは御免蒙ろうよ、八」\n",
      "「親分、それじゃお政が可哀想だ。いえ、この八五郎が可哀想じゃありませんか。あんなに頼まれたくせに、指をくわえて引っ込んじゃ」\n",
      "「よしよしお前には敵《かな》わねえ。――とにかくちょいとだけでも覗いておこう。この殺しは一風変っていそうだ」\n",
      "　何を考えたか平次は、思いの外気軽に支度をすると、八五郎と一緒に、浅草へ急ぎました。\n",
      "「お政の家なら馬道じゃないか」\n",
      "　馬道を横に見て新鳥越《しんとりごえ》の方へ行こうとするガラッ八を呼止めました。\n",
      "「それが不思議なんで、――お政は昼過ぎから山谷のお寿のところへ行って、珍しく油を売り、薄暗くなってから、お寿に送られて新鳥越まで来て、正法寺《しょうほうじ》の前で別れたんだそうですが、――これはお寿の言い分ですよ、親分」\n",
      "「…………」\n",
      "「その正法寺前の路地で、血だらけになって死んでいたんです」\n",
      "「誰が見付けたんだ」\n",
      "「提灯《ちょうちん》を持って迎えに行った権助《ごんすけ》が、新鳥越の路地に人立ちがあるんで、何の気もなしに覗いてみると、師匠のお政が殺されているんだそうじゃありませんか。町役人に届けて、あわてて帰ったので、馬道に居た弟子が二三人、宙を飛んで行ってみました」\n",
      "「誰と誰だ」\n",
      "「あっし［＃「あっし」に傍点］と浜名屋の又次郎と、権助と、染物屋の勘次《かんじ》と、――そんなものでしたよ」\n",
      "　そんな話をしながら、平次とガラッ八が現場へ駆け付けた時はいい塩梅《あんばい》に検屍《けんし》が済まないので、路地の死体もそのまま、番太の老爺《おやじ》が立番をして、町内の野次馬が、怖い物見たさの遠巻きに、月の光にすかしております。\n",
      "「筵《むしろ》を取ってみな、八」\n",
      "「へエ――」\n",
      "　死体に掛けた筵を取ると、番太は心得て提灯《ちょうちん》を差出しました。\n",
      "「あッ、これはひどい、――何という虐《むご》たらしい事をしたんだ」\n",
      "　平次が言ったのも無理はありません。\n",
      "　月の光に蒼《あお》ずんだお政の死に顔は、全く思ってもみない痛々しいものだったのです。\n",
      "　なにぶんにも凄《すさ》まじい血です。\n",
      "　晴着らしい単衣《ひとえ》の胸から腰まで蘇芳《すおう》を浴びたようになって、左顎の下へ、斜めに開いた瘡口《きずぐち》は、それほど大きいものではありませんが、漸《ようや》く脂の乗って来た豊満な大年増の顔は、蝋《ろう》のように蒼ざめて、月の光と、提灯のあかりの中に、言いようもない不思議なニュアンスを醸《かも》し出しております。\n",
      "　美女の死体の凄まじさに、平次もさすがに躊躇《ためら》いましたが、しばらくすると、番太の提灯をガラッ八に差出させ、馴れた順序で、髪形から、着物の崩れ、手足の投げ出された方向から、血の流れよう、傷口の模様まで、恐ろしく念入りに調べ始めました。\n",
      "「八、何か掴《つか》んでいるようだ。左の手を開けてみな」\n",
      "「へエ――」\n",
      "　八五郎はお政の死体の冷たい掌《て》を開けました。\n",
      "「ありましたよ、親分」\n",
      "「何だ」\n",
      "「毛」\n",
      "「どれどれ」\n",
      "　ガラッ八のつまみ上げたのを見ると、紛れもなくそれは、女の髪の毛です。懐紙を出して、その上へ置くと、長短不揃いなのが三本、いずれも少し赤くて、縮れているのがはっきり判ります。\n",
      "「お寿の毛ですよ、親分」\n",
      "「判っているよ」\n",
      "　美女お寿は、類稀《たぐいまれ》な姿と顔形に恵まれながら、何の因果か赤くて縮れた毛を持っているので有名だったのです。\n",
      "\n",
      "［＃５字下げ］四［＃「四」は中見出し］\n",
      "\n",
      "「刃物は？」\n",
      "　平次は四方《あたり》を見廻しました。こんな場合、よっぽど落着いた悪党でないと、たいがい血だらけな刃物は捨てて行くものです。\n",
      "「三輪の親分も捜しましたが、見当りませんよ」\n",
      "　番太の老爺《おやじ》はそう言います。\n",
      "「八、念入りに捜してみてくれ。下水の中でなきゃ、塀の中だ」\n",
      "「よし来た」\n",
      "　八五郎は番太の提灯を借りると、いきなり下水の中へ首を突っ込みました。\n",
      "「かき廻しちゃ何にもならない。下水を念入りに捜すのは明朝《あした》の事にして、塀の中を見るんだ」\n",
      "「へエ――」\n",
      "　がしかし、それも無駄でした。\n",
      "「八、あれは何だ」\n",
      "　しばらくすると、平次は月の光に白々と見える、右手の長屋の板庇《いたびさし》の上を指しました。\n",
      "「光るようですね、親分」\n",
      "「梯子《はしご》を借りて見てくれ、雨が降ったはずはないし、――庇の上の光るのは変だ」\n",
      "　平次に言われるまでもありません。八五郎は気軽に梯子を借り出して、庇へ掛けると、筒抜けに驚きの声をあげます。\n",
      "「親分、見付かりましたよ――血だらけの剃刀《かみそり》」\n",
      "「有難い、それで何もかも揃った」\n",
      "　柄《え》に籐《とう》を巻いた、使い古しの剃刀を受取ると、平次は雀躍《こおど》りしたい心持になるのでした。\n",
      "「親分、番所へ行ってみましょうか」\n",
      "「待ってくれ、ここに居るなら、お政の弟子達に一と通り会って行きたい」\n",
      "「駆け付けた顔はたいがい揃っていますよ。権助どん」\n",
      "「へエ――」\n",
      "　ガラッ八の声に応じてノソリと出たのは、お政の使っている飯炊《めした》き、庭も掃けば使い走りもするといった、調法至極な男です。\n",
      "　見たところ五十幾つ、形振《なりふり》構わず小金を溜めるより外に望みのない人間で、信州の土の匂いのするといった風格には、お政を殺す動機などを持っていそうもありません。\n",
      "「それから、又次郎さん」\n",
      "「へエ――」\n",
      "　浜名屋の冷飯《ひやめし》食い、飛抜けた道楽者で、親兄弟も構い付けない代り、女の子の達引《たてひき》には不自由をしない男、二十七八の若い燕型《つばめがた》、これは一番疑われそうな人間です。\n",
      "「師匠が殺された時分、どこに居なすった」\n",
      "　と平次。\n",
      "「馬道に申刻《ななつ》（午後四時）時分から先刻《さっき》まで、師匠の帰りを待っていましたよ。八五郎さんもよく御存じで――」\n",
      "　又次郎は少しおどおどしておりますが、大して悪びれた色もありません。\n",
      "「又次郎さんの言うのは違いありませんよ、親分、笊碁《ざるご》を打っていたんで」\n",
      "「中座しなかったかい」\n",
      "「ちょいと、煙草《たばこ》を買いに行きましたが――」\n",
      "　言いかけて又次郎は口を緘《つぐ》みました。馬道からここまでは一と走りです。煙草を買うことにして、人一人殺しに来られないはずはありません。\n",
      "「煙草入は？」\n",
      "「…………」\n",
      "　黙って平次に渡した煙草入を開けると印伝《いんでん》の叺《かます》には一パイ新しい刻みが詰ってあります。\n",
      "　平次はそれを又次郎に返すと、もう一人染物屋の勘次というのに会いました。これは又次郎よりは少し若く、夕方からガラッ八の相手をして、馬道から一歩も出なかったことが判りました。\n",
      "「さア行こうか、八」\n",
      "　平次はそこを切り上げて、山谷《さんや》の方へ向いました。\n",
      "「又次郎が怪しくはありませんか、親分」\n",
      "　それを追っかけて囁《ささや》く八五郎。\n",
      "「何とも言えない。が、万事はお寿に逢ってからの事だ。――それとも、又次郎はお政を怨んででもいたのか」\n",
      "「そんな事はありませんが、お政が近頃旦那の山口屋の機嫌を取りすぎるんで、又次郎も面白くない様子でしたよ。もっとも、山口屋も浮気で、お政に飽きて、山谷のお寿のところへ繁々《しげしげ》行くようになったそうですから、お政にしてみれば、冷飯食いの又次郎の機嫌などを取っちゃいられなかったでしょう」\n",
      "　ガラッ八の話を聞きながら、平次は何やら深々と考えております。\n",
      "\n",
      "［＃５字下げ］五［＃「五」は中見出し］\n",
      "\n",
      "　番所へ行ってみると、三輪の万七とお神楽《かぐら》の清吉《せいきち》が、お寿の責めに大童《おおわらわ》でした。\n",
      "「おや、銭形の、たいそう耳が早いんだね」\n",
      "　万七は顔を上げて、皮肉と敵意とをこね混ぜたような、薄笑いを浮べました。\n",
      "「お政は八五郎の師匠だそうでね、放ってもおけないから覗いただけさ。ところで下手人の当りは？」\n",
      "　平次は穏やかにこう言うのです。\n",
      "「この女さ、間違いっこはねえ、が――旦那方が見えるまでに、口を開けさせなきゃ後が面倒だ」\n",
      "　万七はそう言いながら、板敷の上に崩折《くずお》れた、小唄お寿の痛々しい姿を指さしました。\n",
      "　まだ二十五六、お政よりは六つ七つ若いでしょう。一寸見《ちょっとみ》は二十二三がせいぜい、色白で、華奢《きゃしゃ》で、なよなよとした陰影の多い美しさは、豊満で肉感的で、少し媚態《びたい》をさえ持ったお政とは、およそ正反対な感じのする女でした。\n",
      "　羅物《うすもの》を涼しく着て、板敷に双手《もろて》を突いた姿、縮れた赤い毛をたった一つ難にして、このまま、中条姫《ちゅうじょうひめ》や、照手姫《てるてひめ》の絵巻物の中に納められそうな姿です。\n",
      "「お寿が下手人？　一応俺もそう思ったが、腑《ふ》に落ちないこともあるよ、三輪の」\n",
      "　平次は下手に出ました。\n",
      "「お政の死骸の手に、縮れっ毛が握ってあったはずだ。五六本のうち、三本だけは検屍の御役人にお目にかけるつもりで残しておいたが、銭形の兄哥《あにい》があれを見落すはずはあるめえ」\n",
      "　万七は顧みてお神楽の清吉とうなずき［＃「うなずき」に傍点］合います。\n",
      "「これかい、三輪の」\n",
      "　平次は素直に懐紙に包んだ毛を出しました。\n",
      "「その毛に気が付きゃ文句はあるめえ。それにお政は、清松の大さらい［＃「さらい」に傍点］で水銀《みずかね》を呑まされ損なったことも、涼み船から突き落されたことも、銭形の兄哥は聞いているはずだ」\n",
      "「…………」\n",
      "「お政の喉《のど》の傷は薄刃の刃物で斬られたに違《ちげ》えねえ。たぶん剃刀だろう。剃刀なら女でもあれくらいのことが出来るぜ。――清吉をやって、お寿の家中を捜させたが、今朝妹のお文《ふみ》が使ったという、一番よく切れる剃刀がなくなっているぜ、――たぶんお寿がお政を送って行く時持出し、新鳥越の路地で使って、血だらけになったのをどこかへ捨てたんだろう――その剃刀さえ見付かれば、口書《くちが》き拇印《ぼいん》がなくたって、処刑台《おしおきだい》に上げられる女だ」\n",
      "　万七の言うのは、常識的で無理のない推理でした。\n",
      "「その剃刀は多分これだろう」\n",
      "　平次は何の蟠《わだかま》りもなく、血染の剃刀を出しました。\n",
      "「あッ、どこで、それを」\n",
      "「現場近くの庇《ひさし》の上に投《ほう》り上げてあったよ」\n",
      "「そうか、下ばかり捜していたが――」\n",
      "　万七は忌々《いまいま》しそうに舌打ちをします。\n",
      "「お寿、――この剃刀に見覚えがあるだろう。正直に言ってくれ」\n",
      "　と平次。\n",
      "「…………」\n",
      "　一と目、お寿はサッと顔色を変えました。血に染んで斑々《はんはん》としてはおりますが、柄に巻いた籐《とう》や、使い込んだ刃の減りに、見違えようはなかったのです。\n",
      "「どうだ」\n",
      "「ハ、ハイ、――どうしてそんな所へ行ったんでしょう」\n",
      "「お寿の品に相違あるまいな」\n",
      "「ハイ」\n",
      "　これはお寿にとっては罪の白状も同じことでした。それを聞く万七はもう袖の中の捕縄を爪捜《まさぐ》っております。\n",
      "「銭形の、お蔭でこの女の口を開けさせたよ。剃刀が出さえすれば、こっちのものだ」\n",
      "「待ってくれ、三輪の兄哥、――お寿の家から剃刀を盗み出せる曲者《くせもの》なら、鏡台の抽斗《ひきだし》か屑籠《くずかご》から抜け毛を持出すのは何でもないぜ」\n",
      "「何だと、銭形の」\n",
      "　万七は仰天しました。平次の言葉があまりにも変っていたのです。\n",
      "「三輪の兄哥、――気が付かないはずはないが、この毛はみんな古い抜け毛だと思うが――」\n",
      "「えッ」\n",
      "「根のある毛が一本もないし、両端が細くなって枯れているところを見ると、切れた毛や毟《むし》り取った毛でもない」\n",
      "「下手人はお寿の家から抜け毛と剃刀を盗み出し、お政を殺してからわざと掴《つか》ませたというのかい」\n",
      "　と万七。\n",
      "「そうでも考えなければなるまいよ」\n",
      "「ところが、今日は稽古が休みだ。お寿の家へ行った者は一人もありませんぜ」\n",
      "　お神楽の清吉は口を出しました。\n",
      "「本当か、お寿」\n",
      "　と平次。\n",
      "「…………」\n",
      "　お寿は悲しくもうなずき［＃「うなずき」に傍点］ます。\n",
      "「朝まで確かにあった剃刀が、誰も怪しい者の行かないお寿の家から飛出して、血染になって、新鳥越の路地の庇《ひさし》の上に――梯子《はしご》を掛けなきゃ届かないところに投《ほう》り上げてあったのはどういうわけでしょう、銭形の親分」\n",
      "　清吉の調子は存分に皮肉です。\n",
      "「だが清吉兄哥、お政の傷は前から斬ったものじゃねえ。お寿のような華奢な女に剃刀で前から切られるのを待っているお政でもなかろうし、第一あんなに前から切っちゃ、返り血を浴びて大変だ」\n",
      "「…………」\n",
      "　平次は板敷に崩折れたままのお寿の清らかにさえ見える姿を見やりました。どこを捜しても、血の痕《あと》などはありません。\n",
      "「後ろへ廻って、右｜逆手《さかて》で切ると、あんな具合になるが、後ろから斬られながら、お政の手はどう伸びて下手人の髪を掴むんだ」\n",
      "　平次は仕方噺《しかたばなし》になりました。なるほど、後ろから逆手に持った剃刀で喉を切られながら、相手の髪を掴めようはありません。\n",
      "「なるほど、こいつはむつかしい」\n",
      "　ガラッ八もやってみましたが、どうもうまくは行きそうもないのです。\n",
      "「だいぶ面白そうだな」\n",
      "　そこへ顔を出したのは、見廻り同心の南沢鉄之進《みなみさわてつのしん》でした。\n",
      "「旦那、ちょうどいいところへ」\n",
      "　平次と万七は迎え入れて、今までの経過を細々《こまごま》と説明します。\n",
      "「なるほど、どっちにも理窟はある。が、こう証拠が揃っちゃ、お寿を許すわけにも行くまい。ともかく、南の御役所へ伴《つ》れて行って、平次にはもう一と働きして貰うことだ」\n",
      "　南沢鉄之進はそう言いながら清吉を顧みました。お寿に縄を打てというのでしょう。\n",
      "\n",
      "［＃５字下げ］六［＃「六」は中見出し］\n",
      "\n",
      "　平次はその足ですぐお寿の家へ行きました。妹のお文《ふみ》と内弟子が三人、下女が一人、更《ふ》ける夜を寝もやらず、不安と疑懼《ぎく》とに顫《ふる》えていたのです。\n",
      "「銭形の親分さん、どうぞ、お願い、――姉を助けて下さい、人なんか殺せるような姉じゃございません」\n",
      "　飛んで出たのは、妹のお文でしょう。丸々と肥《ふと》った十八九の娘、姉のお寿とは違って、激情的で一本調子で、その代り少しお転婆です。\n",
      "「それはよく解っているよ。助けようと思えばこそやって来たんだ、――隠さずに教えてくれ。第一番に訊きたいのは、今日は本当に誰も来なかったのか」\n",
      "　と平次。\n",
      "「お稽古の休みは、なるべく人に来て貰わないようにしています。姉はあの通り、身体も心持も弱い人で、時々は一日のんびりと休まなきゃなりません」\n",
      "　とお文。\n",
      "「お政が来たはずじゃないか」\n",
      "「でも、それは勘定に入らないでしょう。殺された人ですもの」\n",
      "「なるほど、そう言えばその通りだ」\n",
      "　平次は苦笑しました。その謎めいた言葉の真意は誰にも解りません。\n",
      "「剃刀《かみそり》が今朝まで鏡台にあった――とお神楽の親分に申上げたのは、ありゃ間違いですよ。この二三日、誰も使った者がありません。今朝私が使ったのは、無くなった方のだと思ったのは間違いで、新しい籐《とう》も何にも巻かない剃刀の方でしたよ、親分さん」\n",
      "　お文は一生懸命でした。姉思いらしい一途《いちず》さは、涙ぐんだ眼、わななく唇にも溢れます。\n",
      "「それがいけないよ、――そんな拵《こしら》え事を言うから、お寿が疑われるんだ。物事はありのままに言うに限る。無くなった剃刀が今朝まで使っていた品なら、それでいいじゃないか。下手人はどうせ巧みに巧んだ仕事だ。皆んなの思いも寄らない事をしているに違いない」\n",
      "「…………」\n",
      "　噛んで含めるような平次の言葉に、かりそめの拵え事を言ったのを愧《は》じて、お文は丸い顎《あご》を襟《えり》に埋めました。\n",
      "「ところで、お政は帰る時、髪乱れか、化粧崩れを直したはずだが――」\n",
      "「え、そこの鏡台でしばらく顔を直していました」\n",
      "「ギヤマンの懐中鏡《ふところかがみ》があったはずだが、見せてくれないか」\n",
      "「鏡台の抽斗《ひきだし》にありますよ」\n",
      "「…………」\n",
      "　平次は桐の枠に入れた小さいギヤマンの懐中鏡を取上げました。枠にも鏡にも何の変りもなく、裏を開けて見ると、水銀は少しこぼれておりますが、わざと取ったというほどではありません。いや掻き取ったにしてもほんの少しばかりだったのでしょう。\n",
      "「近頃山口屋の主人が来るそうだが、お寿の世話でもするつもりだったのかい」\n",
      "「さア――」\n",
      "　お文はさすがに言い渋りました。蔵前《くらまえ》の大通《だいつう》と姉の情事を岡っ引の耳へなど入れたくなかったのでしょう。\n",
      "「正直に言う約束じゃないか」\n",
      "「それは、いろいろおっしゃって下さるそうです」\n",
      "「泊って行くような事は？」\n",
      "「そんな事はございません。お酒を召上がると、いい御機嫌でお帰りになります」\n",
      "「それからもう一つ訊くが、今日お政がやって来たのは、何か差迫っての事であったのか」\n",
      "「大さらい［＃「さらい」に傍点］の相談のようでした」\n",
      "「来ると、いつでも、あんなにゆっくり居るのかい」\n",
      "「いえ、三年に一度もいらっしゃいません。珍しい事で、姉も大変喜んでいる様子でした。近頃二人の仲が、何となく面白くなかったものですから――」\n",
      "　言いかけてお文はつと口を緘《つぐ》みました。言ってはならぬ事に触れたと思ったのでしょう。\n",
      "「有難う、あまり心配しない方がいいだろう」\n",
      "　平次はどっちともつかぬ事を言って、夜更けの街を、神田へ帰って来ました。\n",
      "\n",
      "［＃５字下げ］七［＃「七」は中見出し］\n",
      "\n",
      "「親分、いろいろの事が解りましたよ」\n",
      "　ガラッ八が神田の平次の家へ飛込んで来たのは翌《あく》る朝でした。\n",
      "「鏡の事から先に話してくれ」\n",
      "　平次はガラッ八の饒舌《おしゃべり》を整理するように、こう切り出します。\n",
      "「お政の懐中鏡は、水銀《みずかね》がピカピカ付いていますよ、鵜《う》の毛ほどの傷もないくらいで、――七八年前に二両二分で買ったそうだが、物持ちのいい女じゃありませんか」\n",
      "「それから、浜名屋の又次郎はどうした」\n",
      "「師匠に死なれて悄気返《しょげかえ》っていますよ。首ぐらい縊《くく》り兼ねない様子で」\n",
      "「嘘だろう、あんなに浮気な女どもに騒がれる男は、薄情なところがあって、容易に死ねないものだ」\n",
      "「へエ」\n",
      "「お前などは捨てられると死ぬ方さ、ね、八」\n",
      "「そんな心持になってみたいね、親分」\n",
      "「無駄は止《よ》して、山口屋は顔を見せないか」\n",
      "「金持は薄情ですね、七里潔灰《しちりけっぱい》（結界《けっかい》）で」\n",
      "「涼み船でお政を助けた船頭が解ったか」\n",
      "「こいつは大手柄でしたよ。朝っから飛廻って漸《ようや》く突き止めました。浜町の大野屋の船頭で、喜七《きしち》という――」\n",
      "「あの晩通り合せてお政を助けたのか」\n",
      "「それが不思議なんで、客が一人で船を出させて山口屋の船から離れないように漕《こ》がせていたそうですよ――こんな晩は水に落ちる人があるかも知れないから気を付けてくれ、――と言ったそうで」\n",
      "　ガラッ八の話は怪奇にさえなります。\n",
      "「その客は誰だ、解っているだろう？」\n",
      "「それが解らないんで、暑いのに頬冠《ほおかむ》りを取らなかったと言いますよ。それに、お政を水から救い上げると、すぐ姿を隠してしまったそうで」\n",
      "「フーム」\n",
      "　平次は唸《うな》りました。容易ならぬ企《たくら》みが匂います。\n",
      "「船頭はいつでも来てくれる事になっていますよ」\n",
      "「それじゃ気の毒だが馬道へ伴《つ》れて行って、お葬式《とむらい》の支度で集まっている人間の首実検をさしてくれ。その中から頬冠りで船を雇った人間が見付かりゃ、占めたものだ」\n",
      "「そんな事ならわけはありません、親分は？」\n",
      "「横山町の唐物《とうぶつ》問屋を探して、オランダ物の直しをする家を見付けて来るよ」\n",
      "　平次の言うことは、まだガラッ八には謎でしたが、山が見えたことだけは確かのようです。\n",
      "　その日の夕刻、平次は馬道のお政の家へ行きました。\n",
      "「何を言やがる。つい先月、この船頭を頼んで、涼み船から落されたお政を救い上げたのは又次郎だ。去年の暮に、水銀を湯呑の中から見付けたのも又次郎さ、――昨夜《ゆうべ》煙草を買いに出たついでに、何をしたか解ったものじゃねえ、一応調べるに不思議があるものか」\n",
      "　漏れて来るのは、ガラッ八の大啖呵《おおたんか》です。\n",
      "「八兄哥、大層大きな口をきくが、こいつは又次郎の知ったこっちゃないよ。又次郎は二度もお政を助けただけだ、お政殺しに関係《かかわり》があるものか」\n",
      "　そう言うのは三輪の万七の子分のお神楽の清吉でしょう。\n",
      "「関係のないのはお寿も同じことだ。とにかく俺は又次郎をしょっ［＃「しょっ」に傍点］引いて、訊いてみたいことがある。縄張話は後で付けようじゃないか」\n",
      "　ガラッ八は突っ張りました。\n",
      "「八兄哥、お寿はもう白状しているんだぜ。この上、変なことをするのは無駄骨折だ。銭形の兄哥にもそう言ってくんな。小唄の師匠同士、芸の上の嫉《ねた》みから、お政を殺したに相違ありません、と、ツイ先刻申上げてしまった。お寿の外に下手人などがあるわけはねえ」\n",
      "　これは三輪の万七でした。\n",
      "「…………」\n",
      "\n",
      "［＃５字下げ］八［＃「八」は中見出し］\n",
      "\n",
      "「御免よ」\n",
      "　その争いの真ん中へ、銭形平次は入って行きました。\n",
      "「あ、親分、頬冠りの客は又次郎ですよ」\n",
      "　ガラッ八は部屋の隅に小さくなっている浜名屋の又次郎を指しました。\n",
      "「銭形の、――俺は喧嘩を売りに来たわけじゃねえ、八兄哥がお政の葬式《とむらい》の支度の最中へ飛込んで、又次郎を縛るの、山口屋が下手人だろうのと、無法な事を言うからツイ縄張話を持出したまでの事だ。悪く思ってくれちゃ困るぜ」\n",
      "　三輪の万七は静かですが、皮肉な調子でした。\n",
      "「有難う、三輪の、八の野郎が何か夢でも見たんだろう。又次郎にも手落はあるが、下手人じゃない。山口屋などは最初から何の関係《かかわり》もなかったのさ」\n",
      "「そーれ、見るがいい、八兄哥」\n",
      "　清吉は平次の言葉に勢いがよくなりました。\n",
      "「だが、お寿にも罪はないぜ、お神楽の」\n",
      "「えッ」\n",
      "「下手人は思いもよらぬ人間さ。いや幽霊と言った方がいいかも知れない――可哀想にお寿は何にも知らねえ」\n",
      "「そんなはずがあるものか。人の仕事にケチを付けるんじゃあるまいな」\n",
      "　三輪の万七は顔色を変えました。\n",
      "「最初から筋を立てて話してみよう。違ったところがあったら、そう言ってくれ」\n",
      "　平次は静かに話し始めます。\n",
      "「よし、聞こう」\n",
      "　一座は固唾《かたず》を呑みました。夕づく陽は縁側に這《は》って、棺の前の灯《あかし》が次第に明るくなると、生温《なまぬる》い風がサッと吹いて過ぎます。\n",
      "「お政は近頃年を取って、芸も容貌《きりょう》もだんだんいけなくなってきた。人気はみんな、若くて綺麗なお寿に集まるし、大事な旦那の山口屋まで、お寿の方へ入り浸ってお政には切れ話を持ちかけている――。\n",
      "　お政は口惜《くや》しかった。居ても立ってもたまらないほどお寿が憎かった、――お寿を一と思いに殺せば何でもないが、それでは世間の人がお寿が可哀想だと言うだろうし、殺したお政は、世間の憎しみを受けて、処刑台《おしおきだい》に登らなければならない。人気稼業のお政、世間からチヤホヤされて来たお政には、それでは我慢が出来ない。死んでも人気は落したくなかった。――いろいろ考えた末、第一番に、お寿に水銀を呑まされ損なったと世間に言いふらそうと思い付いた。自分のギヤマンの懐中鏡の水銀を剥《は》がして、清松の大さらい［＃「さらい」に傍点］の時、わざと又次郎に見付けさせるようにした――。\n",
      "　その証拠は、お寿の懐中鏡の水銀は傷《いた》んでいるが、わざと剥がした跡はない。お政の鏡の水銀はあんまり無傷で新しい。ギヤマン鏡の水銀は、とても五年と保《も》たないものだ。不思議に思って、江戸でたった一軒の、和蘭物《オランダもの》を修繕《なお》す家で訊くと、近頃ギヤマンの懐中鏡の水銀を貼り替えたのは、お寿じゃなくてお政だった」\n",
      "　一座の人々は、線香臭い中に、黙って顔を見合せました。恐ろしい沈黙の中を、平次の声だけが、低いながら凜々《りんりん》と響きます。\n",
      "「涼み船から落ちたのも、お政の狂言だ。この時は一人ではどうにもならないので、浜名屋の又次郎にそれとなく頼んで、引揚げて貰った。――ずいぶん命がけの仕事だが、女が思い詰めると、それくらいのことは何でもない――。\n",
      "　お寿はだんだん世間から疑われて来た。が、まだ仕上げが出来なかった。そこで八五郎を手なずけて、沢山の証拠を見せ、お寿を疑わせるように仕向けさせた。が、――俺が一二日のうちに行く――と聞くと、その謀計《たくらみ》がばれるのが怖さに、あわてて、取って置きの仕事に取りかかった――。\n",
      "　昨日《きのう》お寿を訪ねて、顔を直す振りをして、剃刀とお寿の抜け毛を盗み出し、お寿へ無理にせがんで、途中まで送って貰った。時刻を測って、暗くなるのを見越しての仕事だ。お寿と別れると、新鳥越の予《かね》て見定めておいた路地へ入って、左手にお寿の抜け毛を掴み、右手に持った剃刀で、自分の左の喉をほんの少し掻き切った。――いや、ほんの少し掻き切るつもりだったが、手元が狂ったのと、小唄の師匠で、咽喉笛《のどぶえ》を避けたのがかえって悪かった。思わず手が滑って、深く切ったのが、あの通り急所だ」\n",
      "　お政は咽喉笛を避けて切ったために、自分の頸動脈《けいどうみゃく》を切ってしまったのでした。\n",
      "「剃刀を庇《ひさし》へ投《ほう》り上げたのは誰だ」\n",
      "　三輪の万七は最後の切札を叩き付けました。\n",
      "「自分の喉を切って、すぐお政が投り出した。最初から刃物を捨てるのが大事な仕事の一つと覚悟していたので、深傷《ふかで》にも拘わらず、思わず力が入って庇の上へ投り上げてしまった、最後の一念というものだろう」\n",
      "　誰ももう、何にも言う者はありません。\n",
      "「仏の前で言うのも何かの功徳《くどく》だろう。お政は掻き傷を拵《こしら》えてお寿を縛らせ、一ぺんに人気を落してやりさえすればよかったが、手が滑って死んだのも自業自得だ。――今じゃあの世で後悔しているだろう。仏に代って、俺が懺悔《ざんげ》してやる。みんなお政の心得違いからだ、――この殺しには誰も罪はない」\n",
      "　平次はそう言い切ると、棺の前に膝を突いて、香を捻《ひね》りながら黙祷《もくとう》を捧げました。\n",
      "　誰も物を言いません。涼しすぎる夕風が、お政の遺骸の前に灯《とも》った蝋燭《ろうそく》を、生命《いのち》あるもののごとく揺るがします。\n",
      "\n",
      "\n",
      "\n",
      "\n"
     ]
    }
   ],
   "source": [
    "filenametrain='56315.txt'\n",
    "path_test = '../data/aozora_datasets_min/train_datasets/{}'.format(filenametrain)\n",
    "with open(path_test) as f:\n",
    "    print(f.read())"
   ]
  },
  {
   "cell_type": "code",
   "execution_count": 123,
   "metadata": {},
   "outputs": [
    {
     "data": {
      "text/html": [
       "<div>\n",
       "<style scoped>\n",
       "    .dataframe tbody tr th:only-of-type {\n",
       "        vertical-align: middle;\n",
       "    }\n",
       "\n",
       "    .dataframe tbody tr th {\n",
       "        vertical-align: top;\n",
       "    }\n",
       "\n",
       "    .dataframe thead th {\n",
       "        text-align: right;\n",
       "    }\n",
       "</style>\n",
       "<table border=\"1\" class=\"dataframe\">\n",
       "  <thead>\n",
       "    <tr style=\"text-align: right;\">\n",
       "      <th></th>\n",
       "      <th>author_id</th>\n",
       "      <th>author_name</th>\n",
       "      <th>novel_id</th>\n",
       "      <th>novel_title</th>\n",
       "      <th>filename</th>\n",
       "    </tr>\n",
       "  </thead>\n",
       "  <tbody>\n",
       "    <tr>\n",
       "      <th>394</th>\n",
       "      <td>1670</td>\n",
       "      <td>野村 胡堂</td>\n",
       "      <td>56315</td>\n",
       "      <td>銭形平次捕物控</td>\n",
       "      <td>56315.txt</td>\n",
       "    </tr>\n",
       "  </tbody>\n",
       "</table>\n",
       "</div>"
      ],
      "text/plain": [
       "     author_id author_name  novel_id novel_title   filename\n",
       "394       1670       野村 胡堂     56315     銭形平次捕物控  56315.txt"
      ]
     },
     "execution_count": 123,
     "metadata": {},
     "output_type": "execute_result"
    }
   ],
   "source": [
    "df_train[df_train.filename == '56315.txt']"
   ]
  },
  {
   "cell_type": "code",
   "execution_count": null,
   "metadata": {},
   "outputs": [],
   "source": []
  }
 ],
 "metadata": {
  "kernelspec": {
   "display_name": "Python 3",
   "language": "python",
   "name": "python3"
  },
  "language_info": {
   "codemirror_mode": {
    "name": "ipython",
    "version": 3
   },
   "file_extension": ".py",
   "mimetype": "text/x-python",
   "name": "python",
   "nbconvert_exporter": "python",
   "pygments_lexer": "ipython3",
   "version": "3.6.7"
  }
 },
 "nbformat": 4,
 "nbformat_minor": 2
}
