{
 "cells": [
  {
   "cell_type": "code",
   "execution_count": 18,
   "metadata": {},
   "outputs": [
    {
     "data": {
      "text/plain": [
       "(array([[3, 3],\n",
       "        [3, 3],\n",
       "        [3, 3]]), (3, 2))"
      ]
     },
     "execution_count": 18,
     "metadata": {},
     "output_type": "execute_result"
    }
   ],
   "source": [
    "import numpy as np\n",
    "\n",
    "X = np.array([[3,3],[3,3],[3,3]])\n",
    "X, X.shape"
   ]
  },
  {
   "cell_type": "code",
   "execution_count": 20,
   "metadata": {},
   "outputs": [
    {
     "data": {
      "text/plain": [
       "(array([[4, 4, 4, 4],\n",
       "        [5, 5, 5, 5],\n",
       "        [6, 6, 6, 6]]), (3, 4))"
      ]
     },
     "execution_count": 20,
     "metadata": {},
     "output_type": "execute_result"
    }
   ],
   "source": [
    "Y = np.array([[4]*4, [5]*4, [6]*4]).reshape(3, 4)\n",
    "Y, Y.shape"
   ]
  },
  {
   "cell_type": "code",
   "execution_count": 22,
   "metadata": {},
   "outputs": [
    {
     "data": {
      "text/plain": [
       "(array([[[12, 12, 12, 12],\n",
       "         [12, 12, 12, 12]],\n",
       " \n",
       "        [[15, 15, 15, 15],\n",
       "         [15, 15, 15, 15]],\n",
       " \n",
       "        [[18, 18, 18, 18],\n",
       "         [18, 18, 18, 18]]]), (3, 2, 4))"
      ]
     },
     "execution_count": 22,
     "metadata": {},
     "output_type": "execute_result"
    }
   ],
   "source": [
    "XY_1 = np.einsum('ij,ik->ijk', X,Y)\n",
    "XY_1, XY_1.shape"
   ]
  },
  {
   "cell_type": "code",
   "execution_count": 25,
   "metadata": {},
   "outputs": [
    {
     "data": {
      "text/plain": [
       "(array([[[12, 12],\n",
       "         [12, 12],\n",
       "         [12, 12],\n",
       "         [12, 12]],\n",
       " \n",
       "        [[15, 15],\n",
       "         [15, 15],\n",
       "         [15, 15],\n",
       "         [15, 15]],\n",
       " \n",
       "        [[18, 18],\n",
       "         [18, 18],\n",
       "         [18, 18],\n",
       "         [18, 18]]]), (3, 4, 2))"
      ]
     },
     "execution_count": 25,
     "metadata": {},
     "output_type": "execute_result"
    }
   ],
   "source": [
    "XY_2 = np.einsum('ij,ik->ikj', X,Y)\n",
    "XY_2, XY_2.shape"
   ]
  },
  {
   "cell_type": "code",
   "execution_count": 26,
   "metadata": {},
   "outputs": [
    {
     "data": {
      "text/plain": [
       "(array([[24, 24, 24, 24],\n",
       "        [30, 30, 30, 30],\n",
       "        [36, 36, 36, 36]]), (3, 4))"
      ]
     },
     "execution_count": 26,
     "metadata": {},
     "output_type": "execute_result"
    }
   ],
   "source": [
    "XY = np.einsum('ij,ik->ik', X,Y)\n",
    "XY, XY.shape"
   ]
  },
  {
   "cell_type": "code",
   "execution_count": 28,
   "metadata": {},
   "outputs": [
    {
     "data": {
      "text/plain": [
       "(array([ 96, 120, 144]), (3,))"
      ]
     },
     "execution_count": 28,
     "metadata": {},
     "output_type": "execute_result"
    }
   ],
   "source": [
    "XY = np.einsum('ij,ik->i', X,Y)\n",
    "XY, XY.shape"
   ]
  },
  {
   "cell_type": "code",
   "execution_count": null,
   "metadata": {},
   "outputs": [],
   "source": []
  }
 ],
 "metadata": {
  "kernelspec": {
   "display_name": "Environment (conda_data_sci)",
   "language": "python",
   "name": "conda_data_sci"
  },
  "language_info": {
   "codemirror_mode": {
    "name": "ipython",
    "version": 3
   },
   "file_extension": ".py",
   "mimetype": "text/x-python",
   "name": "python",
   "nbconvert_exporter": "python",
   "pygments_lexer": "ipython3",
   "version": "3.7.5"
  }
 },
 "nbformat": 4,
 "nbformat_minor": 2
}
