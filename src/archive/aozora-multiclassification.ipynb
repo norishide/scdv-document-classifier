{
 "cells": [
  {
   "cell_type": "code",
   "execution_count": null,
   "metadata": {},
   "outputs": [],
   "source": [
    "import datetime\n",
    "import os\n",
    "import json\n",
    "import re\n",
    "from functools import partial\n",
    "from itertools import count, filterfalse\n",
    "\n",
    "import numpy as np\n",
    "import pandas as pd\n",
    "from sklearn.datasets import fetch_20newsgroups\n",
    "from gensim.models import word2vec\n",
    "from sklearn.mixture import GaussianMixture\n",
    "from sklearn.feature_extraction.text import TfidfVectorizer"
   ]
  },
  {
   "cell_type": "code",
   "execution_count": null,
   "metadata": {},
   "outputs": [],
   "source": [
    "import pandas as pd\n",
    "from itertools import count\n",
    "\n",
    "\n",
    "input_train='./aozora_datasets_min/train_author_novel.csv'\n",
    "df_train = pd.read_csv(input_train)"
   ]
  },
  {
   "cell_type": "code",
   "execution_count": 7,
   "metadata": {},
   "outputs": [],
   "source": [
    "import glob\n",
    "import os\n",
    "\n",
    "import pandas as pd"
   ]
  },
  {
   "cell_type": "code",
   "execution_count": null,
   "metadata": {},
   "outputs": [],
   "source": [
    "train_files = glob.glob('./aozora_datasets_min/train_datasets/*.txt')"
   ]
  },
  {
   "cell_type": "code",
   "execution_count": null,
   "metadata": {},
   "outputs": [],
   "source": [
    "train_files = glob.glob('./aozora_datasets_min/train_datasets/*.txt')\n",
    "train_filenames = list(map(os.path.basename, train_files)) # doesnt reproduce result when iter is consumed\n",
    "train_authors = list(map(filename_author_map.get, train_filenames))"
   ]
  },
  {
   "cell_type": "code",
   "execution_count": null,
   "metadata": {},
   "outputs": [],
   "source": []
  },
  {
   "cell_type": "code",
   "execution_count": 4,
   "metadata": {},
   "outputs": [],
   "source": [
    "input_filepath = './aozora_datasets_min/train_author_novel.csv'"
   ]
  },
  {
   "cell_type": "code",
   "execution_count": 5,
   "metadata": {},
   "outputs": [],
   "source": [
    "df_train = pd.read_csv(input_filepath)"
   ]
  },
  {
   "cell_type": "code",
   "execution_count": 87,
   "metadata": {},
   "outputs": [],
   "source": [
    "from itertools import groupby\n",
    "from oprea\n",
    "\n",
    "import numpy as np"
   ]
  },
  {
   "cell_type": "code",
   "execution_count": 119,
   "metadata": {},
   "outputs": [],
   "source": [
    "def stratified_splitter(rng, labels, n_splits=5):\n",
    "    ordering = labels.argsort()\n",
    "    u, c = np.unique(labels, return_counts=True)\n",
    "    train_indices = []\n",
    "    test_indices = []\n",
    "    for shuffled_indices in map(rng.permutation, np.split(np.arange(labels.size)[ordering], c[:-1].cumsum())):\n",
    "        return shuffled_indices\n",
    "        fold_indices = np.arange(shuffled_indices.size) % n_splits\n",
    "        for k in np.arange(u.size):\n",
    "            mask = fold_indices != k\n",
    "            train_indices.append(shuffled_indices[mask])\n",
    "            test_indices.append(shuffled_indices[~mask])\n",
    "    return map(np.concatenate, (train_indices, test_indices))"
   ]
  },
  {
   "cell_type": "code",
   "execution_count": 120,
   "metadata": {},
   "outputs": [],
   "source": [
    "rng = np.random.RandomState(42)\n",
    "n_splits = 10"
   ]
  },
  {
   "cell_type": "code",
   "execution_count": 122,
   "metadata": {},
   "outputs": [
    {
     "data": {
      "text/plain": [
       "array([1474, 1400, 1533, 1416, 1392, 1463, 1491, 1435, 1500, 1450, 1407,\n",
       "       1425, 1492, 1430, 1408, 1415, 1527, 1477, 1480, 1388, 1499, 1447,\n",
       "       1523, 1462, 1532, 1498, 1398, 1497, 1513, 1471, 1423, 1528, 1459,\n",
       "       1502, 1514, 1429, 1451, 1507, 1383, 1403, 1478, 1396, 1421, 1406,\n",
       "       1473, 1460, 1395, 1448, 1485, 1496, 1441, 1399, 1529, 1489, 1426,\n",
       "       1479, 1468, 1397, 1404, 1391, 1461, 1433, 1526, 1505, 1464, 1445,\n",
       "       1511, 1501, 1449, 1419, 1503, 1506, 1386, 1470, 1401, 1432, 1518,\n",
       "       1437, 1524, 1522, 1455, 1495, 1380, 1394, 1466, 1420, 1412, 1443,\n",
       "       1484, 1424, 1393, 1439, 1493, 1402, 1504, 1494, 1521, 1482, 1446,\n",
       "       1458, 1390, 1413, 1405, 1531, 1422, 1512, 1481, 1476, 1469, 1515,\n",
       "       1486, 1490, 1472, 1456, 1530, 1483, 1418, 1382, 1487, 1465, 1417,\n",
       "       1444, 1389, 1440, 1520, 1436, 1519, 1467, 1434, 1453, 1438, 1410,\n",
       "       1508, 1452, 1431, 1517, 1510, 1427, 1488, 1442, 1516, 1385, 1381,\n",
       "       1411, 1409, 1454, 1525, 1428, 1509, 1457, 1387, 1475, 1414, 1384])"
      ]
     },
     "execution_count": 122,
     "metadata": {},
     "output_type": "execute_result"
    }
   ],
   "source": [
    "stratified_splitter(rng, labels)"
   ]
  },
  {
   "cell_type": "code",
   "execution_count": 121,
   "metadata": {
    "scrolled": true
   },
   "outputs": [
    {
     "ename": "NameError",
     "evalue": "name 'train_indices' is not defined",
     "output_type": "error",
     "traceback": [
      "\u001b[0;31m---------------------------------------------------------------------------\u001b[0m",
      "\u001b[0;31mNameError\u001b[0m                                 Traceback (most recent call last)",
      "\u001b[0;32m<ipython-input-121-01dff60e7182>\u001b[0m in \u001b[0;36m<module>\u001b[0;34m\u001b[0m\n\u001b[0;32m----> 1\u001b[0;31m \u001b[0mtrain_indices\u001b[0m\u001b[0;34m,\u001b[0m \u001b[0mstratified_splitter\u001b[0m\u001b[0;34m(\u001b[0m\u001b[0mrng\u001b[0m\u001b[0;34m,\u001b[0m \u001b[0mlabels\u001b[0m\u001b[0;34m)\u001b[0m\u001b[0;34m\u001b[0m\u001b[0;34m\u001b[0m\u001b[0m\n\u001b[0m",
      "\u001b[0;31mNameError\u001b[0m: name 'train_indices' is not defined"
     ]
    }
   ],
   "source": [
    "train_indices, stratified_splitter(rng, labels)"
   ]
  },
  {
   "cell_type": "code",
   "execution_count": null,
   "metadata": {},
   "outputs": [],
   "source": []
  },
  {
   "cell_type": "code",
   "execution_count": 95,
   "metadata": {},
   "outputs": [],
   "source": [
    "labels = df_train.author_id.values\n",
    "ordering = labels.argsort()"
   ]
  },
  {
   "cell_type": "code",
   "execution_count": 94,
   "metadata": {},
   "outputs": [
    {
     "data": {
      "text/plain": [
       "array([ 154,  196,  378,  429,  487,  536,  596,  643,  694,  807,  934,\n",
       "        992, 1032, 1126, 1215, 1531])"
      ]
     },
     "execution_count": 94,
     "metadata": {},
     "output_type": "execute_result"
    }
   ],
   "source": [
    "np.unique(labels, return_counts=True)[1][:-1].cumsum()"
   ]
  },
  {
   "cell_type": "code",
   "execution_count": 106,
   "metadata": {},
   "outputs": [
    {
     "data": {
      "text/plain": [
       "[array([1391, 1488, 1487, 1486, 1485, 1484, 1483, 1482, 1481, 1480, 1479,\n",
       "        1478, 1477, 1476, 1475, 1474, 1489, 1490, 1491, 1492, 1509, 1508,\n",
       "        1507, 1506, 1505, 1503, 1502, 1473, 1501, 1499, 1498, 1497, 1496,\n",
       "        1495, 1494, 1493, 1500, 1510, 1472, 1470, 1449, 1448, 1447, 1446,\n",
       "        1445, 1435, 1436, 1437, 1438, 1439, 1440, 1441, 1442, 1443, 1444,\n",
       "        1450, 1451, 1452, 1453, 1469, 1468, 1467, 1466, 1465, 1464, 1463,\n",
       "        1471, 1462, 1460, 1459, 1458, 1457, 1456, 1455, 1454, 1461, 1511,\n",
       "        1504, 1513, 1401, 1402, 1403, 1404, 1405, 1406, 1407, 1408, 1409,\n",
       "        1410, 1512, 1412, 1413, 1414, 1415, 1400, 1399, 1398, 1397, 1380,\n",
       "        1381, 1382, 1383, 1384, 1385, 1386, 1416, 1387, 1389, 1390, 1392,\n",
       "        1393, 1394, 1395, 1396, 1388, 1417, 1411, 1419, 1528, 1527, 1526,\n",
       "        1525, 1524, 1418, 1522, 1521, 1520, 1519, 1518, 1517, 1516, 1515,\n",
       "        1514, 1529, 1530, 1523, 1532, 1420, 1531, 1422, 1423, 1424, 1425,\n",
       "        1426, 1427, 1421, 1429, 1430, 1431, 1432, 1433, 1434, 1533, 1428]),\n",
       " array([172, 173, 174, 175, 176, 177, 178, 182, 180, 181, 183, 184, 185,\n",
       "        171, 179, 170, 156, 168, 169, 145, 146, 147, 148, 149, 150, 151,\n",
       "        152, 153, 154, 155, 144, 157, 158, 159, 160, 161, 162, 163, 164,\n",
       "        165, 166, 167]),\n",
       " array([1221, 1222, 1223, 1224, 1229, 1226, 1227, 1228, 1220, 1230, 1225,\n",
       "        1219, 1214, 1217, 1216, 1215, 1206, 1213, 1212, 1211, 1210, 1209,\n",
       "        1208, 1231, 1207, 1218, 1232, 1244, 1234, 1261, 1260, 1259, 1258,\n",
       "        1257, 1256, 1255, 1254, 1253, 1252, 1251, 1250, 1249, 1248, 1247,\n",
       "        1246, 1245, 1205, 1243, 1242, 1241, 1240, 1239, 1238, 1237, 1236,\n",
       "        1235, 1233, 1204, 1203, 1022, 1176, 1177, 1178, 1179, 1180, 1181,\n",
       "        1182, 1183, 1184, 1185, 1186, 1187, 1175, 1188, 1190, 1191, 1192,\n",
       "        1193, 1194, 1195, 1196, 1197, 1198, 1199, 1200, 1262, 1189, 1021,\n",
       "        1174, 1172, 1023, 1024, 1150, 1151, 1152, 1153, 1154, 1155, 1156,\n",
       "        1157, 1158, 1202, 1173, 1201, 1160, 1161, 1162, 1163, 1164, 1165,\n",
       "        1166, 1167, 1168, 1169, 1170, 1171, 1159, 1263,  752, 1265, 1298,\n",
       "        1299, 1300, 1301, 1302, 1303, 1304, 1305, 1306, 1307, 1308, 1309,\n",
       "        1310, 1297, 1311, 1313, 1314, 1315, 1316, 1317, 1318, 1320, 1321,\n",
       "         239,  238,  186,   49, 1264, 1312, 1296, 1319, 1294, 1295, 1267,\n",
       "        1268, 1269, 1270, 1271, 1272, 1273, 1274, 1275, 1276, 1277, 1278,\n",
       "         298, 1266, 1280, 1292, 1279, 1291, 1290, 1293, 1288, 1287, 1289,\n",
       "        1286, 1285, 1284, 1283, 1282, 1281]),\n",
       " array([780, 781, 782, 783, 784, 785, 786, 787, 779, 788, 795, 790, 791,\n",
       "        792, 793, 796, 797, 798, 799, 778, 801, 789, 800, 763, 776, 802,\n",
       "        754, 755, 756, 757, 758, 759, 760, 761, 762, 777, 764, 766, 767,\n",
       "        768, 769, 770, 771, 772, 773, 774, 775, 765, 803, 794, 753]),\n",
       " array([1583, 1557, 1556, 1554, 1553, 1552, 1551, 1550, 1549, 1548, 1547,\n",
       "        1546, 1545, 1544, 1543, 1542, 1541, 1540, 1539, 1538, 1537, 1536,\n",
       "        1535, 1534, 1322, 1558, 1559, 1560, 1561, 1584, 1585, 1586,  980,\n",
       "         979, 1581, 1580, 1579, 1578, 1577, 1576, 1575, 1582, 1574, 1587,\n",
       "        1572, 1571, 1570, 1569, 1568, 1567, 1566, 1565, 1564, 1563, 1562,\n",
       "        1573, 1555, 1588]),\n",
       " array([ 0, 27, 28, 29, 30, 31, 32, 33, 34, 35, 36, 37, 38, 40, 41, 42, 43,\n",
       "        44, 45, 46, 47, 48, 26, 25, 39, 23, 24,  1,  2,  3,  4,  5,  7,  8,\n",
       "         9, 10, 11,  6, 13, 22, 12, 21, 20, 18, 19, 16, 15, 14, 17]),\n",
       " array([821, 824, 822, 820, 823, 825, 829, 827, 828, 830, 819, 831, 826,\n",
       "        818, 806, 816, 815, 814, 813, 812, 811, 810, 809, 808, 807, 805,\n",
       "        804, 832, 817, 833, 835, 860, 863, 862, 861, 859, 858, 857, 856,\n",
       "        855, 834, 853, 852, 851, 850, 854, 848, 836, 837, 849, 839, 840,\n",
       "        841, 838, 843, 844, 845, 846, 847, 842]),\n",
       " array([726, 725, 724, 723, 722, 721, 720, 719, 718, 717, 706, 715, 714,\n",
       "        713, 712, 711, 710, 709, 707, 727, 716, 728, 743, 730, 751, 750,\n",
       "        749, 748, 747, 746, 745, 744, 742, 729, 741, 739, 738, 737, 736,\n",
       "        735, 734, 733, 732, 731, 740, 705, 708]),\n",
       " array([189, 220, 219, 218, 217, 216, 215, 214, 213, 212, 211, 210, 209,\n",
       "        208, 207, 206, 205, 204, 188, 187, 192, 193, 194, 195, 221, 196,\n",
       "        198, 199, 200, 201, 202, 203, 197, 222, 223, 224, 191, 237, 236,\n",
       "        235, 234, 233, 232, 190, 230, 229, 228, 227, 226, 225, 231]),\n",
       " array([952, 951, 949, 948, 947, 946, 945, 944, 940, 942, 941, 939, 938,\n",
       "        937, 935, 934, 933, 943, 936, 950, 932, 899, 900, 901, 902, 903,\n",
       "        904, 905, 906, 907, 908, 909, 910, 911, 912, 898, 913, 915, 916,\n",
       "        917, 918, 919, 920, 921, 922, 923, 924, 925, 926, 927, 928, 914,\n",
       "        953, 897, 895, 931, 866, 867, 868, 869, 870, 871, 872, 873, 874,\n",
       "        875, 876, 877, 878, 896, 879, 881, 882, 883, 884, 885, 886, 887,\n",
       "        888, 889, 890, 891, 892, 893, 894, 880, 954, 930, 956, 978, 977,\n",
       "        955, 929, 976, 975, 974, 972, 971, 970, 969, 968, 973, 966, 965,\n",
       "        964, 963, 962, 961, 960, 957, 967, 958, 959]),\n",
       " array([1049, 1050, 1051, 1052, 1056, 1054, 1055, 1057, 1058, 1059, 1048,\n",
       "        1053, 1047, 1038, 1045, 1044, 1043, 1042, 1041, 1040, 1039, 1060,\n",
       "        1036, 1035, 1034, 1033, 1046, 1061, 1073, 1063, 1092, 1091, 1090,\n",
       "        1089, 1088, 1087, 1086, 1085, 1084, 1083, 1082, 1081, 1080, 1079,\n",
       "        1078, 1077, 1076, 1075, 1074, 1032, 1072, 1071, 1070, 1069, 1068,\n",
       "        1067, 1066, 1065, 1064, 1062, 1031, 1105, 1096, 1130, 1131, 1132,\n",
       "        1133, 1134, 1135, 1136, 1137, 1138, 1139, 1140, 1030, 1029, 1028,\n",
       "        1027, 1026, 1025, 1149, 1148, 1147, 1146, 1145, 1144, 1143, 1142,\n",
       "        1141, 1094, 1129, 1128, 1127, 1126, 1097, 1098, 1099, 1100, 1101,\n",
       "        1102, 1103, 1104, 1106, 1107, 1108, 1109, 1110, 1095, 1111, 1113,\n",
       "        1114, 1115, 1116, 1117, 1118, 1119, 1120, 1121, 1122, 1123, 1124,\n",
       "        1125, 1112, 1093, 1037,  864,  865]),\n",
       " array([295, 296, 297, 262, 261, 260, 259, 258, 257, 256, 255, 254, 253,\n",
       "        252, 251, 250, 249, 248, 247, 246, 245, 244, 243, 242, 241, 294,\n",
       "        240, 293, 291, 265, 266, 267, 268, 269, 270, 271, 272, 273, 274,\n",
       "        275, 276, 292, 277, 279, 280, 281, 282, 283, 284, 285, 286, 287,\n",
       "        288, 289, 290, 278, 264, 263]),\n",
       " array([ 992, 1014, 1015, 1016, 1017, 1018, 1019,  981,  982,  983,  984,\n",
       "         985,  986,  987,  988,  989,  991,  990, 1013, 1012, 1020, 1010,\n",
       "        1011,  995,  996,  997,  998, 1000, 1001, 1002,  999,  993, 1004,\n",
       "        1005, 1006, 1007, 1008, 1009, 1003,  994]),\n",
       " array([ 91,  85,  86,  87,  88,  89,  90, 100,  94,  95,  96,  97,  98,\n",
       "         99,  84,  93,  83,  64,  81,  63, 101,  65,  66,  67,  68,  69,\n",
       "         70,  82,  71,  73,  74,  75,  76,  77,  78,  79,  80,  72, 102,\n",
       "        121, 104, 127, 128, 129, 130, 131, 132, 133, 134, 135, 136, 137,\n",
       "        138, 139, 140, 141, 142, 143, 126, 103, 125, 123, 105, 106, 107,\n",
       "        108, 109, 110, 111, 112, 113, 114, 115, 116, 117, 118, 119, 120,\n",
       "        122, 124,  61,  92,  62,  59,  60,  57,  56,  55,  58,  53,  52,\n",
       "         51,  50,  54]),\n",
       " array([685, 684, 683, 682, 681, 680, 679, 678, 673, 676, 675, 674, 686,\n",
       "        672, 671, 670, 677, 687, 693, 689, 623, 704, 703, 702, 701, 700,\n",
       "        699, 688, 698, 696, 695, 694, 669, 692, 691, 690, 697, 668, 622,\n",
       "        666, 639, 638, 637, 636, 635, 634, 633, 632, 631, 630, 629, 628,\n",
       "        619, 667, 621, 626, 625, 624, 616, 617, 618, 640, 641, 627, 643,\n",
       "        665, 664, 663, 662, 661, 660, 659, 658, 642, 657, 656, 620, 654,\n",
       "        644, 645, 646, 647, 648, 649, 650, 655, 653, 652, 651]),\n",
       " array([522, 519, 520, 523, 518, 521, 524, 529, 526, 527, 528, 530, 531,\n",
       "        532, 533, 534, 535, 525, 517, 515, 514, 488, 489, 490, 491, 492,\n",
       "        493, 494, 495, 496, 497, 498, 499, 500, 501, 502, 503, 504, 505,\n",
       "        506, 507, 508, 510, 511, 512, 513, 516, 509, 571, 585, 557, 556,\n",
       "        555, 554, 553, 552, 551, 550, 549, 548, 547, 546, 544, 543, 542,\n",
       "        541, 540, 539, 538, 537, 536, 558, 559, 560, 561, 584, 583, 582,\n",
       "        581, 580, 579, 578, 577, 576, 575, 586, 574, 572, 570, 569, 568,\n",
       "        567, 566, 565, 564, 563, 562, 573, 545, 317, 300, 417, 418, 419,\n",
       "        420, 421, 422, 423, 424, 425, 426, 427, 587, 588, 589, 416, 590,\n",
       "        592, 593, 594, 595, 596, 597, 598, 599, 600, 601, 602, 603, 604,\n",
       "        605, 591, 606, 415, 413, 383, 384, 385, 386, 387, 388, 389, 390,\n",
       "        391, 392, 393, 394, 395, 396, 414, 397, 399, 400, 401, 402, 403,\n",
       "        404, 405, 406, 407, 408, 409, 410, 411, 412, 398, 607, 608, 609,\n",
       "        463, 462, 461, 460, 459, 458, 457, 456, 455, 454, 453, 452, 451,\n",
       "        450, 464, 449, 447, 446, 445, 444, 443, 442, 441, 440, 439, 438,\n",
       "        437, 436, 435, 434, 448, 465, 466, 467, 610, 611, 612, 613, 614,\n",
       "        615, 486, 485, 484, 483, 482, 481, 480, 428, 429, 430, 431, 468,\n",
       "        469, 470, 471, 472, 473, 382, 474, 476, 477, 478, 479, 433, 432,\n",
       "        475, 381, 380, 379, 322, 323, 324, 325, 326, 327, 328, 321, 329,\n",
       "        331, 333, 334, 335, 336, 337, 338, 330, 339, 320, 318, 301, 302,\n",
       "        303, 304, 305, 306, 307, 319, 308, 299, 311, 312, 313, 314, 315,\n",
       "        316, 309, 340, 310, 342, 363, 364, 365, 366, 367, 368, 369, 370,\n",
       "        371, 341, 372, 373, 374, 375, 376, 377, 378, 362, 361, 487, 359,\n",
       "        360, 348, 349, 346, 345, 344, 343, 350, 347, 352, 351, 357, 356,\n",
       "        358, 354, 353, 355]),\n",
       " array([1344, 1343, 1342, 1341, 1340, 1339, 1338, 1337, 1336, 1335, 1334,\n",
       "        1327, 1332, 1331, 1330, 1329, 1328, 1345, 1326, 1325, 1324, 1323,\n",
       "         332, 1333, 1346, 1352, 1348, 1379, 1378, 1377, 1376, 1375, 1374,\n",
       "        1373, 1372, 1371, 1370, 1369, 1368, 1367, 1366, 1365, 1364, 1363,\n",
       "        1361, 1360, 1359, 1358, 1357, 1356, 1355, 1354, 1353, 1351, 1350,\n",
       "        1349, 1347, 1362])]"
      ]
     },
     "execution_count": 106,
     "metadata": {},
     "output_type": "execute_result"
    }
   ],
   "source": [
    "np.split(np.arange(labels.size)[ordering], np.unique(labels, return_counts=True)[1][:-1].cumsum())"
   ]
  },
  {
   "cell_type": "code",
   "execution_count": null,
   "metadata": {},
   "outputs": [],
   "source": []
  },
  {
   "cell_type": "code",
   "execution_count": null,
   "metadata": {},
   "outputs": [],
   "source": []
  },
  {
   "cell_type": "code",
   "execution_count": 78,
   "metadata": {},
   "outputs": [],
   "source": [
    "u, inv = np.unique(labels, return_inverse=True)"
   ]
  },
  {
   "cell_type": "code",
   "execution_count": 85,
   "metadata": {},
   "outputs": [],
   "source": [
    "ordering = inv.argsort()"
   ]
  },
  {
   "cell_type": "code",
   "execution_count": 86,
   "metadata": {},
   "outputs": [
    {
     "data": {
      "text/plain": [
       "array([1391, 1488, 1487, ..., 1349, 1347, 1362])"
      ]
     },
     "execution_count": 86,
     "metadata": {},
     "output_type": "execute_result"
    }
   ],
   "source": [
    "ordering"
   ]
  },
  {
   "cell_type": "code",
   "execution_count": null,
   "metadata": {},
   "outputs": [],
   "source": []
  },
  {
   "cell_type": "code",
   "execution_count": 81,
   "metadata": {},
   "outputs": [
    {
     "data": {
      "text/plain": [
       "array([  50,   52,   82,  146,  153,  162,  270,  281,  305,  908,  933,\n",
       "       1224, 1373, 1562, 1569, 1670, 1779])"
      ]
     },
     "execution_count": 81,
     "metadata": {},
     "output_type": "execute_result"
    }
   ],
   "source": [
    "u"
   ]
  },
  {
   "cell_type": "code",
   "execution_count": 82,
   "metadata": {},
   "outputs": [
    {
     "data": {
      "text/plain": [
       "array([162, 162, 162, ..., 153, 153, 153])"
      ]
     },
     "execution_count": 82,
     "metadata": {},
     "output_type": "execute_result"
    }
   ],
   "source": [
    "labels"
   ]
  },
  {
   "cell_type": "code",
   "execution_count": null,
   "metadata": {},
   "outputs": [],
   "source": []
  },
  {
   "cell_type": "code",
   "execution_count": 73,
   "metadata": {},
   "outputs": [],
   "source": [
    "u, inv, ind = np.unique(labels, return_index=True, return_inverse=True)"
   ]
  },
  {
   "cell_type": "code",
   "execution_count": 74,
   "metadata": {},
   "outputs": [
    {
     "data": {
      "text/plain": [
       "array([5, 5, 5, 5, 5, 5, 5, 5, 5, 5, 5, 5, 5, 5, 5, 5, 5])"
      ]
     },
     "execution_count": 74,
     "metadata": {},
     "output_type": "execute_result"
    }
   ],
   "source": [
    "ind[inv.argsort()]"
   ]
  },
  {
   "cell_type": "code",
   "execution_count": 75,
   "metadata": {},
   "outputs": [
    {
     "data": {
      "text/plain": [
       "array([1380,  144,   49,  753,  979,    0,  804,  705,  187,  866,  864,\n",
       "        240,  981,   50,  616,  299,  332])"
      ]
     },
     "execution_count": 75,
     "metadata": {},
     "output_type": "execute_result"
    }
   ],
   "source": [
    "inv"
   ]
  },
  {
   "cell_type": "code",
   "execution_count": 64,
   "metadata": {},
   "outputs": [
    {
     "data": {
      "text/plain": [
       "array([5, 5, 5, ..., 4, 4, 4])"
      ]
     },
     "execution_count": 64,
     "metadata": {},
     "output_type": "execute_result"
    }
   ],
   "source": [
    "inv"
   ]
  },
  {
   "cell_type": "code",
   "execution_count": 65,
   "metadata": {},
   "outputs": [
    {
     "data": {
      "text/plain": [
       "array([  50,   52,   82,  146,  153,  162,  270,  281,  305,  908,  933,\n",
       "       1224, 1373, 1562, 1569, 1670, 1779])"
      ]
     },
     "execution_count": 65,
     "metadata": {},
     "output_type": "execute_result"
    }
   ],
   "source": [
    "u"
   ]
  },
  {
   "cell_type": "code",
   "execution_count": 59,
   "metadata": {},
   "outputs": [],
   "source": [
    "for i in range(u.size):\n",
    "    shuffled_indices = rng.permutation(np.flatnonzero(inv == i))\n",
    "    fold_indices = np.arange(shuffled_indices.size) % n_splits\n",
    "    for k in np.unique(fold_indices):\n",
    "        mask = fold_indices == k\n",
    "        break\n",
    "    break"
   ]
  },
  {
   "cell_type": "code",
   "execution_count": 61,
   "metadata": {},
   "outputs": [
    {
     "data": {
      "text/plain": [
       "array([1444, 1443, 1445, 1385, 1457, 1394, 1392, 1389, 1519, 1458, 1472,\n",
       "       1481, 1422, 1490, 1529, 1413, 1400, 1528, 1425, 1440, 1426, 1401,\n",
       "       1515, 1521, 1393, 1397, 1408, 1533, 1404, 1462, 1387, 1455, 1488,\n",
       "       1464, 1470, 1453, 1506, 1474, 1439, 1420, 1388, 1477, 1416, 1384,\n",
       "       1504, 1486, 1483, 1428, 1451, 1427, 1405, 1467, 1386, 1414, 1525,\n",
       "       1410, 1402, 1429, 1436, 1489, 1485, 1503, 1419, 1505, 1450, 1461,\n",
       "       1456, 1446, 1484, 1415, 1526, 1399, 1459, 1468, 1517, 1452, 1395,\n",
       "       1390, 1465, 1478, 1448, 1417, 1396, 1511, 1524, 1434, 1447, 1479,\n",
       "       1449, 1411, 1527, 1432, 1494, 1398, 1380, 1476, 1510, 1499, 1466,\n",
       "       1522, 1493, 1502, 1498, 1512, 1460, 1435, 1518, 1480, 1516, 1381,\n",
       "       1418, 1391, 1431, 1437, 1509, 1514, 1492, 1497, 1438, 1430, 1532,\n",
       "       1482, 1382, 1495, 1520, 1406, 1508, 1471, 1507, 1454, 1409, 1463,\n",
       "       1423, 1487, 1530, 1513, 1441, 1424])"
      ]
     },
     "execution_count": 61,
     "metadata": {},
     "output_type": "execute_result"
    }
   ],
   "source": [
    "shuffled_indices[~mask]"
   ]
  },
  {
   "cell_type": "code",
   "execution_count": 58,
   "metadata": {},
   "outputs": [
    {
     "data": {
      "text/plain": [
       "array([0, 1, 2, 3, 4, 5, 6, 7, 8, 9])"
      ]
     },
     "execution_count": 58,
     "metadata": {},
     "output_type": "execute_result"
    }
   ],
   "source": [
    "for j in np.unique(fold_indices)"
   ]
  },
  {
   "cell_type": "code",
   "execution_count": 55,
   "metadata": {},
   "outputs": [
    {
     "data": {
      "text/plain": [
       "array([0, 1, 2, 3, 4, 5, 6, 7, 8, 9, 0, 1, 2, 3, 4, 5, 6, 7, 8, 9, 0, 1,\n",
       "       2, 3, 4, 5, 6, 7, 8, 9, 0, 1, 2, 3, 4, 5, 6, 7, 8, 9, 0, 1, 2, 3,\n",
       "       4, 5, 6, 7, 8, 9, 0, 1, 2, 3, 4, 5, 6, 7, 8, 9, 0, 1, 2, 3, 4, 5,\n",
       "       6, 7, 8, 9, 0, 1, 2, 3, 4, 5, 6, 7, 8, 9, 0, 1, 2, 3, 4, 5, 6, 7,\n",
       "       8, 9, 0, 1, 2, 3, 4, 5, 6, 7, 8, 9, 0, 1, 2, 3, 4, 5, 6, 7, 8, 9,\n",
       "       0, 1, 2, 3, 4, 5, 6, 7, 8, 9, 0, 1, 2, 3, 4, 5, 6, 7, 8, 9, 0, 1,\n",
       "       2, 3, 4, 5, 6, 7, 8, 9, 0, 1, 2, 3, 4, 5, 6, 7, 8, 9, 0, 1, 2, 3])"
      ]
     },
     "execution_count": 55,
     "metadata": {},
     "output_type": "execute_result"
    }
   ],
   "source": [
    "np.arange(shuffled_indices.size) % n_splits"
   ]
  },
  {
   "cell_type": "code",
   "execution_count": null,
   "metadata": {},
   "outputs": [],
   "source": [
    "indices"
   ]
  },
  {
   "cell_type": "code",
   "execution_count": 43,
   "metadata": {},
   "outputs": [
    {
     "data": {
      "text/plain": [
       "array([0, 1, 2, 3, 4, 5, 6, 7, 8, 9, 0, 1, 2, 3, 4, 5, 6, 7, 8, 9, 0, 1,\n",
       "       2, 3, 4, 5, 6, 7, 8, 9, 0, 1, 2, 3, 4, 5, 6, 7, 8, 9, 0, 1, 2, 3,\n",
       "       4, 5, 6, 7, 8, 9, 0, 1, 2, 3, 4, 5, 6, 7])"
      ]
     },
     "execution_count": 43,
     "metadata": {},
     "output_type": "execute_result"
    }
   ],
   "source": [
    "np.arange(np.flatnonzero(mask).size) % 10"
   ]
  },
  {
   "cell_type": "code",
   "execution_count": null,
   "metadata": {},
   "outputs": [],
   "source": []
  },
  {
   "cell_type": "code",
   "execution_count": 31,
   "metadata": {},
   "outputs": [
    {
     "data": {
      "text/plain": [
       "array([  50,   52,   82,  146,  153,  162,  270,  281,  305,  908,  933,\n",
       "       1224, 1373, 1562, 1569, 1670, 1779])"
      ]
     },
     "execution_count": 31,
     "metadata": {},
     "output_type": "execute_result"
    }
   ],
   "source": [
    "u"
   ]
  },
  {
   "cell_type": "code",
   "execution_count": null,
   "metadata": {},
   "outputs": [],
   "source": []
  },
  {
   "cell_type": "code",
   "execution_count": null,
   "metadata": {},
   "outputs": [],
   "source": []
  },
  {
   "cell_type": "code",
   "execution_count": null,
   "metadata": {},
   "outputs": [],
   "source": []
  },
  {
   "cell_type": "code",
   "execution_count": null,
   "metadata": {},
   "outputs": [],
   "source": [
    "import pandas as pd\n",
    "from itertools import count\n",
    "\n",
    "\n",
    "input_train='./aozora_datasets_min/train_author_novel.csv'\n",
    "df_train = pd.read_csv(input_train)"
   ]
  },
  {
   "cell_type": "code",
   "execution_count": null,
   "metadata": {},
   "outputs": [],
   "source": []
  },
  {
   "cell_type": "code",
   "execution_count": null,
   "metadata": {},
   "outputs": [],
   "source": [
    "rarewords"
   ]
  },
  {
   "cell_type": "code",
   "execution_count": null,
   "metadata": {},
   "outputs": [],
   "source": []
  },
  {
   "cell_type": "code",
   "execution_count": null,
   "metadata": {},
   "outputs": [],
   "source": []
  },
  {
   "cell_type": "code",
   "execution_count": null,
   "metadata": {},
   "outputs": [],
   "source": [
    "def remove_maybe_replace_rarewords(corpus, rarewords, token='<UNK>', probability=0.05):\n",
    "    implies = dict.fromkeys(rarewords, True).get\n",
    "    subcorpus = [list(filter(implies, doc)) for doc in corpus]\n",
    "    adj_factor = len(corpus) / sum(map(any, subcorpus)) / 2\n",
    "    for doc, subdoc in zip(corpus, subcorpus):\n",
    "        if subdoc and np.random.random() < probability * adj_factor:\n",
    "            rareword = np.random.choice(subdoc)\n",
    "            replace = lambda word: {rareword: token}.get(word, word)\n",
    "            doc = map(replace, doc)\n",
    "        yield list(filterfalse(implies, doc))\n"
   ]
  }
 ],
 "metadata": {
  "kernelspec": {
   "display_name": "Python 3",
   "language": "python",
   "name": "python3"
  },
  "language_info": {
   "codemirror_mode": {
    "name": "ipython",
    "version": 3
   },
   "file_extension": ".py",
   "mimetype": "text/x-python",
   "name": "python",
   "nbconvert_exporter": "python",
   "pygments_lexer": "ipython3",
   "version": "3.7.5"
  }
 },
 "nbformat": 4,
 "nbformat_minor": 2
}
